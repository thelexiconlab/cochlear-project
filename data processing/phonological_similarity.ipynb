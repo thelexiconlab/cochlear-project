{
 "cells": [
  {
   "cell_type": "markdown",
   "metadata": {},
   "source": [
    "# checking if phonological similarity is same for phon_matrix"
   ]
  },
  {
   "cell_type": "code",
   "execution_count": 1,
   "metadata": {},
   "outputs": [],
   "source": [
    "import numpy as np\n",
    "import scipy\n",
    "import pandas as pd\n",
    "import nltk\n",
    "from functools import lru_cache\n",
    "from itertools import product as iterprod\n",
    "import re\n",
    "from tqdm import tqdm"
   ]
  },
  {
   "cell_type": "code",
   "execution_count": 2,
   "metadata": {},
   "outputs": [],
   "source": [
    "''' Phonological Func'''\n",
    "\n",
    "class phonology_funcs:\n",
    "    '''\n",
    "        Description: \n",
    "            This class contains functions to generate phonemes from a list of words and create a phonological similarity matrix.\n",
    "            Code has been adapted from the following link: https://stackoverflow.com/questions/33666557/get-phonemes-from-any-word-in-python-nltk-or-other-modules\n",
    "        Functions:\n",
    "            (1) load_arpabet(): loads and returns the arpabet dictionary from the NLTK CMU dictionary\n",
    "            (2) wordbreak(s, arpabet): takes in a word (str) and an arpabet dictionary and returns a list of phonemes\n",
    "            (3) normalized_edit_distance(w1, w2): takes in two strings (w1, w2) and returns the normalized edit distance between them\n",
    "            (3) create_phonological_matrix: takes in a list of labels (size N) and returns a phonological similarity matrix (NxN np.array)\n",
    "    '''\n",
    "    @lru_cache()\n",
    "    def wordbreak(s):\n",
    "        '''\n",
    "            Description:\n",
    "                Takes in a word (str) and an arpabet dictionary and returns a list of phonemes\n",
    "            Args:\n",
    "                (1) s (str): string to be broken into phonemes\n",
    "            Returns:\n",
    "                (1) phonemes (list, size: variable): list of phonemes in s \n",
    "        '''\n",
    "        try:\n",
    "            arpabet = nltk.corpus.cmudict.dict()\n",
    "        except LookupError:\n",
    "            nltk.download('cmudict')\n",
    "            arpabet = nltk.corpus.cmudict.dict()\n",
    "                \n",
    "        s = s.lower()\n",
    "        if s in arpabet:\n",
    "            return arpabet[s]\n",
    "        middle = len(s)/2\n",
    "        partition = sorted(list(range(len(s))), key=lambda x: (x-middle)**2-x)\n",
    "        for i in partition:\n",
    "            pre, suf = (s[:i], s[i:])\n",
    "            if pre in arpabet and phonology_funcs.wordbreak(suf) is not None:\n",
    "                return [x+y for x,y in iterprod(arpabet[pre], phonology_funcs.wordbreak(suf))]\n",
    "        return None\n",
    "\n",
    "    def normalized_edit_distance(w1, w2):\n",
    "        '''\n",
    "            Description: \n",
    "                Takes in two strings (w1, w2) and returns the normalized edit distance between them\n",
    "            Args:\n",
    "                (1) w1 (str): first word\n",
    "                (2) w2 (str): second word\n",
    "            Returns:\n",
    "                (1) normalized_edit_distance (float): normalized edit distance between w1 and w2\n",
    "        '''\n",
    "        return round(1-nltk.edit_distance(w1,w2)/(max(len(w1), len(w2))),4)\n",
    "\n",
    "    def create_phonological_matrix(labels, path_for_lexical_data):\n",
    "        '''\n",
    "            Description:\n",
    "                Takes in a list of labels (size N) and returns a phonological similarity matrix (NxN np.array)\n",
    "            Args:\n",
    "                (1) labels: a list of words matching the size of your search space (list of length N)\n",
    "            Returns: \n",
    "                (1) phonological_matrix: phonological similarity matrix (NxN np.array)\n",
    "        '''\n",
    "        labels = [re.sub('[^a-zA-Z]+', '', str(v)) for v in labels]\n",
    "        sim = np.zeros((len(labels), len(labels)))\n",
    "        for i in tqdm(range(len(labels))):\n",
    "            for j in range(i):\n",
    "                sim[i, j] = phonology_funcs.normalized_edit_distance(phonology_funcs.wordbreak(labels[i])[0], phonology_funcs.wordbreak(labels[j])[0])\n",
    "        sim = sim + sim.T\n",
    "        np.fill_diagonal(sim, 1)\n",
    "        # convert to dataframe without header or index\n",
    "        phon_matrix_df = pd.DataFrame(sim)\n",
    "        phon_matrix_df.to_csv('data processing/Lexical Data/speech2vec/phon_matrix.csv', header=False, index=False)\n",
    "        phon_matrix_df.to_csv('data processing/Lexical Data/word2vec/phon_matrix.csv', header = False, index = False)\n",
    "        # phon_matrix_df.to_csv(path_for_lexical_data + '/USE_phon_matrix.csv', header=False, index=False)\n",
    "        return sim\n"
   ]
  },
  {
   "cell_type": "code",
   "execution_count": 3,
   "metadata": {},
   "outputs": [
    {
     "name": "stdout",
     "output_type": "stream",
     "text": [
      "0.125\n"
     ]
    }
   ],
   "source": [
    "words = [\"adder\", \"albatross\"]\n",
    "\n",
    "num = phonology_funcs.normalized_edit_distance(phonology_funcs.wordbreak(words[0])[0], phonology_funcs.wordbreak(words[1])[0])\n",
    "print(num)"
   ]
  },
  {
   "cell_type": "code",
   "execution_count": 4,
   "metadata": {},
   "outputs": [
    {
     "name": "stdout",
     "output_type": "stream",
     "text": [
      "0.2857\n"
     ]
    }
   ],
   "source": [
    "num = phonology_funcs.normalized_edit_distance(phonology_funcs.wordbreak(\"alligator\")[0], phonology_funcs.wordbreak(words[0])[0])\n",
    "print(num)"
   ]
  },
  {
   "cell_type": "code",
   "execution_count": null,
   "metadata": {},
   "outputs": [],
   "source": []
  }
 ],
 "metadata": {
  "kernelspec": {
   "display_name": "base",
   "language": "python",
   "name": "python3"
  },
  "language_info": {
   "codemirror_mode": {
    "name": "ipython",
    "version": 3
   },
   "file_extension": ".py",
   "mimetype": "text/x-python",
   "name": "python",
   "nbconvert_exporter": "python",
   "pygments_lexer": "ipython3",
   "version": "3.9.7"
  },
  "orig_nbformat": 4
 },
 "nbformat": 4,
 "nbformat_minor": 2
}
