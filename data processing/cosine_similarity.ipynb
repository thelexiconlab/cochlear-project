{
 "cells": [
  {
   "cell_type": "markdown",
   "metadata": {},
   "source": [
    "### Calculating cosine similarity of words "
   ]
  },
  {
   "cell_type": "code",
   "execution_count": 5,
   "metadata": {},
   "outputs": [],
   "source": [
    "import pandas as pd \n",
    "import numpy as np \n",
    "from numpy.linalg import norm \n",
    "\n"
   ]
  },
  {
   "cell_type": "code",
   "execution_count": 8,
   "metadata": {},
   "outputs": [],
   "source": [
    "\n",
    "word2vec = pd.read_csv(\"300_dim_results/Lexical Data/word2vec/embeddings.csv\")\n",
    "speech2vec = pd.read_csv(\"300_dim_results/Lexical Data/speech2vec/embeddings.csv\")\n",
    "\n",
    "\n",
    "def cosine_similarity(word1, word2, model): \n",
    "    \n",
    "    if word1 == word2: \n",
    "        return 1\n",
    "    else: \n",
    "        if model == 'word2vec': \n",
    "            A = np.array(word2vec[word1]) \n",
    "            B = np.array(word2vec[word2]) \n",
    "            return np.dot(A,B) / (norm(A) * norm(B))\n",
    "        else: \n",
    "            A = np.array(speech2vec[word1]) \n",
    "            B = np.array(speech2vec[word2])\n",
    "            return np.dot(A,B) / (norm(A) * norm(B)) "
   ]
  },
  {
   "cell_type": "code",
   "execution_count": 9,
   "metadata": {},
   "outputs": [
    {
     "name": "stdout",
     "output_type": "stream",
     "text": [
      "['cat-dog', 0.43674323852735714, 0.4305070683486724]\n",
      "['cat-bat', 0.29643653302560075, 0.2415369285689732]\n",
      "['mouse-mole', 0.43075947325644276, 0.4363545751284944]\n",
      "['cat-dolphin', 0.23194168658306388, 0.26512326053393215]\n",
      "['cat-ant', 0.3161711866581563, 0.33857118031066646]\n",
      "['cat-gnat', 0.32304521329800356, 0.3311675520325097]\n",
      "['cat-tiger', 0.35734311224426685, 0.30401148018678487]\n"
     ]
    }
   ],
   "source": [
    "\n",
    "words = [(\"cat\", \"dog\"), (\"cat\", \"bat\"), (\"mouse\", \"mole\"), (\"cat\", \"dolphin\"), (\"cat\", \"ant\"), (\"cat\", \"gnat\"), (\"cat\", \"tiger\")]\n",
    "data = []\n",
    "for word in words: \n",
    "    sim_list = [] \n",
    "    sim_list += [word[0] + \"-\" + word[1]]\n",
    "    sim_list += [cosine_similarity(word[0], word[1], \"word2vec\")]\n",
    "    sim_list += [cosine_similarity(word[0], word[1], \"speech2vec\")]\n",
    "    print(sim_list)\n",
    "    data += [sim_list]\n",
    "    \n",
    "similarity_table = pd.DataFrame(data, columns=[\"words\", \"word2vec cosine similarity\", \"speech2vec cosine similarity\"])\n",
    "\n",
    "\n",
    "similarity_table.to_csv(\"300_dim_results/table_of_similarities.csv\", index = False)\n"
   ]
  }
 ],
 "metadata": {
  "kernelspec": {
   "display_name": "base",
   "language": "python",
   "name": "python3"
  },
  "language_info": {
   "codemirror_mode": {
    "name": "ipython",
    "version": 3
   },
   "file_extension": ".py",
   "mimetype": "text/x-python",
   "name": "python",
   "nbconvert_exporter": "python",
   "pygments_lexer": "ipython3",
   "version": "3.9.7"
  },
  "orig_nbformat": 4
 },
 "nbformat": 4,
 "nbformat_minor": 2
}
