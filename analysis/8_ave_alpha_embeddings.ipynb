{
 "cells": [
  {
   "cell_type": "markdown",
   "metadata": {},
   "source": [
    "# Getting the embeddings for the average and alpha values of speech2vec and word2vec "
   ]
  },
  {
   "cell_type": "code",
   "execution_count": 15,
   "metadata": {},
   "outputs": [],
   "source": [
    "import pandas as pd \n",
    "import numpy as np \n",
    "import os \n",
    "import shutil \n",
    "import matplotlib as mpl\n"
   ]
  },
  {
   "cell_type": "markdown",
   "metadata": {},
   "source": [
    "### Getting average for 50, 100, 200, 300 dimensions"
   ]
  },
  {
   "cell_type": "code",
   "execution_count": 9,
   "metadata": {},
   "outputs": [
    {
     "name": "stdout",
     "output_type": "stream",
     "text": [
      "['50_dim/50_average/Lexical Data/', '100_dim/100_average/Lexical Data/', '200_dim/200_average/Lexical Data/', '300_dim/300_average/Lexical Data/']\n",
      "['50_dim/50_original/Lexical Data/', '100_dim/100_original/Lexical Data/', '200_dim/200_original/Lexical Data/', '300_dim/300_original/Lexical Data/']\n"
     ]
    }
   ],
   "source": [
    "'''Creating directory for the average for 50, 100, 200, 300 dimensions'''\n",
    "\n",
    "dim_paths = ['50_dim/', '100_dim/', '200_dim/', '300_dim/']\n",
    "\n",
    "dim_ave_directory = ['50_average/', '100_average/', '200_average/', '300_average/']\n",
    "\n",
    "directories = [\"Lexical Data\", \"results\"]\n",
    "\n",
    "ave_path_list = [] \n",
    "\n",
    "\n",
    "for i in range(len(dim_paths)):\n",
    "    # for directory in directories: \n",
    "    #     path = os.path.join(dim_paths[i], dim_ave_directory[i], directory)\n",
    "        # os.makedirs(path)\n",
    "    \n",
    "    path = os.path.join(dim_paths[i], dim_ave_directory[i], directories[0])\n",
    "    ave_path_list += [path]        \n",
    "        \n",
    "ave_path_list = [x + '/' for x in ave_path_list]\n",
    "\n",
    "print(ave_path_list)\n",
    "\n",
    "'''Obtaining list of paths for original for 50, 100, 200, 300'''\n",
    "\n",
    "dim_paths = ['50_dim/', '100_dim/', '200_dim/', '300_dim/']\n",
    "\n",
    "dim_original_directory = ['50_original/', '100_original/', '200_original/', '300_original/']\n",
    "\n",
    "directories = [\"Lexical Data\", \"results\"]\n",
    "\n",
    "original_path_list = [] \n",
    "\n",
    "\n",
    "for i in range(len(dim_paths)):\n",
    "    # for directory in directories: \n",
    "    #     path = os.path.join(dim_paths[i], dim_ave_directory[i], directory)\n",
    "        # os.makedirs(path)\n",
    "    \n",
    "    path = os.path.join(dim_paths[i], dim_original_directory[i], directories[0])\n",
    "    original_path_list += [path]        \n",
    "        \n",
    "original_path_list = [x + '/' for x in original_path_list]\n",
    "\n",
    "print(original_path_list)\n"
   ]
  },
  {
   "cell_type": "code",
   "execution_count": 21,
   "metadata": {},
   "outputs": [
    {
     "name": "stdout",
     "output_type": "stream",
     "text": [
      "True\n",
      "True\n",
      "True\n",
      "True\n"
     ]
    }
   ],
   "source": [
    "'''Using 50, 100, 200, 300 embeddings and get average embedding for both'''\n",
    "\n",
    "original_path_list = original_path_list # ex. ['50_dim/50_original/Lexical Data/', '100_dim/100_original/Lexical Data/', '200_dim/200_original/Lexical Data/', '300_dim/300_original/Lexical Data/']\n",
    "\n",
    "language_models = ['word2vec/embeddings.csv', 'speech2vec/embeddings.csv']\n",
    "\n",
    "for a in range(len(original_path_list)): \n",
    "    #read embeddings files from w2v and s2v directories \n",
    "    w2v_embeddings = pd.read_csv(original_path_list[a] + language_models[0])\n",
    "    s2v_embeddings = pd.read_csv(original_path_list[a] + language_models[1])\n",
    "\n",
    "    #list of words in embeddings.csv\n",
    "    word_list = list(pd.read_csv(\"50_dim/50_original/Lexical Data/speech2vec/embeddings.csv\").columns)\n",
    "    w = list(pd.read_csv(\"50_dim/50_original/Lexical Data/word2vec/embeddings.csv\").columns)\n",
    "\n",
    "    print(word_list == w)\n",
    "    #create ave embeddings dataframe \n",
    "    ave_embeddings = pd.DataFrame(columns=word_list)\n",
    "    \n",
    "    \n",
    "\n"
   ]
  },
  {
   "cell_type": "markdown",
   "metadata": {},
   "source": []
  }
 ],
 "metadata": {
  "kernelspec": {
   "display_name": "base",
   "language": "python",
   "name": "python3"
  },
  "language_info": {
   "codemirror_mode": {
    "name": "ipython",
    "version": 3
   },
   "file_extension": ".py",
   "mimetype": "text/x-python",
   "name": "python",
   "nbconvert_exporter": "python",
   "pygments_lexer": "ipython3",
   "version": "3.9.7"
  }
 },
 "nbformat": 4,
 "nbformat_minor": 2
}
