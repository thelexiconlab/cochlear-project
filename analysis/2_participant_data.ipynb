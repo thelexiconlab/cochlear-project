{
 "cells": [
  {
   "cell_type": "markdown",
   "metadata": {},
   "source": [
    "# Participant Data analysis \n"
   ]
  },
  {
   "cell_type": "markdown",
   "metadata": {},
   "source": [
    "### Some participant ID may not be either CI or NH, find who is neither. \n",
    "- review how many participants in .txt ifle have a group designation in latest_demo.csv(CI vs. NH) in the data folder. \n",
    "### Crate table, how many words were produced by the NH and CI groups (get average of participants in each group) "
   ]
  },
  {
   "cell_type": "code",
   "execution_count": null,
   "metadata": {},
   "outputs": [],
   "source": [
    "import pandas as pd\n",
    "import numpy as np\n"
   ]
  },
  {
   "cell_type": "code",
   "execution_count": null,
   "metadata": {},
   "outputs": [],
   "source": [
    "latest_demo = pd.read_csv(\"Raw Data/latest_demo.csv\")\n",
    "latest_demo"
   ]
  },
  {
   "cell_type": "code",
   "execution_count": null,
   "metadata": {},
   "outputs": [],
   "source": [
    "data_cochlear = pd.read_csv(\"Raw Data/data-cochlear.txt\", delimiter= \"\\t\")\n",
    "words = data_cochlear[\"Word\"].tolist()\n",
    "data_cochlear\n",
    "\n"
   ]
  },
  {
   "cell_type": "markdown",
   "metadata": {},
   "source": [
    "### How many participants in data-cochlear.txt have a group designation in latest_demo.csv\n"
   ]
  },
  {
   "cell_type": "code",
   "execution_count": null,
   "metadata": {},
   "outputs": [],
   "source": [
    "participants_findings = pd.DataFrame()\n",
    "\n",
    "\n",
    "#Unique IDs in data-cochlear.txt\n",
    "participants = sorted(list(set(data_cochlear[\"ID\"].tolist())))\n",
    "print(participants)\n",
    "\n",
    "participants_findings[\"Original ID\"] = participants\n",
    "\n",
    "\n",
    "#Participants list with only numbers. \n",
    "modified_participants = []\n",
    "for part in participants: \n",
    "    modified_participants += [int(part[4:])]\n",
    "    \n",
    "participants_findings[\"Modified ID\"] = modified_participants\n",
    "#getting the number of responses by the participant ID. \n",
    "\n",
    "\n",
    "\n",
    "#Getting the groups for data-cochlear\n",
    "\n",
    "#iterating and checking the \n",
    "groups = []\n",
    "for id in modified_participants: \n",
    "    target = id\n",
    "    \n",
    "    condition = latest_demo[\"ID\"] == id \n",
    "    \n",
    "    if condition.any():\n",
    "        group = latest_demo.loc[condition, 'Group'].values[0]\n",
    "        groups += [group] \n",
    "    else: \n",
    "        groups += [\"no group\"]\n",
    "print(groups)\n",
    "partcipants_dict = {participants[i]: groups[i] for i in range(len(participants))}\n",
    "print(partcipants_dict.items())\n",
    "\n",
    "\n",
    "participants_findings[\"Group\"] = groups\n",
    "participants_findings.to_csv(\"Findings/participants_findings.csv\")"
   ]
  },
  {
   "cell_type": "markdown",
   "metadata": {},
   "source": [
    "### regroup the participants into three groups: without_group, NH, CI "
   ]
  },
  {
   "cell_type": "code",
   "execution_count": null,
   "metadata": {},
   "outputs": [],
   "source": [
    "#Number of individuals without a group designation \n",
    "\n",
    "without_group = []\n",
    "NH = []\n",
    "CI = [] \n",
    "i = 0 \n",
    "while i < len(participants):\n",
    "    if groups[i] == \"no group\":\n",
    "        without_group += [participants[i]]\n",
    "    if groups[i] == \"NH\": \n",
    "        NH += [participants[i]]\n",
    "    if groups[i] == \"CI\":\n",
    "        CI += [participants[i]]\n",
    "    i += 1 \n",
    "    \n",
    "print(without_group)\n",
    "print(len(without_group))\n",
    "print(\"--------------------\")\n",
    "\n",
    "print(NH)\n",
    "print(len(NH))\n",
    "print(\"-------------\")\n",
    "\n",
    "print(CI) \n",
    "print(len(CI))\n",
    "\n",
    "\n",
    "\n",
    "\n"
   ]
  },
  {
   "cell_type": "markdown",
   "metadata": {},
   "source": [
    "### Separating the groups and creating 3 txt files for without_groups, NH, CI \n"
   ]
  },
  {
   "cell_type": "code",
   "execution_count": null,
   "metadata": {},
   "outputs": [],
   "source": [
    "with open(\"Raw Data/data-cochlear.txt\", \"r\") as contents: \n",
    "    first = contents.readline()\n",
    "    lines = contents.readlines()\n",
    "    \n",
    "\n",
    "without_groups_data =[]\n",
    "NH_data = []\n",
    "CI_data = []\n",
    "\n",
    "\n",
    "for line in lines: \n",
    "    if line[0:7] in without_group: \n",
    "        without_groups_data += [line]\n",
    "    elif line[0:7] in NH: \n",
    "        NH_data += [line] \n",
    "    elif line[0:7] in CI: \n",
    "        CI_data += [line]\n",
    "\n",
    "with open(\"Participant Data/NO-ID-cochlear-data.txt\", \"w\") as contents: \n",
    "    contents.write(\"ID\\tWord\\n\")\n",
    "    for item in without_groups_data: \n",
    "        contents.write(item)\n",
    "        \n",
    "\n",
    "\n",
    "with open(\"Participant Data/NH-cochlear-data.txt\", \"w\") as f: \n",
    "    f.write(\"ID\\tWord\\n\")\n",
    "    for item in NH_data: \n",
    "        f.write(item)\n",
    "\n",
    "\n",
    "with open(\"Participant Data/CI-cochlear-data.txt\", \"w\") as c: \n",
    "    c.write(\"ID\\tWord\\n\")\n",
    "    for item in CI_data: \n",
    "        c.write(item)\n",
    "        \n",
    "print(without_groups_data)\n",
    "print(NH_data)\n",
    "print(CI_data)\n",
    "\n",
    "# created separate data for no group, nh, and ci \n"
   ]
  },
  {
   "cell_type": "markdown",
   "metadata": {},
   "source": [
    "### Counting the number of words produced from NH and CI "
   ]
  },
  {
   "cell_type": "code",
   "execution_count": null,
   "metadata": {},
   "outputs": [],
   "source": [
    "NH_words = pd.read_csv(\"Participant Data/NH-cochlear-data.txt\", delimiter=\"\\t\")\n",
    "CI_words = pd.read_csv(\"Participant Data/CI-cochlear-data.txt\", delimiter=\"\\t\")\n",
    "\n",
    "# NH_words.describe()\n",
    "# CI_words.describe()\n",
    "\n",
    "\n",
    "\n",
    "NH_dict = {NH[i]: 0 for i in range(len(NH))}\n",
    "CI_dict = {CI[i]: 0 for i in range(len(CI))}\n",
    "\n",
    "for line in NH_data: \n",
    "    NH_dict[line[0:7]] += 1\n",
    "\n",
    "for line in CI_data:\n",
    "    CI_dict[line[0:7]] += 1 \n",
    "\n",
    "\n",
    "word_findings = pd.DataFrame(list(zip(NH_dict.keys(), NH_dict.values(), CI_dict.keys(), CI_dict.values())), columns=['NH ID', 'NH Word Count', 'CI ID', 'CI Word Count'])\n",
    "\n",
    "word_findings.to_csv(\"Findings/word_findings.csv\")\n",
    "\n"
   ]
  },
  {
   "cell_type": "markdown",
   "metadata": {},
   "source": [
    "## Creating a Modified participant data with replacments (ex. chimp -> chimpanzee -> primate)"
   ]
  },
  {
   "cell_type": "code",
   "execution_count": 4,
   "metadata": {},
   "outputs": [],
   "source": [
    "import pandas as pd \n",
    "\n",
    "data = pd.read_csv(\"Participant Data/data-cochlear.txt\",delimiter=\"\\t\")\n",
    "replacements = pd.read_csv(\"Findings/data-cochlear-replacements.csv\")\n",
    "NO_ID = ['CAN-667', 'CAU-667', 'SFZ-149', 'SOA-317']\n",
    "for id in NO_ID: \n",
    "    data = data.drop(data[data['ID'] == id].index)\n",
    "    replacements = replacements.drop(replacements[replacements['ID'] == id].index)\n",
    "\n",
    "replacements = replacements.drop(replacements[replacements['Word'] == 'stickforn'].index)\n",
    "replacements = replacements.drop(replacements[replacements['Word'] == 'UNKNOWN'].index)\n",
    "\n",
    "replacements.to_csv(\"Findings/data-cochlear-replacements.csv\")\n",
    "\n",
    "id = data[\"ID\"].tolist()\n",
    "words = data['Word'].tolist() \n",
    "\n",
    "modified = replacements['Modified'].tolist()\n",
    "\n",
    "in_s2v = replacements['In W2V/S2v'].tolist()\n",
    "\n",
    "replacement = replacements['chosen_replacement'].tolist()\n",
    "\n",
    "i = 0 \n",
    "while i < len(words): \n",
    "    if in_s2v[i] == 'no': \n",
    "        modified[i] = replacement[i]\n",
    "    i += 1\n",
    "new_participant_data = pd.DataFrame(data= list(zip(id, modified)), columns = ['ID', 'Word'])\n",
    "new_participant_data.to_csv(\"Participant Data/new_data.csv\", index = False)"
   ]
  },
  {
   "cell_type": "code",
   "execution_count": null,
   "metadata": {},
   "outputs": [],
   "source": []
  }
 ],
 "metadata": {
  "kernelspec": {
   "display_name": "base",
   "language": "python",
   "name": "python3"
  },
  "language_info": {
   "codemirror_mode": {
    "name": "ipython",
    "version": 3
   },
   "file_extension": ".py",
   "mimetype": "text/x-python",
   "name": "python",
   "nbconvert_exporter": "python",
   "pygments_lexer": "ipython3",
   "version": "3.12.0"
  },
  "orig_nbformat": 4
 },
 "nbformat": 4,
 "nbformat_minor": 2
}
