{
 "cells": [
  {
   "cell_type": "markdown",
   "metadata": {},
   "source": [
    "# Creating a stats dataframe for the embeddings made with forager "
   ]
  },
  {
   "cell_type": "code",
   "execution_count": 13,
   "metadata": {},
   "outputs": [],
   "source": [
    "import numpy as np \n",
    "import pandas as pd \n",
    "from statistics import mean "
   ]
  },
  {
   "cell_type": "code",
   "execution_count": 2,
   "metadata": {},
   "outputs": [
    {
     "name": "stdout",
     "output_type": "stream",
     "text": [
      "{211: 'CI', 234: 'CI', 300: 'CI', 308: 'CI', 310: 'CI', 312: 'CI', 320: 'CI', 329: 'CI', 335: 'CI', 338: 'CI', 344: 'CI', 390: 'CI', 450: 'CI', 452: 'CI', 483: 'CI', 520: 'CI', 544: 'CI', 556: 'CI', 558: 'CI', 563: 'CI', 570: 'CI', 587: 'CI', 672: 'NH', 673: 'NH', 674: 'NH', 681: 'NH', 698: 'NH', 702: 'NH', 707: 'NH', 711: 'NH', 715: 'NH', 720: 'NH', 722: 'NH', 724: 'NH', 726: 'NH', 730: 'NH', 744: 'NH', 753: 'NH', 754: 'NH', 759: 'NH', 764: 'NH', 767: 'NH', 781: 'CI', 721: 'NH', 657: 'NH', 666: 'NH', 671: 'NH', 686: 'NH', 691: 'NH', 693: 'NH', 697: 'NH', 663: 'NH', 678: 'NH', 498: 'CI', 539: 'CI', 340: 'CI', 436: 'CI', 401: 'CI', 315: 'CI', 159: 'CI'}\n"
     ]
    }
   ],
   "source": [
    "#group_dict for a dictionary with participant id as key and grouping as values \n",
    "participant_demographic = pd.read_csv(\"Raw Data/latest_demo.csv\")\n",
    "participant_demographic\n",
    "\n",
    "ID = participant_demographic[\"ID\"].tolist()\n",
    "Group = participant_demographic[\"Group\"].tolist()\n",
    "group_dict = dict(zip(ID, Group))\n",
    "\n",
    "print(group_dict)\n"
   ]
  },
  {
   "cell_type": "code",
   "execution_count": 22,
   "metadata": {},
   "outputs": [],
   "source": [
    "''' adding group column into the csv file'''\n",
    "forager_ind_stats = pd.read_csv(\"forager_embedding_results/model_results.csv\")\n",
    "\n",
    "#get the list of subjects and create a new list for their groupings \n",
    "#word2vec first \n",
    "forager_subjects = forager_ind_stats[\"Subject\"].tolist()\n",
    "forager_groupings = [] \n",
    "\n",
    "for index, row in forager_ind_stats.iterrows(): \n",
    "    forager_groupings += [group_dict[int(row['Subject'][4:])]]\n",
    "\n",
    "forager_ind_stats['Group'] = forager_groupings\n",
    "\n",
    "forager_ind_stats.to_csv(\"forager_embedding_results/model_results.csv\", index = False)\n",
    "\n",
    "\n"
   ]
  },
  {
   "cell_type": "markdown",
   "metadata": {},
   "source": [
    "### Individual_descriptive dataframe "
   ]
  },
  {
   "cell_type": "code",
   "execution_count": 20,
   "metadata": {},
   "outputs": [],
   "source": [
    "#Individidual_descriptive dataframe => dimension_switch_results \n",
    "switch_results = pd.DataFrame(columns=[\"group\", \"mean_num_switches\", \"mean_cluster_size\", \"mean_semantic_similarity\", \"mean_phonological_similarity\", \"mean_frequency\"])\n",
    "\n",
    "forager_ind_stats = pd.read_csv(\"forager_embedding_results/individual_descriptive_stats.csv\")\n",
    "forager_ind_stats\n",
    "\n",
    "groups = [\"NH\", \"CI\"]\n",
    "stats = [\"mean_num_switches\", \"mean_cluster_size\", \"mean_semantic_similarity\", \"mean_phonological_similarity\", \"mean_frequency\"]\n",
    "stats_label = [\"Number_of_Switches\", \"Cluster_Size_mean\", \"Semantic_Similarity_mean\", \"Phonological_Similarity_mean\", \"Frequency_Value_mean\"]\n",
    "\n",
    "hearing_group = forager_ind_stats.groupby(\"Group\")\n",
    "rows = [] \n",
    "for group in groups: \n",
    "    row = [group]\n",
    "    test_group = hearing_group.get_group(group) \n",
    "    i = 0 \n",
    "    while i < len(stats): \n",
    "        row += [test_group[stats_label[i]].mean()]\n",
    "        i += 1 \n",
    "    rows += [row]\n",
    "\n",
    "\n",
    "for line in rows: \n",
    "    switch_results.loc[len(switch_results)] = line \n",
    "\n",
    "switch_results\n",
    "    \n",
    "switch_results.to_csv(\"forager_embedding_results/dimension_switch_results.csv\", index = False)"
   ]
  },
  {
   "cell_type": "markdown",
   "metadata": {},
   "source": [
    "### Model_results dataframe "
   ]
  },
  {
   "cell_type": "code",
   "execution_count": 25,
   "metadata": {},
   "outputs": [],
   "source": [
    "#model_results dataframe => dimension_model_results \n",
    "dimension_model_results = pd.DataFrame(columns=[\"model\", \"group\", \"sum_NLL\", \"mean_beta_semantic\", \"mean_beta_freq\", \"mean_beta_phon\"])\n",
    "\n",
    "\n",
    "forager_ind_stats = pd.read_csv(\"forager_embedding_results/model_results.csv\")\n",
    "\n",
    "\n",
    "model = [\"Dynamic/Simdrop\", \"Static/None\"]\n",
    "model_label = [\"forage_dynamic_simdrop\", \"forage_static\"]\n",
    "groups = [\"NH\", \"CI\"]\n",
    "stats = [\"sum_NLL\", \"mean_beta_semantic\", \"mean_beta_freq\", \"mean_beta_phon\"]\n",
    "stats_label = [\"Negative_Log_Likelihood_Optimized\", \"Beta_Semantic\", \"Beta_Frequency\", \"Beta_Phonological\"]\n",
    "\n",
    "hearing_group = forager_ind_stats.groupby([\"Group\", \"Model\"])\n",
    "\n",
    "rows = []\n",
    "\n",
    "i = 0 \n",
    "while i < len(model): \n",
    "    for group in groups: \n",
    "        row = [model[i], group]\n",
    "        test_data = hearing_group.get_group((group, model_label[i]))\n",
    "\n",
    "        j = 0 \n",
    "        while j < len(stats): \n",
    "            if j == 0:\n",
    "                row += [test_data[stats_label[j]].sum()]\n",
    "            elif j == len(stats) - 1: \n",
    "                row += [\"n/a\"]\n",
    "            else: \n",
    "                row += [test_data[stats_label[j]].mean()]\n",
    "            j += 1 \n",
    "        rows += [row]\n",
    "    i += 1 \n",
    "            \n",
    "for line in rows: \n",
    "    dimension_model_results.loc[len(dimension_model_results)] = line \n",
    "    \n",
    "    \n",
    "dimension_model_results\n",
    "dimension_model_results.to_csv(\"forager_embedding_results/dimension_model_results.csv\", index = False)"
   ]
  },
  {
   "cell_type": "code",
   "execution_count": null,
   "metadata": {},
   "outputs": [],
   "source": []
  }
 ],
 "metadata": {
  "kernelspec": {
   "display_name": "base",
   "language": "python",
   "name": "python3"
  },
  "language_info": {
   "codemirror_mode": {
    "name": "ipython",
    "version": 3
   },
   "file_extension": ".py",
   "mimetype": "text/x-python",
   "name": "python",
   "nbconvert_exporter": "python",
   "pygments_lexer": "ipython3",
   "version": "3.9.7"
  }
 },
 "nbformat": 4,
 "nbformat_minor": 2
}
