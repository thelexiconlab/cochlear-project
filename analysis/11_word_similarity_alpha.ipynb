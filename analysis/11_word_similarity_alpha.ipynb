{
 "cells": [
  {
   "cell_type": "code",
   "execution_count": 1,
   "metadata": {},
   "outputs": [],
   "source": [
    "def switch_simdrop(fluency_list, semantic_similarity):\n",
    "    '''\n",
    "        Similarity Drop Switch Method from Hills TT, Jones MN, Todd (2012).\n",
    "        \n",
    "        Args:\n",
    "            fluency_list (list, size = L): fluency list to predict switches on\n",
    "            semantic_similarity (list, size = L): a list of semantic similarities between items in the fluency list\n",
    "        Returns:\n",
    "            a list, size L, of switches, where 0 = no switch, 1 = switch, 2 = boundary case\n",
    "    '''\n",
    "    simdrop = []\n",
    "    for k in range(len(fluency_list)):\n",
    "        if (k > 0 and k < (len(fluency_list)-1)): \n",
    "            # simdrop\n",
    "            if (semantic_similarity[k+1] > semantic_similarity[k]) and (semantic_similarity[k-1] > semantic_similarity[k]):\n",
    "                simdrop.append(1)\n",
    "            \n",
    "            else:\n",
    "                simdrop.append(0)\n",
    "\n",
    "        else:\n",
    "            simdrop.append(2)\n",
    "\n",
    "    return simdrop\n",
    "\n"
   ]
  },
  {
   "cell_type": "code",
   "execution_count": null,
   "metadata": {},
   "outputs": [],
   "source": []
  }
 ],
 "metadata": {
  "kernelspec": {
   "display_name": "Python 3",
   "language": "python",
   "name": "python3"
  },
  "language_info": {
   "codemirror_mode": {
    "name": "ipython",
    "version": 3
   },
   "file_extension": ".py",
   "mimetype": "text/x-python",
   "name": "python",
   "nbconvert_exporter": "python",
   "pygments_lexer": "ipython3",
   "version": "3.12.0"
  }
 },
 "nbformat": 4,
 "nbformat_minor": 2
}
