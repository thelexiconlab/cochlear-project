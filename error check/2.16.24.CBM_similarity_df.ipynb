{
 "cells": [
  {
   "cell_type": "markdown",
   "metadata": {},
   "source": [
    "### Creating semantic and phonological similarity for CBM data with pets\n"
   ]
  },
  {
   "cell_type": "code",
   "execution_count": 1,
   "metadata": {},
   "outputs": [
    {
     "name": "stderr",
     "output_type": "stream",
     "text": [
      "/var/folders/s7/md5b66vn4l39df_j063nqlp00000gn/T/ipykernel_22635/180603866.py:2: DeprecationWarning: \n",
      "Pyarrow will become a required dependency of pandas in the next major release of pandas (pandas 3.0),\n",
      "(to allow more performant data types, such as the Arrow string type, and better interoperability with other libraries)\n",
      "but was not found to be installed on your system.\n",
      "If this would cause problems for you,\n",
      "please provide us feedback at https://github.com/pandas-dev/pandas/issues/54466\n",
      "        \n",
      "  import pandas as pd\n"
     ]
    }
   ],
   "source": [
    "import numpy as np \n",
    "import pandas as pd \n",
    "import nltk\n",
    "import scipy\n",
    "from functools import lru_cache\n",
    "from itertools import product as iterprod\n",
    "import re\n",
    "from tqdm import tqdm\n",
    "\n",
    "\n",
    "class phonology_funcs:\n",
    "    '''\n",
    "        Description: \n",
    "            This class contains functions to generate phonemes from a list of words and create a phonological similarity matrix.\n",
    "            Code has been adapted from the following link: https://stackoverflow.com/questions/33666557/get-phonemes-from-any-word-in-python-nltk-or-other-modules\n",
    "        Functions:\n",
    "            (1) load_arpabet(): loads and returns the arpabet dictionary from the NLTK CMU dictionary\n",
    "            (2) wordbreak(s, arpabet): takes in a word (str) and an arpabet dictionary and returns a list of phonemes\n",
    "            (3) normalized_edit_distance(w1, w2): takes in two strings (w1, w2) and returns the normalized edit distance between them\n",
    "            (3) create_phonological_matrix: takes in a list of labels (size N) and returns a phonological similarity matrix (NxN np.array)\n",
    "    '''\n",
    "    @lru_cache()\n",
    "    def wordbreak(s):\n",
    "        '''\n",
    "            Description:\n",
    "                Takes in a word (str) and an arpabet dictionary and returns a list of phonemes\n",
    "            Args:\n",
    "                (1) s (str): string to be broken into phonemes\n",
    "            Returns:\n",
    "                (1) phonemes (list, size: variable): list of phonemes in s \n",
    "        '''\n",
    "        try:\n",
    "            arpabet = nltk.corpus.cmudict.dict()\n",
    "        except LookupError:\n",
    "            nltk.download('cmudict')\n",
    "            arpabet = nltk.corpus.cmudict.dict()\n",
    "                \n",
    "        s = s.lower()\n",
    "        if s in arpabet:\n",
    "            return arpabet[s]\n",
    "        middle = len(s)/2\n",
    "        partition = sorted(list(range(len(s))), key=lambda x: (x-middle)**2-x)\n",
    "        for i in partition:\n",
    "            pre, suf = (s[:i], s[i:])\n",
    "            if pre in arpabet and phonology_funcs.wordbreak(suf) is not None:\n",
    "                return [x+y for x,y in iterprod(arpabet[pre], phonology_funcs.wordbreak(suf))]\n",
    "        return None\n",
    "\n",
    "    def normalized_edit_distance(w1, w2):\n",
    "        '''\n",
    "            Description: \n",
    "                Takes in two strings (w1, w2) and returns the normalized edit distance between them\n",
    "            Args:\n",
    "                (1) w1 (str): first word\n",
    "                (2) w2 (str): second word\n",
    "            Returns:\n",
    "                (1) normalized_edit_distance (float): normalized edit distance between w1 and w2\n",
    "        '''\n",
    "        return round(1-nltk.edit_distance(w1,w2)/(max(len(w1), len(w2))),4)\n",
    "\n",
    "    def phonological_similarity(word1, word2): \n",
    "        phon_sim = phonology_funcs.normalized_edit_distance(phonology_funcs.wordbreak(word1)[0], phonology_funcs.wordbreak(word2)[0])\n",
    "        return phon_sim\n",
    "\n",
    "\n",
    "def semantic_similarity(word1, word2, path_to_embeddings): \n",
    "    embeddings = pd.read_csv(path_to_embeddings)\n",
    "    \n",
    "    word1_embedding = embeddings[word1].T\n",
    "    word2_embedding = embeddings[word2].T\n",
    "    \n",
    "    similarity = 1 - scipy.spatial.distance.cosine(word1_embedding, word2_embedding)\n",
    "    return similarity"
   ]
  },
  {
   "cell_type": "code",
   "execution_count": 2,
   "metadata": {},
   "outputs": [
    {
     "name": "stdout",
     "output_type": "stream",
     "text": [
      "0.2857\n",
      "0.38040077253817817\n"
     ]
    }
   ],
   "source": [
    "''' Tests for the function created above'''\n",
    "b = phonology_funcs.phonological_similarity(\"lion\", \"penguin\")\n",
    "print(b)\n",
    "a = semantic_similarity(\"dolphin\", \"tiger\", \"../forager/data/lexical_data/100_dim_lexical_data/alpha_0.3_w2v/embeddings.csv\")\n",
    "print(a)"
   ]
  },
  {
   "cell_type": "code",
   "execution_count": 3,
   "metadata": {},
   "outputs": [],
   "source": [
    "def create_similarity_table(main_word, path_to_words, path_to_embeddings, path_save_file): \n",
    "    words_list = pd.read_csv(path_to_words, delimiter=\"\\t\")[\"Word\"].values\n",
    "    df = pd.DataFrame()\n",
    "    semantic_similarities = []\n",
    "    phonological_similarities = []\n",
    "    for word in words_list: \n",
    "        semantic_similarities.append(semantic_similarity(main_word, word, path_to_embeddings))\n",
    "        phonological_similarities.append(phonology_funcs.phonological_similarity(main_word, word))\n",
    "    df['Word'] = words_list\n",
    "    df['semantic_similarity'] = semantic_similarities\n",
    "    df['phonological_similarity'] = phonological_similarities\n",
    "    df.to_csv(path_save_file, index=False)\n",
    "    "
   ]
  },
  {
   "cell_type": "code",
   "execution_count": 4,
   "metadata": {},
   "outputs": [],
   "source": [
    "\"../forager/output/CBM with pet/CBM_100_dim_alpha_0.3_w2v_similarities.csv\"\n",
    "\"../forager/output/CBM with pet/CBM_100_dim_alpha_0.2_w2v_similarities.csv\"\n",
    "\n",
    "\n",
    "\"../forager/data/lexical_data/100_dim_lexical_data/alpha_0.2_w2v/embeddings.csv\"\n",
    "\"../forager/data/lexical_data/100_dim_lexical_data/alpha_0.3_w2v/embeddings.csv\"\n",
    "\n",
    "\n",
    "word_path = \"../forager/data/fluency_lists/participant_data/individual participants/CBM_original.txt\"\n"
   ]
  },
  {
   "cell_type": "code",
   "execution_count": 6,
   "metadata": {},
   "outputs": [],
   "source": [
    "create_similarity_table(\"pets\", word_path, \"../forager/data/lexical_data/100_dim_lexical_data/alpha_0.3_w2v/embeddings.csv\", \"../forager/output/CBM with pets/CBM_100_dim_alpha_0.3_w2v_partial_sim.csv\")\n",
    "create_similarity_table(\"pets\", word_path, \"../forager/data/lexical_data/100_dim_lexical_data/alpha_0.2_w2v/embeddings.csv\", \"../forager/output/CBM with pets/CBM_100_dim_alpha_0.2_w2v_partial_sim.csv\")\n",
    "create_similarity_table(\"pets\", word_path, \"../forager/data/lexical_data/100_dim_lexical_data/alpha_0.5_w2v/embeddings.csv\", \"../forager/output/CBM with pets/CBM_100_dim_alpha_0.5_w2v_partial_sim.csv\")"
   ]
  },
  {
   "cell_type": "code",
   "execution_count": 47,
   "metadata": {},
   "outputs": [
    {
     "name": "stdout",
     "output_type": "stream",
     "text": [
      "['tiger' 'dolphin' 'lion' 'penguin' 'bird' 'pigeon' 'woodpecker' 'reptile'\n",
      " 'snake' 'snail' 'goldfish' 'fish' 'dog' 'cat' 'rodents' 'snake' 'pets'\n",
      " 'rabbit' 'reptile' 'polar' 'grizzly' 'bear' 'hedgehog' 'porcupine'\n",
      " 'reptile']\n"
     ]
    }
   ],
   "source": [
    "CBM_no_rep = pd.read_csv(\"../forager/data/fluency_lists/participant_data/individual participants/CBM_modified.txt\", delimiter=\"\\t\")\n",
    "word_list = CBM_no_rep[\"Word\"].values\n",
    "print(word_list)"
   ]
  },
  {
   "cell_type": "markdown",
   "metadata": {},
   "source": [
    "### Getting the list of words without \"pet\" \n"
   ]
  },
  {
   "cell_type": "code",
   "execution_count": 23,
   "metadata": {},
   "outputs": [],
   "source": [
    "transformed_words = pd.read_csv(\"../forager/data/fluency_lists/participant_data/with rep/transformed-data.csv\")\n",
    "rep_no_pet = transformed_words[transformed_words[\"Word\"] != \"pets\"]\n"
   ]
  },
  {
   "cell_type": "code",
   "execution_count": 25,
   "metadata": {},
   "outputs": [],
   "source": [
    "rep_no_pet.to_csv(\"../forager/data/fluency_lists/participant_data/no pets with rep/no-pets.csv\", index=False)"
   ]
  },
  {
   "cell_type": "code",
   "execution_count": 26,
   "metadata": {},
   "outputs": [],
   "source": []
  },
  {
   "cell_type": "code",
   "execution_count": null,
   "metadata": {},
   "outputs": [],
   "source": []
  }
 ],
 "metadata": {
  "kernelspec": {
   "display_name": "ML",
   "language": "python",
   "name": "python3"
  },
  "language_info": {
   "codemirror_mode": {
    "name": "ipython",
    "version": 3
   },
   "file_extension": ".py",
   "mimetype": "text/x-python",
   "name": "python",
   "nbconvert_exporter": "python",
   "pygments_lexer": "ipython3",
   "version": "3.12.0"
  }
 },
 "nbformat": 4,
 "nbformat_minor": 2
}
