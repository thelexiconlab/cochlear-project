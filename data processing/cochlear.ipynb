{
 "cells": [
  {
   "cell_type": "markdown",
   "metadata": {},
   "source": [
    "# Basic information about the SFT of Cochlear project \n",
    "### Word2Vec and Speech2Vec\n"
   ]
  },
  {
   "cell_type": "code",
   "execution_count": 1,
   "metadata": {},
   "outputs": [],
   "source": [
    "import pandas as pd \n",
    "import numpy as np \n",
    "import matplotlib as mp "
   ]
  },
  {
   "cell_type": "markdown",
   "metadata": {},
   "source": [
    "### Responses from Cochlear Data"
   ]
  },
  {
   "cell_type": "code",
   "execution_count": 17,
   "metadata": {},
   "outputs": [
    {
     "data": {
      "text/html": [
       "<div>\n",
       "<style scoped>\n",
       "    .dataframe tbody tr th:only-of-type {\n",
       "        vertical-align: middle;\n",
       "    }\n",
       "\n",
       "    .dataframe tbody tr th {\n",
       "        vertical-align: top;\n",
       "    }\n",
       "\n",
       "    .dataframe thead th {\n",
       "        text-align: right;\n",
       "    }\n",
       "</style>\n",
       "<table border=\"1\" class=\"dataframe\">\n",
       "  <thead>\n",
       "    <tr style=\"text-align: right;\">\n",
       "      <th></th>\n",
       "      <th>ID</th>\n",
       "      <th>Word</th>\n",
       "    </tr>\n",
       "  </thead>\n",
       "  <tbody>\n",
       "    <tr>\n",
       "      <th>0</th>\n",
       "      <td>CAF-657</td>\n",
       "      <td>lizard</td>\n",
       "    </tr>\n",
       "    <tr>\n",
       "      <th>1</th>\n",
       "      <td>CAF-657</td>\n",
       "      <td>cat</td>\n",
       "    </tr>\n",
       "    <tr>\n",
       "      <th>2</th>\n",
       "      <td>CAF-657</td>\n",
       "      <td>hawk</td>\n",
       "    </tr>\n",
       "    <tr>\n",
       "      <th>3</th>\n",
       "      <td>CAF-657</td>\n",
       "      <td>dog</td>\n",
       "    </tr>\n",
       "    <tr>\n",
       "      <th>4</th>\n",
       "      <td>CAF-657</td>\n",
       "      <td>turtle</td>\n",
       "    </tr>\n",
       "    <tr>\n",
       "      <th>...</th>\n",
       "      <td>...</td>\n",
       "      <td>...</td>\n",
       "    </tr>\n",
       "    <tr>\n",
       "      <th>1302</th>\n",
       "      <td>SZA-781</td>\n",
       "      <td>puppy</td>\n",
       "    </tr>\n",
       "    <tr>\n",
       "      <th>1303</th>\n",
       "      <td>SZA-781</td>\n",
       "      <td>kitten</td>\n",
       "    </tr>\n",
       "    <tr>\n",
       "      <th>1304</th>\n",
       "      <td>SZA-781</td>\n",
       "      <td>goose</td>\n",
       "    </tr>\n",
       "    <tr>\n",
       "      <th>1305</th>\n",
       "      <td>SZA-781</td>\n",
       "      <td>duck</td>\n",
       "    </tr>\n",
       "    <tr>\n",
       "      <th>1306</th>\n",
       "      <td>SZA-781</td>\n",
       "      <td>wolf</td>\n",
       "    </tr>\n",
       "  </tbody>\n",
       "</table>\n",
       "<p>1307 rows × 2 columns</p>\n",
       "</div>"
      ],
      "text/plain": [
       "           ID    Word\n",
       "0     CAF-657  lizard\n",
       "1     CAF-657     cat\n",
       "2     CAF-657    hawk\n",
       "3     CAF-657     dog\n",
       "4     CAF-657  turtle\n",
       "...       ...     ...\n",
       "1302  SZA-781   puppy\n",
       "1303  SZA-781  kitten\n",
       "1304  SZA-781   goose\n",
       "1305  SZA-781    duck\n",
       "1306  SZA-781    wolf\n",
       "\n",
       "[1307 rows x 2 columns]"
      ]
     },
     "execution_count": 17,
     "metadata": {},
     "output_type": "execute_result"
    }
   ],
   "source": [
    "cochlear_data_path = \"data-cochlear.txt\"\n",
    "cochlear_df = pd.read_csv(cochlear_data_path, delimiter='\\t')\n",
    "cochlear_df\n"
   ]
  },
  {
   "cell_type": "code",
   "execution_count": 16,
   "metadata": {},
   "outputs": [
    {
     "name": "stdout",
     "output_type": "stream",
     "text": [
      "             ID  Word\n",
      "count      1307  1307\n",
      "unique       64   211\n",
      "top     CAU-667   dog\n",
      "freq         41    52\n"
     ]
    }
   ],
   "source": [
    "print(cochlear_df.describe())\n",
    "#Getting Participant words from SFT \n",
    "SFT_words = cochlear_df['Word'].tolist()\n",
    "SFT_words = list(set(SFT_words))"
   ]
  },
  {
   "cell_type": "markdown",
   "metadata": {},
   "source": [
    "### Participant words with Word2Vec and Speech2Vec"
   ]
  },
  {
   "cell_type": "code",
   "execution_count": 47,
   "metadata": {},
   "outputs": [
    {
     "name": "stdout",
     "output_type": "stream",
     "text": [
      "61\n",
      "['lemur', 'saber_tooth_cat', 'gerbil', 'gecko', 'rhino', 'barracuda', 'giraffe', 'armadillo', 'stegosaurus', 'macaw', 'bobcat', 'groundhog', 'wildebeest', 'angelfish', 'seadragon', 'piranha', 'squid', 'kudu', 'raccoon', 'dinosaur', 'stickforn', 'wallaby', 'chimp', 'manatee', 'toucan', 'emu', 'not_snails', 'ring_tailed', 't_rex', 'millipede', 'platypus', 'anteater', 'UNKNOWN', 'dragonfly', 'bluejay', 'meerkat', 'capybara', 'orangutan', 'tigerfish', 'cheetah', 'chihuahua', 'seagull', 'wombat', 'catfish', 'hippo', 'sealion', 'iguana', 'stingray', 'stinkbug', 'stickbug', 'triceratops', 'waterbug', 'octopus', 'hamster', 'tarantula', 'flamingo', 'clownfish', 'seahorse', 'warthog', 'panda', 'koala']\n",
      "69\n",
      "['lemur', 'saber_tooth_cat', 'gerbil', 'tadpole', 'gecko', 'rhino', 'barracuda', 'giraffe', 'armadillo', 'stegosaurus', 'macaw', 'bobcat', 'groundhog', 'wildebeest', 'angelfish', 'seadragon', 'piranha', 'squid', 'kudu', 'raccoon', 'dinosaur', 'stickforn', 'wallaby', 'chimp', 'manatee', 'baboon', 'centipede', 'toucan', 'emu', 'not_snails', 'ring_tailed', 't_rex', 'millipede', 'platypus', 'anteater', 'UNKNOWN', 'dragonfly', 'bluejay', 'meerkat', 'capybara', 'orangutan', 'tigerfish', 'cheetah', 'chihuahua', 'seagull', 'wombat', 'catfish', 'hippo', 'pelican', 'sealion', 'iguana', 'stingray', 'stinkbug', 'zebra', 'stickbug', 'triceratops', 'jaguar', 'waterbug', 'octopus', 'caribou', 'hamster', 'tarantula', 'flamingo', 'clownfish', 'seahorse', 'warthog', 'panda', 'koala', 'shrimp']\n",
      "69\n",
      "['lemur', 'saber_tooth_cat', 'gerbil', 'tadpole', 'gecko', 'rhino', 'barracuda', 'giraffe', 'armadillo', 'stegosaurus', 'macaw', 'bobcat', 'groundhog', 'wildebeest', 'angelfish', 'seadragon', 'piranha', 'squid', 'kudu', 'raccoon', 'dinosaur', 'stickforn', 'wallaby', 'chimp', 'manatee', 'baboon', 'centipede', 'toucan', 'emu', 'not_snails', 'ring_tailed', 't_rex', 'millipede', 'platypus', 'anteater', 'UNKNOWN', 'dragonfly', 'bluejay', 'meerkat', 'capybara', 'orangutan', 'tigerfish', 'cheetah', 'chihuahua', 'seagull', 'wombat', 'catfish', 'hippo', 'pelican', 'sealion', 'iguana', 'stingray', 'stinkbug', 'zebra', 'stickbug', 'triceratops', 'jaguar', 'waterbug', 'octopus', 'caribou', 'hamster', 'tarantula', 'flamingo', 'clownfish', 'seahorse', 'warthog', 'panda', 'koala', 'shrimp']\n"
     ]
    }
   ],
   "source": [
    "speech2vec = pd.read_csv(\"embeddings/speech2vec.txt\", delimiter=\" \", header = 0, names = [\"word\"] + list(range(1, 52)))\n",
    "word2vec = pd.read_csv(\"embeddings/word2vec.txt\", delimiter=\" \", header = 0, names= [\"word\"] + list(range(1, 52)))\n",
    "\n",
    "s2v_words = speech2vec[\"word\"].tolist()\n",
    "w2v_words = word2vec[\"word\"].tolist()\n",
    "\n",
    "in_s2v = [] \n",
    "not_s2v = [] \n",
    "in_w2v = [] \n",
    "not_w2v = [] \n",
    "in_both = [] \n",
    "not_both = [] \n",
    "\n",
    "\n",
    "for response in SFT_words: \n",
    "    if response in speech2vec.values: \n",
    "        in_s2v += [response]\n",
    "    else: \n",
    "        not_s2v += [response]\n",
    "        \n",
    "    if response in word2vec.values:  \n",
    "        in_w2v += [response]\n",
    "    else: \n",
    "        not_w2v += [response]\n",
    "        \n",
    "    if response in word2vec.values and response in speech2vec.values: \n",
    "        in_both += [response]\n",
    "    else: \n",
    "        not_both += [response]\n",
    "    \n",
    "print(len(not_s2v))\n",
    "print(not_s2v)\n",
    "print(len(not_w2v))\n",
    "print(not_w2v)\n",
    "print(len(not_both))\n",
    "print(not_both)\n",
    "        \n",
    "\n"
   ]
  },
  {
   "cell_type": "markdown",
   "metadata": {},
   "source": [
    "### Transposing Word2vec and Speech2vec to resemble embeddings.csv from Forager\n"
   ]
  },
  {
   "cell_type": "code",
   "execution_count": 60,
   "metadata": {},
   "outputs": [],
   "source": [
    "speech2vec = pd.read_csv(\"embeddings/speech2vec.txt\", delimiter = \" \", header = 1).T.to_csv(\"Lexical Data/speech2vec.csv\", header=False)\n",
    "word2vec = pd.read_csv(\"embeddings/word2vec.txt\", delimiter=\" \", header=1).T.to_csv(\"Lexical Data/word2vec.csv\", header=False)"
   ]
  },
  {
   "cell_type": "markdown",
   "metadata": {},
   "source": []
  }
 ],
 "metadata": {
  "kernelspec": {
   "display_name": "base",
   "language": "python",
   "name": "python3"
  },
  "language_info": {
   "codemirror_mode": {
    "name": "ipython",
    "version": 3
   },
   "file_extension": ".py",
   "mimetype": "text/x-python",
   "name": "python",
   "nbconvert_exporter": "python",
   "pygments_lexer": "ipython3",
   "version": "3.9.7"
  },
  "orig_nbformat": 4
 },
 "nbformat": 4,
 "nbformat_minor": 2
}
