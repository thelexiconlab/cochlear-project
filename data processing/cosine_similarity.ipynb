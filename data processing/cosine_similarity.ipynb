{
 "cells": [
  {
   "cell_type": "markdown",
   "metadata": {},
   "source": [
    "### Calculating cosine similarity of words "
   ]
  },
  {
   "cell_type": "code",
   "execution_count": 2,
   "metadata": {},
   "outputs": [],
   "source": [
    "import pandas as pd \n",
    "import numpy as np \n",
    "from numpy.linalg import norm \n",
    "\n"
   ]
  },
  {
   "cell_type": "code",
   "execution_count": 13,
   "metadata": {},
   "outputs": [],
   "source": [
    "\n",
    "word2vec = pd.read_csv(\"Lexical Data/word2vec/embeddings.csv\")\n",
    "speech2vec = pd.read_csv(\"Lexical Data/speech2vec/embeddings.csv\")\n",
    "\n",
    "\n",
    "def cosine_similarity(word1, word2, model): \n",
    "    \n",
    "    if word1 == word2: \n",
    "        return 1\n",
    "    else: \n",
    "        if model == 'word2vec': \n",
    "            A = np.array(word2vec[word1]) \n",
    "            B = np.array(word2vec[word2]) \n",
    "            return np.dot(A,B) / (norm(A) * norm(B))\n",
    "        else: \n",
    "            A = np.array(speech2vec[word1]) \n",
    "            B = np.array(speech2vec[word2])\n",
    "            return np.dot(A,B) / (norm(A) * norm(B)) "
   ]
  },
  {
   "cell_type": "code",
   "execution_count": 15,
   "metadata": {},
   "outputs": [
    {
     "name": "stdout",
     "output_type": "stream",
     "text": [
      "['cat-dog', 0.8745785976068602, 0.862885704812382]\n",
      "['cat-bat', 0.6571537043953706, 0.537933390075867]\n",
      "['mouse-mole', 0.6764255392650766, 0.6441693058981303]\n",
      "['cat-dolphin', 0.4562281860164096, 0.49657208084958726]\n",
      "['cat-ant', 0.5232688294270559, 0.5773366033239087]\n",
      "['cat-gnat', 0.5506291402896941, 0.590135806189372]\n",
      "['cat-tiger', 0.724767537474404, 0.7042138261057815]\n"
     ]
    }
   ],
   "source": [
    "\n",
    "words = [(\"cat\", \"dog\"), (\"cat\", \"bat\"), (\"mouse\", \"mole\"), (\"cat\", \"dolphin\"), (\"cat\", \"ant\"), (\"cat\", \"gnat\"), (\"cat\", \"tiger\")]\n",
    "data = []\n",
    "for word in words: \n",
    "    sim_list = [] \n",
    "    sim_list += [word[0] + \"-\" + word[1]]\n",
    "    sim_list += [cosine_similarity(word[0], word[1], \"word2vec\")]\n",
    "    sim_list += [cosine_similarity(word[0], word[1], \"speech2vec\")]\n",
    "    print(sim_list)\n",
    "    data += [sim_list]\n",
    "    \n",
    "similarity_table = pd.DataFrame(data, columns=[\"words\", \"word2vec cosine similarity\", \"speech2vec cosine similarity\"])\n",
    "\n",
    "\n",
    "similarity_table.to_csv(\"Results/table_of_similarities.csv\", index = False)\n"
   ]
  },
  {
   "cell_type": "code",
   "execution_count": null,
   "metadata": {},
   "outputs": [],
   "source": []
  },
  {
   "cell_type": "code",
   "execution_count": null,
   "metadata": {},
   "outputs": [],
   "source": []
  },
  {
   "cell_type": "code",
   "execution_count": null,
   "metadata": {},
   "outputs": [],
   "source": []
  },
  {
   "cell_type": "code",
   "execution_count": null,
   "metadata": {},
   "outputs": [],
   "source": []
  }
 ],
 "metadata": {
  "kernelspec": {
   "display_name": "base",
   "language": "python",
   "name": "python3"
  },
  "language_info": {
   "codemirror_mode": {
    "name": "ipython",
    "version": 3
   },
   "file_extension": ".py",
   "mimetype": "text/x-python",
   "name": "python",
   "nbconvert_exporter": "python",
   "pygments_lexer": "ipython3",
   "version": "3.9.7"
  },
  "orig_nbformat": 4
 },
 "nbformat": 4,
 "nbformat_minor": 2
}
