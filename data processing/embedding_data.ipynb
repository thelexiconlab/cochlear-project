{
 "cells": [
  {
   "cell_type": "markdown",
   "metadata": {},
   "source": [
    "# Basic information about the SFT of Cochlear project \n",
    "### Word2Vec and Speech2Vec\n"
   ]
  },
  {
   "cell_type": "code",
   "execution_count": 1,
   "metadata": {},
   "outputs": [],
   "source": [
    "import pandas as pd \n",
    "import numpy as np \n",
    "import matplotlib as mp      \n",
    "import csv       "
   ]
  },
  {
   "cell_type": "markdown",
   "metadata": {},
   "source": [
    "### Responses from Cochlear Data"
   ]
  },
  {
   "cell_type": "code",
   "execution_count": 2,
   "metadata": {},
   "outputs": [
    {
     "data": {
      "text/html": [
       "<div>\n",
       "<style scoped>\n",
       "    .dataframe tbody tr th:only-of-type {\n",
       "        vertical-align: middle;\n",
       "    }\n",
       "\n",
       "    .dataframe tbody tr th {\n",
       "        vertical-align: top;\n",
       "    }\n",
       "\n",
       "    .dataframe thead th {\n",
       "        text-align: right;\n",
       "    }\n",
       "</style>\n",
       "<table border=\"1\" class=\"dataframe\">\n",
       "  <thead>\n",
       "    <tr style=\"text-align: right;\">\n",
       "      <th></th>\n",
       "      <th>ID</th>\n",
       "      <th>Word</th>\n",
       "    </tr>\n",
       "  </thead>\n",
       "  <tbody>\n",
       "    <tr>\n",
       "      <th>0</th>\n",
       "      <td>CAF-657</td>\n",
       "      <td>lizard</td>\n",
       "    </tr>\n",
       "    <tr>\n",
       "      <th>1</th>\n",
       "      <td>CAF-657</td>\n",
       "      <td>cat</td>\n",
       "    </tr>\n",
       "    <tr>\n",
       "      <th>2</th>\n",
       "      <td>CAF-657</td>\n",
       "      <td>hawk</td>\n",
       "    </tr>\n",
       "    <tr>\n",
       "      <th>3</th>\n",
       "      <td>CAF-657</td>\n",
       "      <td>dog</td>\n",
       "    </tr>\n",
       "    <tr>\n",
       "      <th>4</th>\n",
       "      <td>CAF-657</td>\n",
       "      <td>turtle</td>\n",
       "    </tr>\n",
       "    <tr>\n",
       "      <th>...</th>\n",
       "      <td>...</td>\n",
       "      <td>...</td>\n",
       "    </tr>\n",
       "    <tr>\n",
       "      <th>1300</th>\n",
       "      <td>SZA-781</td>\n",
       "      <td>puppy</td>\n",
       "    </tr>\n",
       "    <tr>\n",
       "      <th>1301</th>\n",
       "      <td>SZA-781</td>\n",
       "      <td>kitten</td>\n",
       "    </tr>\n",
       "    <tr>\n",
       "      <th>1302</th>\n",
       "      <td>SZA-781</td>\n",
       "      <td>goose</td>\n",
       "    </tr>\n",
       "    <tr>\n",
       "      <th>1303</th>\n",
       "      <td>SZA-781</td>\n",
       "      <td>duck</td>\n",
       "    </tr>\n",
       "    <tr>\n",
       "      <th>1304</th>\n",
       "      <td>SZA-781</td>\n",
       "      <td>wolf</td>\n",
       "    </tr>\n",
       "  </tbody>\n",
       "</table>\n",
       "<p>1305 rows × 2 columns</p>\n",
       "</div>"
      ],
      "text/plain": [
       "           ID    Word\n",
       "0     CAF-657  lizard\n",
       "1     CAF-657     cat\n",
       "2     CAF-657    hawk\n",
       "3     CAF-657     dog\n",
       "4     CAF-657  turtle\n",
       "...       ...     ...\n",
       "1300  SZA-781   puppy\n",
       "1301  SZA-781  kitten\n",
       "1302  SZA-781   goose\n",
       "1303  SZA-781    duck\n",
       "1304  SZA-781    wolf\n",
       "\n",
       "[1305 rows x 2 columns]"
      ]
     },
     "execution_count": 2,
     "metadata": {},
     "output_type": "execute_result"
    }
   ],
   "source": [
    "cochlear_data_path = \"Raw Data/data-cochlear.txt\"\n",
    "cochlear_df = pd.read_csv(cochlear_data_path, delimiter='\\t')\n",
    "cochlear_df\n"
   ]
  },
  {
   "cell_type": "code",
   "execution_count": 3,
   "metadata": {},
   "outputs": [
    {
     "name": "stdout",
     "output_type": "stream",
     "text": [
      "             ID  Word\n",
      "count      1305  1305\n",
      "unique       64   211\n",
      "top     CAU-667   dog\n",
      "freq         41    52\n"
     ]
    }
   ],
   "source": [
    "print(cochlear_df.describe())\n",
    "#Getting Participant words from SFT \n",
    "SFT_words = cochlear_df['Word'].tolist()\n",
    "SFT_words = list(set(SFT_words))"
   ]
  },
  {
   "cell_type": "markdown",
   "metadata": {},
   "source": [
    "### Participant words with Word2Vec and Speech2Vec"
   ]
  },
  {
   "cell_type": "code",
   "execution_count": 4,
   "metadata": {},
   "outputs": [
    {
     "name": "stdout",
     "output_type": "stream",
     "text": [
      "37622\n",
      "37622\n",
      "61\n",
      "['cheetah', 'koala', 'seahorse', 'not_snails', 'piranha', 'manatee', 'tarantula', 'giraffe', 'stickbug', 'catfish', 'wombat', 'dinosaur', 'macaw', 'kudu', 'panda', 'rhino', 'meerkat', 'gecko', 'tigerfish', 'wallaby', 'flamingo', 'seadragon', 'anteater', 'bobcat', 'toucan', 'ring_tailed', 'sealion', 'saber_tooth_cat', 'stinkbug', 'squid', 'angelfish', 'clownfish', 'iguana', 't_rex', 'hippo', 'hamster', 'barracuda', 'triceratops', 'groundhog', 'emu', 'warthog', 'gerbil', 'armadillo', 'chihuahua', 'millipede', 'chimp', 'waterbug', 'stingray', 'UNKNOWN', 'stickforn', 'wildebeest', 'orangutan', 'stegosaurus', 'seagull', 'octopus', 'platypus', 'dragonfly', 'raccoon', 'bluejay', 'lemur', 'capybara']\n",
      "61\n",
      "['cheetah', 'koala', 'seahorse', 'not_snails', 'piranha', 'manatee', 'tarantula', 'giraffe', 'stickbug', 'catfish', 'wombat', 'dinosaur', 'macaw', 'kudu', 'panda', 'rhino', 'meerkat', 'gecko', 'tigerfish', 'wallaby', 'flamingo', 'seadragon', 'anteater', 'bobcat', 'toucan', 'ring_tailed', 'sealion', 'saber_tooth_cat', 'stinkbug', 'squid', 'angelfish', 'clownfish', 'iguana', 't_rex', 'hippo', 'hamster', 'barracuda', 'triceratops', 'groundhog', 'emu', 'warthog', 'gerbil', 'armadillo', 'chihuahua', 'millipede', 'chimp', 'waterbug', 'stingray', 'UNKNOWN', 'stickforn', 'wildebeest', 'orangutan', 'stegosaurus', 'seagull', 'octopus', 'platypus', 'dragonfly', 'raccoon', 'bluejay', 'lemur', 'capybara']\n",
      "61\n",
      "['cheetah', 'koala', 'seahorse', 'not_snails', 'piranha', 'manatee', 'tarantula', 'giraffe', 'stickbug', 'catfish', 'wombat', 'dinosaur', 'macaw', 'kudu', 'panda', 'rhino', 'meerkat', 'gecko', 'tigerfish', 'wallaby', 'flamingo', 'seadragon', 'anteater', 'bobcat', 'toucan', 'ring_tailed', 'sealion', 'saber_tooth_cat', 'stinkbug', 'squid', 'angelfish', 'clownfish', 'iguana', 't_rex', 'hippo', 'hamster', 'barracuda', 'triceratops', 'groundhog', 'emu', 'warthog', 'gerbil', 'armadillo', 'chihuahua', 'millipede', 'chimp', 'waterbug', 'stingray', 'UNKNOWN', 'stickforn', 'wildebeest', 'orangutan', 'stegosaurus', 'seagull', 'octopus', 'platypus', 'dragonfly', 'raccoon', 'bluejay', 'lemur', 'capybara']\n"
     ]
    }
   ],
   "source": [
    "speech2vec = pd.read_csv(\"embeddings/Speech2Vec/speech2vec.txt\", delimiter=\" \", header = 0, names = [\"word\"] + list(range(1, 52)))\n",
    "word2vec = pd.read_csv(\"embeddings/Word2Vec/word2vec.txt\", delimiter=\" \", header = 0, names= [\"word\"] + list(range(1, 52)))\n",
    "\n",
    "\n",
    "\n",
    "\n",
    "\n",
    "\n",
    "s2v_words = speech2vec[\"word\"].tolist()\n",
    "w2v_words = word2vec[\"word\"].tolist()\n",
    "print(len(s2v_words))\n",
    "print(len(w2v_words))\n",
    "in_s2v = [] \n",
    "not_s2v = [] \n",
    "in_w2v = [] \n",
    "not_w2v = [] \n",
    "in_both = [] \n",
    "not_both = [] \n",
    "\n",
    "\n",
    "for response in SFT_words: \n",
    "    if response in speech2vec.values: \n",
    "        in_s2v += [response]\n",
    "    else: \n",
    "        not_s2v += [response]\n",
    "        \n",
    "    if response in word2vec.values:  \n",
    "        in_w2v += [response]\n",
    "    else: \n",
    "        not_w2v += [response]\n",
    "        \n",
    "    if response in word2vec.values and response in speech2vec.values: \n",
    "        in_both += [response]\n",
    "    else: \n",
    "        not_both += [response]\n",
    "    \n",
    "print(len(not_s2v))\n",
    "print(not_s2v)\n",
    "print(len(not_w2v))\n",
    "print(not_w2v)\n",
    "print(len(not_both))\n",
    "print(not_both)\n",
    "        \n",
    "\n"
   ]
  },
  {
   "cell_type": "markdown",
   "metadata": {},
   "source": [
    "### Transposing Word2vec and Speech2vec to resemble embeddings.csv from Forager\n"
   ]
  },
  {
   "cell_type": "code",
   "execution_count": 5,
   "metadata": {},
   "outputs": [],
   "source": [
    "speech2vec = pd.read_csv(\"embeddings/Speech2Vec/speech2vec.txt\", delimiter = \" \", header = 1).T.to_csv(\"Lexical Data/speech2vec.csv\", header=False)\n",
    "word2vec = pd.read_csv(\"embeddings/Word2Vec/word2vec.txt\", delimiter=\" \", header=1).T.to_csv(\"Lexical Data/word2vec.csv\", header=False)"
   ]
  },
  {
   "cell_type": "markdown",
   "metadata": {},
   "source": []
  },
  {
   "cell_type": "markdown",
   "metadata": {},
   "source": [
    "### Number of words "
   ]
  },
  {
   "cell_type": "code",
   "execution_count": 6,
   "metadata": {},
   "outputs": [
    {
     "data": {
      "text/html": [
       "<div>\n",
       "<style scoped>\n",
       "    .dataframe tbody tr th:only-of-type {\n",
       "        vertical-align: middle;\n",
       "    }\n",
       "\n",
       "    .dataframe tbody tr th {\n",
       "        vertical-align: top;\n",
       "    }\n",
       "\n",
       "    .dataframe thead th {\n",
       "        text-align: right;\n",
       "    }\n",
       "</style>\n",
       "<table border=\"1\" class=\"dataframe\">\n",
       "  <thead>\n",
       "    <tr style=\"text-align: right;\">\n",
       "      <th></th>\n",
       "      <th>37622</th>\n",
       "      <th>50</th>\n",
       "    </tr>\n",
       "  </thead>\n",
       "  <tbody>\n",
       "    <tr>\n",
       "      <th>count</th>\n",
       "      <td>37622.000000</td>\n",
       "      <td>0.0</td>\n",
       "    </tr>\n",
       "    <tr>\n",
       "      <th>mean</th>\n",
       "      <td>0.159993</td>\n",
       "      <td>NaN</td>\n",
       "    </tr>\n",
       "    <tr>\n",
       "      <th>std</th>\n",
       "      <td>0.284345</td>\n",
       "      <td>NaN</td>\n",
       "    </tr>\n",
       "    <tr>\n",
       "      <th>min</th>\n",
       "      <td>-1.176000</td>\n",
       "      <td>NaN</td>\n",
       "    </tr>\n",
       "    <tr>\n",
       "      <th>25%</th>\n",
       "      <td>-0.022330</td>\n",
       "      <td>NaN</td>\n",
       "    </tr>\n",
       "    <tr>\n",
       "      <th>50%</th>\n",
       "      <td>0.153460</td>\n",
       "      <td>NaN</td>\n",
       "    </tr>\n",
       "    <tr>\n",
       "      <th>75%</th>\n",
       "      <td>0.338442</td>\n",
       "      <td>NaN</td>\n",
       "    </tr>\n",
       "    <tr>\n",
       "      <th>max</th>\n",
       "      <td>1.485400</td>\n",
       "      <td>NaN</td>\n",
       "    </tr>\n",
       "  </tbody>\n",
       "</table>\n",
       "</div>"
      ],
      "text/plain": [
       "              37622   50\n",
       "count  37622.000000  0.0\n",
       "mean       0.159993  NaN\n",
       "std        0.284345  NaN\n",
       "min       -1.176000  NaN\n",
       "25%       -0.022330  NaN\n",
       "50%        0.153460  NaN\n",
       "75%        0.338442  NaN\n",
       "max        1.485400  NaN"
      ]
     },
     "execution_count": 6,
     "metadata": {},
     "output_type": "execute_result"
    }
   ],
   "source": [
    "speech2vec = pd.read_csv(\"embeddings/Speech2Vec/speech2vec.txt\", delimiter = \" \")\n",
    "speech2vec.describe()\n"
   ]
  },
  {
   "cell_type": "markdown",
   "metadata": {},
   "source": [
    "# OOV WORDS\n"
   ]
  },
  {
   "cell_type": "code",
   "execution_count": 21,
   "metadata": {},
   "outputs": [
    {
     "name": "stdout",
     "output_type": "stream",
     "text": [
      "['seahorse', 'chimpanzee', 'ringtailcat', 'tyrannosaurusrex', 'sabertoothedtiger']\n",
      "['feline', 'northamerican']\n",
      "dict_items([('aardvark', ['African', 'Insectivores']), ('aardwolf', ['African', 'Canine']), ('addax', ['African']), ('africandog', ['African', 'Canine']), ('antelope', ['African']), ('blackmamba', ['African', 'ReptileAmphibian']), ('bongo', ['African']), ('buffalo', ['African', 'Bovine']), ('bushsquirrel', ['African', 'Rodents']), ('caecilian', ['African', 'Asian', 'ReptileAmphibian', 'SouthAmerica']), ('camel', ['African', 'BeastsOfBurden']), ('capebuffalo', ['African', 'Bovine']), ('caracal', ['African', 'Asian', 'Feline']), ('chameleon', ['African', 'ReptileAmphibian']), ('cheetah', ['African', 'Feline']), ('chimpanzee', ['African', 'Primates']), ('cobra', ['African', 'ReptileAmphibian']), ('coelacanth', ['African', 'Asian', 'Fish', 'Water']), ('dikdik', ['African', 'Deers']), ('duiker', ['African']), ('easterntoebiter', ['African', 'Asian', 'Insects', 'NorthAmerican']), ('eland', ['African', 'Deers']), ('elephant', ['African']), ('fennecfox', ['African', 'Asian', 'Canine']), ('fiddlercrab', ['African', 'Water']), ('fisheagle', ['African', 'Asian', 'Bird']), ('fossa', ['African', 'Feline']), ('fruitbat', ['African', 'Asian']), ('gazelle', ['African', 'Deers']), ('genet', ['African']), ('giraffe', ['African']), ('gnu', ['African', 'Deers']), ('gorilla', ['African', 'Primates']), ('hartebeest', ['African', 'Deers']), ('hippopotamus', ['African']), ('huntsmanspider', ['African', 'Arachnid', 'Asian', 'Australian', 'NorthAmerican']), ('hydrax', ['African']), ('hyena', ['African', 'Canine']), ('impala', ['African', 'Deers']), ('indri', ['African', 'Primates']), ('jackal', ['African', 'Canine']), ('jerboa', ['African', 'Asian', 'Rodents']), ('kongoni', ['African']), ('kudu', ['African']), ('lemur', ['African', 'Primates']), ('leopard', ['African', 'Feline']), ('lion', ['African', 'Feline']), ('lioness', ['African']), ('madagascarhissingcockroach', ['African', 'Insects']), ('manatee', ['African', 'Water']), ('mandrill', ['African', 'Primates']), ('meerkat', ['African']), ('milkfish', ['African', 'Asian', 'Fish', 'Water']), ('mongoose', ['African', 'Weasels']), ('monkey', ['African', 'Primates']), ('nyala', ['African']), ('okapi', ['African']), ('orangeroughie', ['African', 'NorthAmerican', 'Water']), ('oryx', ['African']), ('ostrich', ['African', 'Bird']), ('pangolin', ['African', 'Asian', 'Insectivores']), ('panther', ['African', 'Feline']), ('pygmygoat', ['African', 'Farm']), ('redadmiralbutterfly', ['African', 'Asian', 'Europe', 'Insects', 'NorthAmerican']), ('rhinoceros', ['African']), ('sandcat', ['African', 'Asian', 'Feline']), ('seasnake', ['African', 'Asian', 'Water']), ('springbok', ['African']), ('steenbok', ['African']), ('tiger', ['African', 'Feline']), ('turtledove', ['African', 'Bird', 'Europe']), ('warthog', ['African']), ('wildebeest', ['African', 'Deers']), ('zebra', ['African']), ('brownreclusespider', ['Arachnid', 'NorthAmerican']), ('spider', ['Arachnid', 'Farm']), ('vinegaroon', ['Arachnid']), ('wolfspider', ['Arachnid', 'Insects']), ('adeliepenguin', ['Arctic', 'Bird']), ('arcticfox', ['Arctic']), ('auk', ['Arctic', 'Bird']), ('caribou', ['Arctic', 'Deers', 'NorthAmerican']), ('harborseal', ['Arctic', 'Water']), ('leopardseal', ['Arctic', 'Water']), ('muskox', ['Arctic', 'Bovine']), ('narwhal', ['Arctic', 'Water']), ('penguin', ['Arctic', 'Bird', 'Water']), ('polarbear', ['Arctic']), ('puffin', ['Arctic', 'Bird']), ('reindeer', ['Arctic', 'Deers']), ('seal', ['Arctic', 'Water']), ('snowyowl', ['Arctic', 'Bird', 'NorthAmerican']), ('walrus', ['Arctic', 'Water']), ('whitewolf', ['Arctic', 'Canine']), ('woollymammoth', ['Arctic']), ('argali', ['Asian']), ('binturong', ['Asian']), ('chigger', ['Asian', 'Europe', 'Insects', 'NorthAmerican']), ('fireant', ['Asian', 'Insects']), ('flyingsnake', ['Asian', 'ReptileAmphibian']), ('gavial', ['Asian', 'ReptileAmphibian', 'Water']), ('gharial', ['Asian', 'ReptileAmphibian', 'Water']), ('giantpanda', ['Asian']), ('ibex', ['Asian']), ('lionfish', ['Asian', 'Australian', 'Fish', 'Water']), ('lorikeet', ['Asian', 'Australian', 'Bird']), ('myna', ['Asian', 'Bird']), ('panda', ['Asian']), ('redpanda', ['Asian']), ('rhesusmacaque', ['Asian', 'Primates']), ('siberiantiger', ['Asian', 'Feline']), ('sunbear', ['Asian']), ('tarsier', ['Asian', 'Primates']), ('bandicoot', ['Australian']), ('bilbie', ['Australian']), ('budgerigar', ['Australian', 'Bird']), ('cuscus', ['Australian', 'Marsupial']), ('devil', ['Australian']), ('dingo', ['Australian']), ('duckbill', ['Australian']), ('emu', ['Australian', 'Bird']), ('goanna', ['Australian', 'ReptileAmphibian']), ('kangaroo', ['Australian']), ('kiwi', ['Australian', 'Bird']), ('koala', ['Australian']), ('kookaburra', ['Australian', 'Bird']), ('marsupial', ['Australian', 'NorthAmerican']), ('platypus', ['Australian', 'Water']), ('possum', ['Australian']), ('prawn', ['Australian', 'Fish', 'Water']), ('redkangaroo', ['Australian']), ('sugarglider', ['Australian']), ('tammarwallaby', ['Australian']), ('tasmaniandevil', ['Australian']), ('wallaby', ['Australian']), ('wallaroo', ['Australian']), ('wombat', ['Australian']), ('ass', ['BeastsOfBurden', 'Farm']), ('burro', ['BeastsOfBurden']), ('clydesdale', ['BeastsOfBurden', 'Farm']), ('colt', ['BeastsOfBurden', 'Farm']), ('donkey', ['BeastsOfBurden', 'Farm']), ('dromedary', ['BeastsOfBurden']), ('horse', ['BeastsOfBurden', 'Farm']), ('llama', ['BeastsOfBurden', 'UsedForFur']), ('mare', ['BeastsOfBurden', 'Farm']), ('mule', ['BeastsOfBurden', 'Farm']), ('mustang', ['BeastsOfBurden']), ('ox', ['BeastsOfBurden']), ('pony', ['BeastsOfBurden', 'Farm']), ('scottishshetland', ['BeastsOfBurden']), ('trotter', ['BeastsOfBurden']), ('yak', ['BeastsOfBurden', 'Bovine']), ('zebu', ['BeastsOfBurden']), ('albatross', ['Bird']), ('anhinga', ['Bird']), ('avian', ['Bird']), ('baldeagle', ['Bird', 'NorthAmerican']), ('bird', ['Bird']), ('black-cappedchickadee', ['Bird', 'NorthAmerican']), ('blackbird', ['Bird']), ('blackheadedgull', ['Bird']), ('bluebird', ['Bird']), ('bluefootedbooby', ['Bird']), ('bluegill', ['Bird']), ('blueheron', ['Bird']), ('bluejay', ['Bird']), ('bobolink', ['Bird']), ('booby', ['Bird']), ('bullfinch', ['Bird']), ('bunting', ['Bird']), ('buzzard', ['Bird']), ('canary', ['Bird', 'Pets']), ('cardinal', ['Bird']), ('cassowary', ['Bird']), ('chickadee', ['Bird']), ('chicken', ['Bird', 'Farm']), ('cock', ['Bird', 'Farm']), ('cockatiel', ['Bird', 'Pets']), ('cockatoo', ['Bird', 'Pets']), ('condor', ['Bird']), ('conure', ['Bird']), ('coot', ['Bird']), ('cornishgamehen', ['Bird', 'Farm', 'NorthAmerican']), ('crow', ['Bird']), ('cuckoo', ['Bird']), ('dodo', ['Bird']), ('double-crestedcormorant', ['Bird', 'NorthAmerican']), ('dove', ['Bird']), ('drake', ['Bird']), ('duck', ['Bird']), ('duckling', ['Bird']), ('eagle', ['Bird']), ('eaglet', ['Bird']), ('egret', ['Bird']), ('ewe', ['Bird']), ('falcon', ['Bird']), ('finch', ['Bird']), ('flamingo', ['Bird']), ('fowl', ['Bird']), ('gander', ['Bird']), ('goldeneagle', ['Bird']), ('goldfinch', ['Bird']), ('goshawk', ['Bird']), ('gosling', ['Bird']), ('grackle', ['Bird', 'NorthAmerican', 'SouthAmerica']), ('grebe', ['Bird']), ('grouse', ['Bird']), ('guineafowl', ['Bird']), ('gull', ['Bird']), ('halcyon', ['Bird']), ('harrier', ['Bird', 'Canine']), ('hawk', ['Bird']), ('heron', ['Bird']), ('hoatzin', ['Bird']), ('hornedowl', ['Bird']), ('hummingbird', ['Bird']), ('ibis', ['Bird']), ('jackdaw', ['Bird']), ('jay', ['Bird']), ('kingfisher', ['Bird']), ('kite', ['Bird']), ('lark', ['Bird']), ('loon', ['Bird']), ('lovebird', ['Bird']), ('macaw', ['Bird']), ('magpie', ['Bird']), ('mallard', ['Bird']), ('merlin', ['Bird']), ('mockingbird', ['Bird']), ('mourningdove', ['Bird', 'NorthAmerican']), ('mouse', ['Bird', 'Rodents']), ('nightingale', ['Bird']), ('nuthatch', ['Bird', 'NorthAmerican']), ('oriole', ['Bird']), ('osprey', ['Bird']), ('owl', ['Bird']), ('parakeet', ['Bird', 'Pets']), ('parrot', ['Bird', 'Pets']), ('partridge', ['Bird']), ('peacock', ['Bird']), ('pelican', ['Bird']), ('peregrine', ['Bird']), ('pheasant', ['Bird']), ('pigeon', ['Bird']), ('prairiechicken', ['Bird']), ('ptarmagin', ['Bird']), ('quail', ['Bird']), ('quetzal', ['Bird', 'NorthAmerican', 'SouthAmerica']), ('raven', ['Bird']), ('redtailedhawk', ['Bird', 'NorthAmerican']), ('rhea', ['Bird']), ('roadrunner', ['Bird']), ('robin', ['Bird']), ('rook', ['Bird', 'Europe']), ('sandhillcrane', ['Bird']), ('sandpiper', ['Bird']), ('scarletmacaw', ['Bird', 'SouthAmerica']), ('scrubjay', ['Bird', 'NorthAmerican']), ('seagull', ['Bird']), ('shearwater', ['Bird']), ('shrike', ['Bird']), ('siberianbluerobin', ['Bird']), ('snipe', ['Bird']), ('songbird', ['Bird']), ('sparrow', ['Bird']), ('spoonbill', ['Bird']), ('squab', ['Bird']), ('starling', ['Bird']), ('stellersjay', ['Bird']), ('stilt', ['Bird']), ('stork', ['Bird']), ('sunconure', ['Bird']), ('swallow', ['Bird']), ('swallowtail', ['Bird']), ('swan', ['Bird']), ('swift', ['Bird']), ('tanager', ['Bird']), ('thrush', ['Bird']), ('toucan', ['Bird']), ('trumpeter', ['Bird']), ('turkey', ['Bird', 'Farm']), ('vulture', ['Bird']), ('warbler', ['Bird']), ('waxwing', ['Bird']), ('woodpecker', ['Bird']), ('wren', ['Bird']), ('auroch', ['Bovine']), ('bison', ['Bovine', 'NorthAmerican']), ('bovine', ['Bovine']), ('bullock', ['Bovine', 'Farm']), ('bulls', ['Bovine']), ('calf', ['Bovine', 'Farm']), ('cattle', ['Bovine']), ('cow', ['Bovine', 'Farm']), ('heifer', ['Bovine', 'Farm']), ('longhorn', ['Bovine', 'Europe', 'Farm', 'NorthAmerican']), ('oxen', ['Bovine']), ('steer', ['Bovine']), ('waterbuffalo', ['Bovine']), ('afghanhound', ['Canine']), ('airdaleterrier', ['Canine']), ('akita', ['Canine']), ('bassethound', ['Canine']), ('beagle', ['Canine', 'Pets']), ('bernesemountaindog', ['Canine', 'Pets']), ('blacklab', ['Canine']), ('bloodhound', ['Canine']), ('bostonterrier', ['Canine', 'NorthAmerican']), ('boxer', ['Canine']), ('bulldog', ['Canine']), ('bullmastiff', ['Canine', 'Europe']), ('canine', ['Canine']), ('cavalierkingcharlesspaniel', ['Canine', 'Pets']), ('chihuahua', ['Canine']), ('chinook', ['Canine', 'NorthAmerican']), ('chowchow', ['Canine']), ('cockerspaniel', ['Canine']), ('collie', ['Canine']), ('corgi', ['Canine', 'Pets']), ('coyote', ['Canine']), ('dachshund', ['Canine']), ('dalmatian', ['Canine']), ('dobermanpinscher', ['Canine', 'NorthAmerican']), ('dog', ['Canine', 'Pets']), ('fox', ['Canine', 'NorthAmerican', 'UsedForFur']), ('foxhound', ['Canine', 'Europe', 'NorthAmerican']), ('frenchbulldog', ['Canine', 'Pets']), ('germanshepherd', ['Canine', 'Pets']), ('goldendoodle', ['Canine', 'Pets']), ('goldenretriever', ['Canine', 'Pets']), ('graywolf', ['Canine', 'NorthAmerican']), ('greatdane', ['Canine']), ('greatpyrenees', ['Canine', 'Pets']), ('greyhound', ['Canine']), ('hound', ['Canine']), ('husky', ['Canine']), ('kitfox', ['Canine', 'NorthAmerican']), ('labradorretriever', ['Canine', 'Pets']), ('lhasaapso', ['Canine', 'Pets']), ('malamute', ['Canine', 'Pets']), ('maltese', ['Canine']), ('pembrokewelshcorgi', ['Canine']), ('pitbull', ['Canine']), ('pomeranian', ['Canine']), ('poodle', ['Canine', 'Pets']), ('portuguesewaterdog', ['Canine']), ('pug', ['Canine']), ('puggle', ['Canine']), ('pup', ['Canine']), ('redfox', ['Canine', 'NorthAmerican']), ('saintbernard', ['Canine', 'Pets']), ('schnauzer', ['Canine', 'Pets']), ('shetlandsheepdog', ['Canine']), ('shihtzu', ['Canine', 'Pets']), ('siberianhusky', ['Canine']), ('terrier', ['Canine']), ('timberwolf', ['Canine']), ('whippet', ['Canine', 'Europe']), ('wilddog', ['Canine']), ('wolf', ['Canine', 'NorthAmerican']), ('wolfhound', ['Canine', 'Pets']), ('yorkshireterrier', ['Canine', 'Pets']), ('blacktaileddeer', ['Deers']), ('buck', ['Deers']), ('deer', ['Deers', 'NorthAmerican']), ('doe', ['Deers']), ('elk', ['Deers', 'NorthAmerican']), ('fawn', ['Deers']), ('moose', ['Deers', 'NorthAmerican']), ('muledeer', ['Deers']), ('muskdeer', ['Deers']), ('pronghorn', ['Deers', 'NorthAmerican']), ('roe', ['Deers']), ('stag', ['Deers']), ('whitetaileddeer', ['Deers']), ('allosaurus', ['Dinosaur', 'ReptileAmphibian']), ('apatosaurus', ['Dinosaur', 'ReptileAmphibian']), ('brachiosaurus', ['Dinosaur', 'ReptileAmphibian']), ('brontosaurus', ['Dinosaur', 'ReptileAmphibian']), ('dinosaur', ['Dinosaur', 'ReptileAmphibian']), ('pteordactyl', ['Dinosaur', 'ReptileAmphibian']), ('raptor', ['Dinosaur', 'ReptileAmphibian']), ('stegosaurus', ['Dinosaur']), ('triceratops', ['Dinosaur', 'ReptileAmphibian']), ('tyrannosaurusrex', ['Dinosaur', 'ReptileAmphibian']), ('velociraptor', ['Dinosaur', 'ReptileAmphibian']), ('bedbug', ['Europe', 'Insects', 'NorthAmerican']), ('sardine', ['Europe', 'Fish', 'Water']), ('scottishfold', ['Europe', 'Feline', 'NorthAmerican']), ('stagbeetle', ['Europe', 'Insects']), ('billygoat', ['Farm']), ('bronco', ['Farm']), ('chick', ['Farm']), ('equine', ['Farm']), ('ferret', ['Farm', 'Weasels']), ('foal', ['Farm']), ('goat', ['Farm']), ('hen', ['Farm']), ('hog', ['Farm']), ('kid', ['Farm']), ('lamb', ['Farm']), ('miniaturepony', ['Farm']), ('peccary', ['Farm']), ('pig', ['Farm']), ('piglet', ['Farm']), ('potbelliedpig', ['Farm']), ('ram', ['Farm']), ('rooster', ['Farm']), ('sheep', ['Farm']), ('snake', ['Farm', 'ReptileAmphibian']), ('sow', ['Farm']), ('stallion', ['Farm']), ('bengaltiger', ['Feline']), ('blackpanther', ['Feline']), ('bobcat', ['Feline', 'NorthAmerican']), ('bull', ['Feline']), ('catamount', ['Feline', 'NorthAmerican']), ('cougar', ['Feline', 'NorthAmerican']), ('crane', ['Feline']), ('feline', ['Feline']), ('jaguar', ['Feline']), ('liger', ['Feline']), ('lynx', ['Feline']), ('manx', ['Feline']), ('mountainlion', ['Feline', 'NorthAmerican']), ('ocelot', ['Feline']), ('persian', ['Feline']), ('puma', ['Feline', 'NorthAmerican']), ('pussycat', ['Feline']), ('ragdollcat', ['Feline', 'NorthAmerican']), ('ringtailcat', ['Feline', 'NorthAmerican']), ('sabertoothedtiger', ['Feline']), ('serval', ['Feline']), ('siamesecat', ['Feline']), ('snow', ['Feline', 'Primates']), ('snowleopard', ['Feline']), ('tigon', ['Feline']), ('tomcat', ['Feline']), ('whitetiger', ['Feline']), ('wildcat', ['Feline']), ('zebrafish', ['Fish']), ('albacore', ['Fish']), ('anchovy', ['Fish']), ('angelfish', ['Fish']), ('anglerfish', ['Fish', 'Water']), ('arapaima', ['Fish', 'SouthAmerica', 'Water']), ('arrowheadshark', ['Fish']), ('barracuda', ['Fish']), ('barramundi', ['Fish']), ('bass', ['Fish']), ('bettafish', ['Fish', 'Pets', 'Water']), ('billfish', ['Fish', 'Water']), ('blobfish', ['Fish', 'Water']), ('blowfish', ['Fish']), ('blueshark', ['Fish', 'Water']), ('bream', ['Fish', 'Water']), ('brimfish', ['Fish']), ('bullshark', ['Fish', 'Water']), ('carp', ['Fish']), ('catfish', ['Fish']), ('clownfish', ['Fish']), ('cod', ['Fish']), ('crappie', ['Fish', 'NorthAmerican']), ('cuttlefish', ['Fish']), ('damselfish', ['Fish']), ('dogfish', ['Fish', 'Water']), ('fish', ['Fish', 'Water']), ('flounder', ['Fish']), ('flyingfish', ['Fish', 'Water']), ('foureyebutterflyfish', ['Fish']), ('freshwaterfish', ['Fish']), ('gar', ['Fish', 'Water']), ('goby', ['Fish']), ('goldfish', ['Fish', 'Pets', 'Water']), ('greatwhiteshark', ['Fish']), ('grenadier', ['Fish']), ('grouper', ['Fish']), ('grunt', ['Fish']), ('guppy', ['Fish', 'Pets']), ('haddock', ['Fish', 'Water']), ('hagfish', ['Fish', 'Water']), ('halibut', ['Fish']), ('hammerheadshark', ['Fish', 'Water']), ('herring', ['Fish']), ('humunukuapua', ['Fish']), ('jack', ['Fish']), ('jewfish', ['Fish', 'Water']), ('koi', ['Fish']), ('lamprey', ['Fish']), ('largemouthbass', ['Fish', 'Water']), ('leopardshark', ['Fish', 'NorthAmerican', 'Water']), ('mackerel', ['Fish']), ('mahimahi', ['Fish', 'Water']), ('makoshark', ['Fish']), ('marlin', ['Fish']), ('megalodon', ['Fish']), ('minnow', ['Fish']), ('mudskipper', ['Fish', 'Water']), ('mullet', ['Fish', 'Water']), ('northernpike', ['Fish', 'NorthAmerican']), ('nurseshark', ['Fish', 'NorthAmerican', 'SouthAmerica', 'Water']), ('parrotfish', ['Fish']), ('perch', ['Fish']), ('pickerel', ['Fish']), ('pike', ['Fish']), ('pinksalmon', ['Fish']), ('piranha', ['Fish']), ('pufferfish', ['Fish']), ('rainbowfish', ['Fish']), ('reddrum', ['Fish', 'Water']), ('rockhead', ['Fish']), ('sailfish', ['Fish', 'Water']), ('salmon', ['Fish']), ('saltwaterfish', ['Fish']), ('sandshark', ['Fish']), ('sculpin', ['Fish', 'Water']), ('seabass', ['Fish']), ('shad', ['Fish', 'Water']), ('shark', ['Fish', 'Water']), ('shrimp', ['Fish']), ('smallmouthbass', ['Fish', 'Water']), ('smelt', ['Fish']), ('snapper', ['Fish', 'Water']), ('spadefish', ['Fish', 'Water']), ('spermwhale', ['Fish', 'Water']), ('spinydogfish', ['Fish', 'Water']), ('stickleback', ['Fish']), ('stonefish', ['Fish', 'Water']), ('sturgeon', ['Fish']), ('sunfish', ['Fish']), ('surgeonfish', ['Fish']), ('swordfish', ['Fish']), ('tigershark', ['Fish', 'Water']), ('tilapia', ['Fish']), ('trout', ['Fish']), ('tuna', ['Fish']), ('walleye', ['Fish', 'Water']), ('whale', ['Fish', 'Water']), ('whaleshark', ['Fish', 'Water']), ('whitefish', ['Fish', 'Water']), ('anteater', ['Insectivores']), ('armadillo', ['Insectivores']), ('bat', ['Insectivores']), ('echidna', ['Insectivores']), ('hedgehog', ['Insectivores', 'Rodents']), ('mole', ['Insectivores', 'Rodents']), ('shrew', ['Insectivores', 'Primates', 'Rodents']), ('vampirebat', ['Insectivores']), ('ant', ['Insects']), ('antlion', ['Insects']), ('aphid', ['Insects']), ('assassinbug', ['Insects']), ('bee', ['Insects']), ('beetle', ['Insects']), ('bessbug', ['Insects']), ('blackwidow', ['Insects']), ('boxelderbug', ['Insects', 'NorthAmerican']), ('bug', ['Insects']), ('bumblebee', ['Insects']), ('butterfly', ['Insects']), ('carpenterant', ['Insects']), ('carpetbeetle', ['Insects']), ('caterpillar', ['Insects']), ('centipede', ['Insects']), ('cicada', ['Insects']), ('cockroach', ['Insects']), ('cranefly', ['Insects']), ('cricket', ['Insects']), ('daddylonglegs', ['Insects']), ('dolphin', ['Insects', 'Water']), ('dragonfly', ['Insects']), ('dungbeetle', ['Insects']), ('earthworm', ['Insects', 'Worms']), ('earwig', ['Insects']), ('fireants', ['Insects']), ('firefly', ['Insects']), ('flatworm', ['Insects', 'Water', 'Worms']), ('flea', ['Insects']), ('fly', ['Insects']), ('fruitfly', ['Insects']), ('gnat', ['Insects']), ('grasshopper', ['Insects']), ('grub', ['Insects']), ('honeybee', ['Insects']), ('hornet', ['Insects']), ('horse-fly', ['Insects']), ('housefly', ['Insects']), ('hoverfly', ['Insects']), ('inchworm', ['Insects', 'Worms']), ('insect', ['Insects']), ('isopod', ['Insects']), ('junebeetle', ['Insects']), ('junebug', ['Insects']), ('killerbee', ['Insects']), ('ladybug', ['Insects']), ('larva', ['Insects']), ('leafy', ['Insects']), ('locust', ['Insects']), ('louse', ['Insects']), ('maggot', ['Insects']), ('mantis', ['Insects']), ('mealworm', ['Insects', 'Worms']), ('millipede', ['Insects']), ('mite', ['Insects']), ('monarchbutterfly', ['Insects']), ('mosquito', ['Insects']), ('moth', ['Insects']), ('paloverdeborer', ['Insects', 'NorthAmerican']), ('pillbug', ['Insects']), ('prayingmantis', ['Insects']), ('roly-poly', ['Insects']), ('scorpion', ['Insects']), ('stickbug', ['Insects']), ('stickinsect', ['Insects']), ('stinkbug', ['Insects']), ('tarantula', ['Insects']), ('termite', ['Insects']), ('tick', ['Insects']), ('wasp', ['Insects']), ('waterbear', ['Insects']), ('waterbug', ['Insects', 'NorthAmerican']), ('weevil', ['Insects']), ('worm', ['Insects', 'Worms']), ('yellowjacket', ['Insects']), ('kinkajou', ['Jungle']), ('sloth', ['Jungle']), ('tapir', ['Jungle']), ('badger', ['NorthAmerican', 'Weasels']), ('bear', ['NorthAmerican']), ('beaver', ['NorthAmerican', 'Rodents', 'UsedForFur', 'Water']), ('bighorn', ['NorthAmerican']), ('blackbear', ['NorthAmerican']), ('boar', ['NorthAmerican']), ('brownbear', ['NorthAmerican']), ('bruin', ['NorthAmerican']), ('bullsnake', ['NorthAmerican', 'ReptileAmphibian']), ('chipmunk', ['NorthAmerican', 'Rodents']), ('coati', ['NorthAmerican', 'SouthAmerica']), ('coatimundi', ['NorthAmerican', 'SouthAmerica']), ('conch', ['NorthAmerican', 'Water']), ('coralsnake', ['NorthAmerican', 'ReptileAmphibian']), ('cottontailrabbit', ['NorthAmerican']), ('coypu', ['NorthAmerican', 'UsedForFur', 'Water']), ('cub', ['NorthAmerican']), ('fisher', ['NorthAmerican', 'Weasels']), ('gartersnake', ['NorthAmerican', 'ReptileAmphibian']), ('grasssnake', ['NorthAmerican', 'ReptileAmphibian']), ('grizzlybear', ['NorthAmerican']), ('gumbootchiton', ['NorthAmerican', 'Water']), ('hognosesnake', ['NorthAmerican', 'ReptileAmphibian']), ('hornedtoad', ['NorthAmerican', 'ReptileAmphibian']), ('kingcrab', ['NorthAmerican', 'Water']), ('kodiak', ['NorthAmerican']), ('mastadon', ['NorthAmerican']), ('mountaingoat', ['NorthAmerican']), ('opossum', ['NorthAmerican']), ('ptarmigan', ['NorthAmerican']), ('rabbit', ['NorthAmerican', 'Pets', 'Rabbit', 'UsedForFur']), ('raccoon', ['NorthAmerican']), ('rightwhale', ['NorthAmerican', 'Water']), ('sandcrab', ['NorthAmerican', 'Water']), ('seaotter', ['NorthAmerican', 'Water']), ('sidewinder', ['NorthAmerican', 'ReptileAmphibian']), ('skunk', ['NorthAmerican', 'Weasels']), ('snowcrab', ['NorthAmerican', 'Water']), ('squirrel', ['NorthAmerican', 'Rodents']), ('star-nosedmole', ['NorthAmerican']), ('watermoccasin', ['NorthAmerican', 'ReptileAmphibian']), ('budgie', ['Pets']), ('cat', ['Pets']), ('degu', ['Pets', 'Rodents', 'SouthAmerica']), ('dwarfrabbit', ['Pets', 'Rabbit']), ('gerbil', ['Pets', 'Rodents']), ('guineapig', ['Pets', 'Rodents']), ('hamster', ['Pets', 'Rodents']), ('kitten', ['Pets']), ('puppy', ['Pets']), ('russianblue', ['Pets']), ('ape', ['Primates']), ('baboon', ['Primates']), ('bonobo', ['Primates']), ('bushbaby', ['Primates']), ('capuchin', ['Primates']), ('gibbon', ['Primates']), ('howlermonkey', ['Primates']), ('human', ['Primates']), ('langur', ['Primates']), ('loris', ['Primates']), ('macaque', ['Primates']), ('marmoset', ['Primates']), ('neanderthal', ['Primates']), ('orangutan', ['Primates']), ('primates', ['Primates']), ('pygmymarmoset', ['Primates', 'SouthAmerica']), ('sakimonkey', ['Primates']), ('slowloris', ['Primates']), ('spidermonkey', ['Primates']), ('tamarin', ['Primates', 'SouthAmerica']), ('titi', ['Primates']), ('bunny', ['Rabbit']), ('coney', ['Rabbit']), ('hare', ['Rabbit']), ('jackrabbit', ['Rabbit']), ('adder', ['ReptileAmphibian']), ('alligator', ['ReptileAmphibian', 'Water']), ('amphibian', ['ReptileAmphibian']), ('anaconda', ['ReptileAmphibian']), ('anole', ['ReptileAmphibian']), ('asp', ['ReptileAmphibian']), ('beardeddragon', ['ReptileAmphibian']), ('black', ['ReptileAmphibian']), ('boaconstrictor', ['ReptileAmphibian']), ('bullfrog', ['ReptileAmphibian']), ('bushmaster', ['ReptileAmphibian', 'SouthAmerica']), ('caiman', ['ReptileAmphibian', 'SouthAmerica']), ('copperheadsnake', ['ReptileAmphibian']), ('cornsnake', ['ReptileAmphibian']), ('cottonmouth', ['ReptileAmphibian']), ('crocodile', ['ReptileAmphibian']), ('darwinsfrog', ['ReptileAmphibian', 'SouthAmerica']), ('diamondback', ['ReptileAmphibian']), ('dragon', ['ReptileAmphibian']), ('frog', ['ReptileAmphibian', 'Water']), ('gardensnake', ['ReptileAmphibian']), ('gecko', ['ReptileAmphibian']), ('gilamonster', ['ReptileAmphibian']), ('godzilla', ['ReptileAmphibian']), ('iguana', ['ReptileAmphibian']), ('kingcobra', ['ReptileAmphibian']), ('kingsnake', ['ReptileAmphibian']), ('komododragon', ['ReptileAmphibian']), ('lizard', ['ReptileAmphibian']), ('mamba', ['ReptileAmphibian']), ('moccasin', ['ReptileAmphibian']), ('monitor', ['ReptileAmphibian']), ('newt', ['ReptileAmphibian', 'Water']), ('python', ['ReptileAmphibian']), ('rattlesnake', ['ReptileAmphibian']), ('reptile', ['ReptileAmphibian']), ('salamander', ['ReptileAmphibian', 'Water']), ('serpent', ['ReptileAmphibian']), ('skink', ['ReptileAmphibian']), ('springpeeper', ['ReptileAmphibian']), ('taipan', ['ReptileAmphibian']), ('thornydevil', ['ReptileAmphibian']), ('toad', ['ReptileAmphibian', 'Water']), ('tortoise', ['ReptileAmphibian']), ('treefrog', ['ReptileAmphibian']), ('turtle', ['ReptileAmphibian', 'Water']), ('viper', ['ReptileAmphibian']), ('watersnake', ['ReptileAmphibian']), ('agouti', ['Rodents']), ('blacksquirrel', ['Rodents']), ('capybara', ['Rodents']), ('cavy', ['Rodents']), ('chinchilla', ['Rodents', 'UsedForFur']), ('dormouse', ['Rodents']), ('flyingsquirrel', ['Rodents']), ('goldenmarmot', ['Rodents']), ('gopher', ['Rodents']), ('greysquirrel', ['Rodents']), ('groundhog', ['Rodents', 'Weasels']), ('groundsquirrel', ['Rodents']), ('lemming', ['Rodents']), ('marmot', ['Rodents']), ('muskrat', ['Rodents', 'Water']), ('nakedmolerat', ['Rodents']), ('nutria', ['Rodents']), ('packrat', ['Rodents']), ('pika', ['Rodents']), ('porcupine', ['Rodents']), ('prairiedog', ['Rodents']), ('rat', ['Rodents']), ('redsquirrel', ['Rodents']), ('rodent', ['Rodents']), ('vole', ['Rodents']), ('woodchuck', ['Rodents']), ('xerus', ['Rodents']), ('guanaco', ['SouthAmerica']), ('alpaca', ['UsedForFur']), ('chamois', ['UsedForFur']), ('ermine', ['UsedForFur']), ('mink', ['UsedForFur', 'Weasels']), ('sable', ['UsedForFur']), ('vicuna', ['UsedForFur']), ('Cockle', ['Water']), ('alga', ['Water']), ('anemone', ['Water']), ('aplysia', ['Water']), ('ascidians', ['Water']), ('axolotl', ['Water']), ('baleenwhale', ['Water']), ('bananaslug', ['Water']), ('barnacle', ['Water']), ('beluga', ['Water']), ('bloodworm', ['Water', 'Worms']), ('bluewhale', ['Water']), ('boto', ['Water']), ('bottlenosedolphin', ['Water']), ('boxturtle', ['Water']), ('brineshrimp', ['Water']), ('christmastreeworm', ['Water', 'Worms']), ('clam', ['Water']), ('cleanershrimp', ['Water']), ('coral', ['Water']), ('coralreefsnake', ['Water']), ('cowry', ['Water']), ('crab', ['Water']), ('crawfish', ['Water']), ('crayfish', ['Water']), ('eel', ['Water']), ('electriceel', ['Water']), ('elephantseal', ['Water']), ('ghostcrab', ['Water']), ('giantsquid', ['Water']), ('glaucus', ['Water']), ('goose', ['Water']), ('graywhale', ['Water']), ('hermitcrab', ['Water']), ('horseshoecrab', ['Water']), ('humpbackwhale', ['Water']), ('jellyfish', ['Water']), ('killerwhale', ['Water']), ('krill', ['Water']), ('leech', ['Water']), ('limpet', ['Water']), ('lobster', ['Water']), ('manowar', ['Water']), ('mantaray', ['Water']), ('mollusk', ['Water']), ('monster', ['Water']), ('morayeel', ['Water']), ('mussel', ['Water']), ('nautilus', ['Water']), ('octopus', ['Water']), ('orca', ['Water']), ('otter', ['Water', 'Weasels']), ('oyster', ['Water']), ('pilotwhale', ['Water']), ('pistolshrimp', ['Water']), ('plankton', ['Water']), ('porpoise', ['Water']), ('quahog', ['Water']), ('ray', ['Water']), ('sanddollar', ['Water']), ('scallop', ['Water']), ('seaanemone', ['Water']), ('seacow', ['Water']), ('seacucumber', ['Water']), ('seahorse', ['Water']), ('sealion', ['Water']), ('seamonkey', ['Water']), ('seaslug', ['Water']), ('seasponge', ['Water']), ('seaturtle', ['Water']), ('seaurchin', ['Water']), ('siphonophore', ['Water']), ('skate', ['Water']), ('slug', ['Water']), ('snail', ['Water']), ('snappingturtle', ['Water']), ('sponge', ['Water']), ('squid', ['Water']), ('starfish', ['Water']), ('stingray', ['Water']), ('tadpole', ['Water']), ('tardigrade', ['Water']), ('terrapin', ['Water']), ('urchin', ['Water']), ('civet', ['Weasels']), ('honeybadger', ['Weasels']), ('marten', ['Weasels']), ('polecat', ['Weasels']), ('sea', ['Weasels']), ('stoat', ['Weasels']), ('weasel', ['Weasels']), ('weasels', ['Weasels']), ('wolverine', ['Weasels']), ('tapeworm', ['Worms']), ('tubeworm', ['Worms'])])\n"
     ]
    }
   ],
   "source": [
    "# getting the first row of Lexical data speech2vec and word2vec CSV files \n",
    "\n",
    "import csv \n",
    "with open(\"Lexical Data/speech2vec.csv\", newline='') as s: \n",
    "    reader = csv.reader(s) \n",
    "    s2v = next(reader)\n",
    "#s2v and w2v have the same words in the embeddings. \n",
    "\n",
    "#Get participant data \n",
    "participant_data=pd.read_csv('Raw Data/data-cochlear.txt', delimiter=\"\\t\")\n",
    "participant_words = list(set(participant_data[\"Word\"].tolist()))\n",
    "\n",
    "\n",
    "#getting oov words from participant data\n",
    "oov = []\n",
    "for word in participant_words:\n",
    "    if word not in s2v:\n",
    "        oov += [word]\n",
    "#oov = 61 \n",
    "#['barracuda', 'stickforn', 'wildebeest', 'octopus', 'stickbug', 'squid', 'dragonfly', 'orangutan', 'piranha', 'groundhog', 'tarantula', 'seadragon', 'stinkbug', 'wallaby', 'panda', 'wombat', 'chimp', 'seahorse', 'ring_tailed', 'cheetah', 'kudu', 'rhino', 'platypus', 'gecko', 'stegosaurus', 't_rex', 'koala', 'chihuahua', 'tigerfish', 'bobcat', 'armadillo', 'UNKNOWN', 'toucan', 'millipede', 'anteater', 'saber_tooth_cat', 'dinosaur', 'triceratops', 'meerkat', 'capybara', 'bluejay', 'stingray', 'seagull', 'raccoon', 'gerbil', 'not_snails', 'giraffe', 'sealion', 'warthog', 'iguana', 'lemur', 'catfish', 'clownfish', 'hamster', 'emu', 'manatee', 'waterbug', 'macaw', 'hippo', 'angelfish', 'flamingo']\n",
    "snafu = pd.read_csv(\"Raw Data/animals_snafu_scheme.csv\", \",\")\n",
    "snafu_category= list(set(snafu['Category'].to_list())) \n",
    "snafu_words = list(set(snafu['Animal'].tolist()))\n",
    "# There are 30 categories of animals\n",
    "#['Europe', 'Farm', 'Fish', 'Arachnid', 'Bird', 'Marsupial', 'Rabbit', 'NorthAmerican', 'Dinosaur', 'ReptileAmphibian', 'Arctic', 'Primates', 'Deers', 'Weasels', 'Pets', 'UsedForFur', 'Asian', 'Insects', 'African', 'BeastsOfBurden', 'Bovine', 'Canine', 'Feline', 'Rodents', 'Worms', 'Australian', 'Jungle', 'Insectivores', 'SouthAmerica', 'Water']\n",
    "\n",
    "\n",
    "###Checking if OOV words are in snafu \n",
    "in_snafu = []\n",
    "not_in_snafu = []\n",
    "for word in oov: \n",
    "    if word in snafu_words:\n",
    "        in_snafu += [word]\n",
    "    else: \n",
    "        not_in_snafu += [word]\n",
    "\n",
    "\n",
    "# there are 50 OOV words found in snafu data \n",
    "# ['barracuda', 'wildebeest', 'octopus', 'stickbug', 'squid', 'dragonfly', 'orangutan', 'piranha', 'groundhog', 'tarantula', 'stinkbug', 'wallaby', 'panda', 'wombat', 'seahorse', 'cheetah', 'kudu', 'platypus', 'gecko', 'stegosaurus', 'koala', 'chihuahua', 'bobcat', 'armadillo', 'toucan', 'millipede', 'anteater', 'dinosaur', 'triceratops', 'meerkat', 'capybara', 'bluejay', 'stingray', 'seagull', 'raccoon', 'gerbil', 'giraffe', 'sealion', 'warthog', 'iguana', 'lemur', 'catfish', 'clownfish', 'hamster', 'emu', 'manatee', 'waterbug', 'macaw', 'angelfish', 'flamingo']\n",
    "\n",
    "# there are 11 OOV words not in snafu data\n",
    "# ['stickforn', 'seadragon', 'chimp', 'ring_tailed', 'rhino', 't_rex', 'tigerfish', 'saber_tooth_cat', 'not_snails', 'hippo']\n",
    "# ['stickforn', 'seahorse', 'chimpanzee', 'ringtailcat', 'rhinoceros', 'tyrannosaurusrex', 'milkfish', 'sabertoothedtiger', 'snail', 'hippopotamus']\n",
    "# the only ones with no replacement are : stickforn, \n",
    "\n",
    "\n",
    "\n",
    "\n",
    "#checking if snafu categories are in speech2vec and word2vec. \n",
    "category_in_s2v = []\n",
    "category_not_in_s2v=[]  \n",
    "for word in snafu_category:\n",
    "    if word.lower() in s2v: \n",
    "        category_in_s2v += [word.lower()]\n",
    "    else: \n",
    "        category_not_in_s2v += [word.lower()]\n",
    "\n",
    "#18/30 categories can be found in s2v \n",
    "#['europe', 'farm', 'fish', 'bird', 'rabbit', 'arctic', 'weasels', 'pets', 'asian', 'insects', 'african', 'canine', 'feline', 'rodents', 'worms', 'australian', 'jungle', 'water']\n",
    "\n",
    "#12/30 categories cannot be found in s2v\n",
    "#['arachnid', 'marsupial', 'northamerican', 'dinosaur', 'reptileamphibian', 'primates', 'deers', 'usedforfur', 'beastsofburden', 'bovine', 'insectivores', 'southamerica']\n",
    "\n",
    "\n",
    "oov_replacements = ['seahorse', 'chimpanzee', 'ringtailcat', 'rhinoceros', 'tyrannosaurusrex', 'fish', 'sabertoothedtiger', 'snail', 'hippopotamus']\n",
    "oov_replacements_category = ['water', ['primates','african'], ['feline', 'northamerican'], 'african', ['dinosaur', 'reptile', 'amphibian'],  'african', 'feline', 'water', 'african']\n",
    "\n",
    "not_in = []\n",
    "for word in oov_replacements: \n",
    "    if word not in s2v:\n",
    "        not_in += [word]\n",
    "print(not_in)\n",
    "\n",
    "oov_dict = {}\n",
    "i = 0 \n",
    "while i < len(oov_replacements):\n",
    "    oov_dict[oov_replacements[i]] = oov_replacements_category[i]\n",
    "    i += 1\n",
    "    \n",
    "\n",
    "print(oov_dict[\"ringtailcat\"])\n",
    "\n",
    "#new oov dictionary \n",
    "oov_dict = {}\n",
    "snafu_words = snafu[\"Animal\"].tolist()\n",
    "snafu_category = snafu[\"Category\"].tolist()\n",
    "\n",
    "i = 0 \n",
    "while i < len(snafu_words): \n",
    "    if snafu_words[i] in oov_dict: \n",
    "        oov_dict[snafu_words[i]] += [snafu_category[i]]\n",
    "    else: \n",
    "        oov_dict[snafu_words[i]] = [snafu_category[i]]\n",
    "    i += 1\n",
    "\n",
    "print(oov_dict.items())\n",
    "\n"
   ]
  },
  {
   "cell_type": "code",
   "execution_count": 12,
   "metadata": {},
   "outputs": [
    {
     "name": "stdout",
     "output_type": "stream",
     "text": [
      "['primates', 'northamerican', 'dinosaur', 'amphibian']\n",
      "['water', 'african', 'feline', 'reptile', 'feline']\n"
     ]
    }
   ],
   "source": [
    "#these are the only ones we need to get the categories for \n",
    "#['seahorse', 'chimpanzee', 'ringtailcat', 'tyrannosaurusrex', 'sabertoothedtiger']\n",
    "categories = ['water', 'primates', 'african', 'feline', 'northamerican', 'dinosaur', 'reptile', 'amphibian', 'feline']\n",
    "s2v_categories_not_in = []\n",
    "s2v_in_categories = []\n",
    "for word in categories: \n",
    "    if word not in s2v: \n",
    "        s2v_categories_not_in += [word]\n",
    "    else: \n",
    "        s2v_in_categories += [word]\n",
    "print(s2v_categories_not_in)\n",
    "print(s2v_in_categories)"
   ]
  },
  {
   "cell_type": "markdown",
   "metadata": {},
   "source": [
    "# Creating a csv file with replacements "
   ]
  },
  {
   "cell_type": "code",
   "execution_count": 62,
   "metadata": {},
   "outputs": [
    {
     "name": "stdout",
     "output_type": "stream",
     "text": [
      "['lizard', 'cat', 'hawk', 'dog', 'turtle', 'jellyfish', 'bear', 'ant', 'mosquito', 'frog', 'tadpole', 'fish', 'shark', 'dolphin', 'gorilla', 'monkey', 'fly', 'eagle', 'toad', 'rat', 'mouse', 'gerbil', 'groundhog', 'fox', 'raccoon', 'deer', 'squirrel', 'rabbit', 'bluejay', 'peacock', 'giraffe', 'elephant', 'zebra', 'horse', 'cat', 'dog', 'iguana', 'turtle', 'dolphin', 'penguin', 'buffalo', 'kangaroo', 'goose', 'duck', 'swan', 'monkey', 'chimp', 'lion', 'tiger', 'cat', 'dog', 'iguana', 'wombat', 'goat', 'platypus', 'bear', 'firefly', 'fly', 'ant', 'bird', 'eagle', 'moose', 'deer', 'mouse', 'duck', 'crow', 'frog', 'tadpole', 'caterpillar', 'butterfly', 'moth', 'gorilla', 'monkey', 'horse', 'cat', 'lion', 'tiger', 'dog', 'hamster', 'gerbil', 'sheep', 'horse', 'pig', 'goat', 'pony', 'peacock', 'bird', 'lion', 'lamb', 'elephant', 'chicken', 'rooster', 'giraffe', 'elephant', 'lion', 'hippo', 'bat', 'fish', 'shark', 'turtle', 'snake', 'dolphin', 'whale', 'chicken', 'cow', 'horse', 'butterfly', 'bear', 'deer', 'tiger', 'flamingo', 'alligator', 'octopus', 'ostrich', 'peacock', 'bear', 'tiger', 'lion', 'gorilla', 'monkey', 'dog', 'cat', 'hyena', 'snake', 'fish', 'bird', 'rabbit', 'dolphin', 'squirrel', 'guinea', 'mouse', 'lizard', 'iguana', 'crocodile', 'elephant', 'giraffe', 'tiger', 'lion', 'cheetah', 'dog', 'cat', 'mouse', 'rat', 'ostrich', 'parakeet', 'fish', 'gerbil', 'hamster', 'guinea', 'capybara', 'zebra', 'horse', 'tiger', 'emu', 'elk', 'deer', 'antelope', 'cat', 'dog', 'fish', 'shark', 'dolphin', 'shrimp', 'crab', 'lobster', 'iguana', 'bear', 'lion', 'tiger', 'eagle', 'falcon', 'raven', 'lizard', 'gecko', 'alligator', 'crocodile', 'mammoth', 'kangaroo', 'shark', 'stingray', 'angelfish', 'clownfish', 'seahorse', 'seadragon', 'penguin', 'polar', 'dolphin', 'sealion', 'seal', 'tiger', 'panda', 'mule', 'deer', 'bat', 'koala', 'bear', 'bear', 'lemur', 'ring_tailed', 'lemur', 'lion', 'elephant', 'kangaroo', 'wallaby', 'emu', 'ostrich', 'rhino', 'hippo', 'stork', 'guinea', 'fowl', 'zebra', 'kudu', 'cow', 'horse', 'pig', 'sheep', 'donkey', 'ox', 'dog', 'cat', 'bird', 'elephant', 'kangaroo', 'cheetah', 'lion', 'tiger', 'bear', 'iguana', 'kangaroo', 'pelican', 'penguin', 'polar', 'grizzly', 'moose', 'turtle', 'flamingo', 'rhino', 'toucan', 'parakeet', 'alligator', 'crocodile', 'zebra', 'horse', 'rooster', 'chicken', 'pony', 'penguin', 'snake', 'elephant', 'giraffe', 'dog', 'cat', 'gorilla', 'chimp', 'ape', 'insect', 'butterfly', 'ladybug', 'beetle', 'beetle', 'worm', 'ant', 'ant', 'lizard', 'anteater', 'human', 'robin', 'cardinal', 'bluejay', 'lion', 'tiger', 'monkey', 'baboon', 'giraffe', 'elephant', 'buffalo', 'polar', 'bear', 'grizzly', 'duck', 'crocodile', 'alligator', 'crocodile', 'girdle', 'panda', 'sheep', 'goat', 'cow', 'pony', 'horse', 'dog', 'cat', 'fish', 'elephant', 'cheetah', 'tiger', 'lion', 'polar', 'turtle', 'penguin', 'giraffe', 'hamster', 'gerbil', 'squirrel', 'rabbit', 'coyote', 'deer', 'walrus', 'eel', 'dog', 'cat', 'fish', 'jellyfish', 'shark', 'kangaroo', 'camel', 'alligator', 'leopard', 'penguin', 'polar', 'bear', 'bear', 'antelope', 'anteater', 'lizard', 'flamingo', 'bird', 'peacock', 'monkey', 'chimp', 'lion', 'tiger', 'crocodile', 'lion', 'tiger', 'flamingo', 'monkey', 'parrot', 'ferret', 'cat', 'dog', 'fish', 'chimp', 'squirrel', 'zebra', 'elephant', 'jaguar', 'cheetah', 'rhino', 'panda', 'koala', 'anteater', 'beaver', 'porcupine', 'armadillo', 'zebra', 'chihuahua', 'terrier', 'cat', 'dog', 'bird', 'parakeet', 'pelican', 'parrot', 'pelican', 't_rex', 'koala', 'kangaroo', 'giraffe', 'elephant', 'tiger', 'zebra', 'lice', 'stickforn', 'stickbug', 'stinkbug', 'beetle', 'tiger', 'dolphin', 'lion', 'penguin', 'flamingo', 'seagull', 'pigeon', 'woodpecker', 'iguana', 'snake', 'snail', 'not_snails', 'goldfish', 'clownfish', 'dog', 'cat', 'gerbil', 'snake', 'hamster', 'rabbit', 'reptile', 'polar', 'grizzly', 'bear', 'hedgehog', 'porcupine', 'dinosaur', 'cow', 'pig', 'dog', 'cat', 'fish', 'bird', 'horse', 'elephant', 'tiger', 'cheetah', 'penguin', 'fish', 'shark', 'dolphin', 'whale', 'ant', 'centipede', 'millipede', 'lizard', 'iguana', 'snake', 'mouse', 'rat', 'parrot', 'worm', 'elephant', 'monkey', 'gorilla', 'bear', 'tiger', 'rabbit', 'hamster', 'gerbil', 'bird', 'tiger', 'dolphin', 'seal', 'horse', 'kangaroo', 'cheetah', 'zebra', 'ostrich', 'rhino', 'hippo', 'whale', 'jaguar', 'dog', 'cat', 'monkey', 'alligator', 'crocodile', 'toucan', 'horse', 'puppy', 'dog', 'pig', 'donkey', 'mule', 'goose', 'duck', 'fish', 'cheetah', 'lion', 'leopard', 'jaguar', 'monkey', 'gorilla', 'ape', 'snake', 'bee', 'zebra', 'tiger', 'lizard', 'snake', 'koala', 'shark', 'fish', 'rainbow', 'bunny', 'dog', 'cat', 'hamster', 'gopher', 'leopard', 'dog', 'cat', 'lion', 'tiger', 'zebra', 'chicken', 'fish', 'giraffe', 'wolf', 'mouse', 'platypus', 'beaver', 'duck', 'goose', 'bird', 'dog', 'cat', 'horse', 'frog', 'butterfly', 'cricket', 'spider', 'giraffe', 'elephant', 'rhino', 'hippo', 'eagle', 'tiger', 'lion', 'bear', 'polar', 'dolphin', 'penguin', 'lizard', 'snake', 'tarantula', 'shark', 'lemur', 'sloth', 'zebra', 'wildebeest', 'deer', 'rabbit', 'kangaroo', 'giraffe', 'elephant', 'monkey', 'oscar', 'ostrich', 'fish', 'shark', 'whale', 'bird', 'hamster', 'rat', 'cat', 'dog', 'horse', 'pig', 'cow', 'chicken', 'seal', 'giraffe', 'hippo', 'elephant', 'donkey', 'horse', 'dog', 'cat', 'tarantula', 'fish', 'raccoon', 'deer', 'frog', 'snake', 'parrot', 'macaw', 'zebra', 'flamingo', 'duck', 'turtle', 'cheetah', 'jaguar', 'panther', 'lion', 'cat', 'dog', 'butterfly', 'bee', 'bee', 'lion', 'zebra', 'tiger', 'elephant', 'bear', 'kangaroo', 'dolphin', 'fish', 'zebra', 'fly', 'flea', 'tiger', 'squirrel', 'raccoon', 'possum', 'rat', 'mouse', 'snake', 'bird', 'lion', 'tiger', 'bear', 'giraffe', 'elephant', 'dolphin', 'whale', 'snake', 'rabbit', 'lizard', 'spider', 'bat', 'raccoon', 'fox', 'wolf', 'meerkat', 'deer', 'fish', 'tiger', 'lion', 'zebra', 'mammoth', 'elephant', 'manatee', 'hippo', 'giraffe', 'panda', 'lemur', 'sloth', 'fish', 'eel', 'barracuda', 'shark', 'dolphin', 'whale', 'monkey', 'ape', 'gorilla', 'chimp', 'eagle', 'eagle', 'hawk', 'wolf', 'bear', 't_rex', 'dragon', 'pegasus', 'stegosaurus', 'triceratops', 'monster', 'turtle', 'piranha', 'frog', 'turtle', 'tortoise', 'meerkat', 'dog', 'cat', 'elephant', 'squirrel', 'lion', 'lioness', 'fish', 'deer', 'rabbit', 'squirrel', 'hamster', 'bird', 'cow', 'lizard', 'porcupine', 'koala', 'bluejay', 'hippo', 'giraffe', 'giraffe', 'orangutan', 'monkey', 'elephant', 'bird', 'eagle', 'jaguar', 'cheetah', 'frog', 'toad', 'flamingo', 'lion', 'mouse', 'bat', 'fish', 'ape', 'chimp', 'rhino', 'cat', 'dog', 'fish', 'tiger', 'lion', 'rabbit', 'raccoon', 'deer', 'mammoth', 'whale', 'shark', 'bird', 'penguin', 'wolf', 'badger', 'fish', 'baboon', 'gorilla', 'ape', 'monkey', 'elephant', 'giraffe', 'bird', 'parrot', 'pilgrim', 'hippo', 'eagle', 'turtle', 'tiger', 'lion', 'cheetah', 'donkey', 'horse', 'fish', 'cow', 'gorilla', 'snake', 'spider', 'alligator', 'dog', 'cat', 'ferret', 'hamster', 'mouse', 'bird', 'parrot', 'elephant', 'giraffe', 'rhino', 'snake', 'gorilla', 'ape', 'monkey', 'squirrel', 'groundhog', 'raccoon', 'possum', 'deer', 'turkey', 'coyote', 'moose', 'bug', 'leopard', 'lion', 'leopard', 'cow', 'horse', 'pig', 'hog', 'turkey', 'rooster', 'chicken', 'turtle', 'fish', 'scorpion', 'frog', 'lizard', 'snake', 'lion', 'tiger', 'monkey', 'bird', 'lizard', 'lizard', 'deer', 'bear', 'squirrel', 'chipmunk', 'skunk', 'fish', 'dog', 'waterbug', 'spider', 'fly', 'ant', 'giraffe', 'elephant', 'penguin', 'hippo', 'cat', 'dog', 'moose', 'cow', 'kangaroo', 'tiger', 'lion', 'tiger', 'elephant', 'hippo', 'rhino', 'manatee', 'giraffe', 'whale', 'bird', 'chimp', 'monkey', 'lion', 'cheetah', 'rhino', 'zebra', 'giraffe', 'gorilla', 'monkey', 'penguin', 'polar', 'seal', 'killer', 'dolphin', 'shark', 'wolf', 'coyote', 'squirrel', 'chipmunk', 'owl', 'eagle', 'dog', 'cat', 'pig', 'horse', 'cow', 'chicken', 'rooster', 'duck', 'sheep', 'dog', 'cat', 'giraffe', 'monkey', 'dolphin', 'fish', 'goldfish', 'shark', 'deer', 'buck', 'squirrel', 'raccoon', 'beaver', 'bird', 'eagle', 'tiger', 'cheetah', 'lion', 'elephant', 'skunk', 'moose', 'goose', 'goose', 'turkey', 'dolphin', 'killer', 'whale', 'shark', 'seahorse', 'penguin', 'giraffe', 'elephant', 'alligator', 'lizard', 'bobcat', 'tiger', 'leopard', 'jaguar', 'dog', 'cat', 'parrot', 'horse', 'panther', 'tiger', 'bobcat', 'dog', 'shepherd', 'pigeon', 'falcon', 'eagle', 'fox', 'wolf', 'bear', 'buffalo', 'koala', 'polar', 'penguin', 'kitten', 'penguin', 'elephant', 'zebra', 'flamingo', 'frog', 'dog', 'cat', 'bird', 'pigeon', 'seagull', 'pig', 'cow', 'horse', 'armadillo', 'squirrel', 'mouse', 'skunk', 'raccoon', 'fox', 'bear', 'lion', 'tiger', 'panther', 'cougar', 'moose', 'caribou', 'deer', 'cat', 'dog', 'fish', 'turtle', 'bird', 'alligator', 'tiger', 'lion', 'monkey', 'giraffe', 'elephant', 'snake', 'frog', 'worm', 'bear', 'wolf', 'kangaroo', 'octopus', 'deer', 'raccoon', 'squirrel', 'possum', 'dog', 'cat', 'rabbit', 'zebra', 'tiger', 'lion', 'leopard', 'antelope', 'cougar', 'bear', 'polar', 'wolf', 'sheep', 'goat', 'cow', 'horse', 'lion', 'tiger', 'giraffe', 'zebra', 'monkey', 'parrot', 'goat', 'chicken', 'goat', 'rhino', 'cow', 'horse', 'cat', 'dog', 'elephant', 'zebra', 'lion', 'bird', 'panda', 'polar', 'ant', 'anteater', 'giraffe', 'elephant', 'lion', 'tiger', 'dog', 'cat', 'fish', 'monkey', 'hippo', 'rhino', 'ape', 'shark', 'dolphin', 'seal', 'polar', 'bear', 'bird', 'crane', 'swan', 'pigeon', 'dragonfly', 'tiger', 'lion', 'elephant', 'sealion', 'dolphin', 'catfish', 'penguin', 'monkey', 'shark', 'whale', 'tigerfish', 'frog', 'horse', 'tiger', 'lion', 'seahorse', 'sealion', 'hippo', 'dolphin', 'shark', 'fish', 'zebra', 'gazelle', 'tiger', 'alligator', 'crocodile', 'giraffe', 'elephant', 'dog', 'cat', 'chicken', 'rooster', 'pig', 'bird', 'horse', 'cow', 'zebra', 'cheetah', 'leopard', 'bear', 'walrus', 'seal', 'dolphin', 'giraffe', 'elephant', 'monkey', 'spider', 'snake', 'elephant', 'zebra', 'bird', 'dog', 'cat', 'fish', 'lion', 'tiger', 'deer', 'hippo', 'horse', 'wolf', 'dog', 'cow', 'hyena', 'lion', 'tiger', 'bear', 'cheetah', 'walrus', 'seal', 'polar', 'porcupine', 'horse', 'bull', 'bull', 'oxen', 'dog', 'cat', 'bird', 'pig', 'elephant', 'giraffe', 'alligator', 'snake', 'frog', 'fish', 'groundhog', 'boar', 'lion', 'tiger', 'wolf', 'coyote', 'chicken', 'rooster', 'bunny', 'cat', 'dog', 'dolphin', 'shark', 'alligator', 'crocodile', 'bird', 'bear', 'coyote', 'wolf', 'fish', 'seahorse', 'snail', 'koala', 'panda', 'grizzly', 'hyena', 'snake', 'frog', 'toad', 'lion', 'leopard', 'lion', 'bear', 'lion', 'cat', 'dog', 'lizard', 'bird', 'falcon', 'pelican', 'warthog', 'pig', 'horse', 'chicken', 'hog', 'saber_tooth_cat', 'duck', 'dog', 'cat', 'horse', 'turtle', 'ape', 'monkey', 'pony', 'tiger', 'shark', 'lizard', 'gecko', 'ant', 'worm', 'bird', 'bear', 'goat', 'deer', 'lion', 'lion', 'tiger', 'flamingo', 'monkey', 'whale', 'fish', 'shark', 'panther', 'cat', 'dog', 'snake', 'turtle', 'turtle', 'crab', 'squid', 'octopus', 'pig', 'cow', 'horse', 'cat', 'fish', 'dog', 'monkey', 'alligator', 'monkey', 'hippo', 'dolphin', 'shark', 'rainbow', 'dog', 'cat', 'pig', 'cow', 'chicken', 'elephant', 'monkey', 'fish', 'giraffe', 'dolphin', 'dolphin', 'zebra', 'shark', 'turtle', 'UNKNOWN', 'cow', 'elephant', 'giraffe', 'turtle', 'UNKNOWN', 'zebra', 'monkey', 'dog', 'cat', 'lizard', 'dinosaur', 'bear', 'dragon', 'horse', 'pig', 'cow', 'bird', 'lion', 'zebra', 'cheetah', 'leopard', 'elephant', 'zebra', 'snake', 'monkey', 'gorilla', 'giraffe', 'tiger', 'cub', 'ant', 'dragon', 'zebra', 'horse', 'cow', 'sheep', 'chicken', 'rhino', 'orangutan', 'chimp', 'chipmunk', 'giraffe', 'gorilla', 'gorilla', 'dog', 'cat', 'hamster', 'fish', 'frog', 'snake', 'caterpillar', 'giraffe', 'rhino', 'buffalo', 'horse', 'antelope', 'deer', 'sheep', 'dog', 'cat', 'rabbit', 'hamster', 'gerbil', 'guinea', 'penguin', 'giraffe', 'jaguar', 'lion', 'cheetah', 'prairie', 'gorilla', 'elephant', 'tiger', 'tiger', 'zebra', 'giraffe', 'penguin', 'panda', 'alligator', 'dog', 'cat', 'lizard', 'gecko', 'crab', 'octopus', 'jellyfish', 'turtle', 'bird', 'chick', 'hen', 'rooster', 'crow', 'cat', 'dog', 'pig', 'cow', 'chicken', 'rooster', 'frog', 'snake', 'lizard', 'iguana', 'badger', 'bulldog', 'puppy', 'kitten', 'goose', 'duck', 'wolf']\n",
      "['lizard', 'cat', 'hawk', 'dog', 'turtle', 'jellyfish', 'bear', 'ant', 'mosquito', 'frog', 'tadpole', 'fish', 'shark', 'dolphin', 'gorilla', 'monkey', 'fly', 'eagle', 'toad', 'rat', 'mouse', 'gerbil', 'groundhog', 'fox', 'raccoon', 'deer', 'squirrel', 'rabbit', 'bluejay', 'peacock', 'giraffe', 'elephant', 'zebra', 'horse', 'cat', 'dog', 'iguana', 'turtle', 'dolphin', 'penguin', 'buffalo', 'kangaroo', 'goose', 'duck', 'swan', 'monkey', 'chimpanzee', 'lion', 'tiger', 'cat', 'dog', 'iguana', 'wombat', 'goat', 'platypus', 'bear', 'firefly', 'fly', 'ant', 'bird', 'eagle', 'moose', 'deer', 'mouse', 'duck', 'crow', 'frog', 'tadpole', 'caterpillar', 'butterfly', 'moth', 'gorilla', 'monkey', 'horse', 'cat', 'lion', 'tiger', 'dog', 'hamster', 'gerbil', 'sheep', 'horse', 'pig', 'goat', 'pony', 'peacock', 'bird', 'lion', 'lamb', 'elephant', 'chicken', 'rooster', 'giraffe', 'elephant', 'lion', 'hippopotamus', 'bat', 'fish', 'shark', 'turtle', 'snake', 'dolphin', 'whale', 'chicken', 'cow', 'horse', 'butterfly', 'bear', 'deer', 'tiger', 'flamingo', 'alligator', 'octopus', 'ostrich', 'peacock', 'bear', 'tiger', 'lion', 'gorilla', 'monkey', 'dog', 'cat', 'hyena', 'snake', 'fish', 'bird', 'rabbit', 'dolphin', 'squirrel', 'guinea', 'mouse', 'lizard', 'iguana', 'crocodile', 'elephant', 'giraffe', 'tiger', 'lion', 'cheetah', 'dog', 'cat', 'mouse', 'rat', 'ostrich', 'parakeet', 'fish', 'gerbil', 'hamster', 'guinea', 'capybara', 'zebra', 'horse', 'tiger', 'emu', 'elk', 'deer', 'antelope', 'cat', 'dog', 'fish', 'shark', 'dolphin', 'shrimp', 'crab', 'lobster', 'iguana', 'bear', 'lion', 'tiger', 'eagle', 'falcon', 'raven', 'lizard', 'gecko', 'alligator', 'crocodile', 'mammoth', 'kangaroo', 'shark', 'stingray', 'angelfish', 'clownfish', 'seahorse', 'seahorse', 'penguin', 'polar', 'dolphin', 'sealion', 'seal', 'tiger', 'panda', 'mule', 'deer', 'bat', 'koala', 'bear', 'bear', 'lemur', 'ringtailcat', 'lemur', 'lion', 'elephant', 'kangaroo', 'wallaby', 'emu', 'ostrich', 'rhinoceros', 'hippopotamus', 'stork', 'guinea', 'fowl', 'zebra', 'kudu', 'cow', 'horse', 'pig', 'sheep', 'donkey', 'ox', 'dog', 'cat', 'bird', 'elephant', 'kangaroo', 'cheetah', 'lion', 'tiger', 'bear', 'iguana', 'kangaroo', 'pelican', 'penguin', 'polar', 'grizzly', 'moose', 'turtle', 'flamingo', 'rhinoceros', 'toucan', 'parakeet', 'alligator', 'crocodile', 'zebra', 'horse', 'rooster', 'chicken', 'pony', 'penguin', 'snake', 'elephant', 'giraffe', 'dog', 'cat', 'gorilla', 'chimpanzee', 'ape', 'insect', 'butterfly', 'ladybug', 'beetle', 'beetle', 'worm', 'ant', 'ant', 'lizard', 'anteater', 'human', 'robin', 'cardinal', 'bluejay', 'lion', 'tiger', 'monkey', 'baboon', 'giraffe', 'elephant', 'buffalo', 'polar', 'bear', 'grizzly', 'duck', 'crocodile', 'alligator', 'crocodile', 'girdle', 'panda', 'sheep', 'goat', 'cow', 'pony', 'horse', 'dog', 'cat', 'fish', 'elephant', 'cheetah', 'tiger', 'lion', 'polar', 'turtle', 'penguin', 'giraffe', 'hamster', 'gerbil', 'squirrel', 'rabbit', 'coyote', 'deer', 'walrus', 'eel', 'dog', 'cat', 'fish', 'jellyfish', 'shark', 'kangaroo', 'camel', 'alligator', 'leopard', 'penguin', 'polar', 'bear', 'bear', 'antelope', 'anteater', 'lizard', 'flamingo', 'bird', 'peacock', 'monkey', 'chimpanzee', 'lion', 'tiger', 'crocodile', 'lion', 'tiger', 'flamingo', 'monkey', 'parrot', 'ferret', 'cat', 'dog', 'fish', 'chimpanzee', 'squirrel', 'zebra', 'elephant', 'jaguar', 'cheetah', 'rhinoceros', 'panda', 'koala', 'anteater', 'beaver', 'porcupine', 'armadillo', 'zebra', 'chihuahua', 'terrier', 'cat', 'dog', 'bird', 'parakeet', 'pelican', 'parrot', 'pelican', 'tyrannosaurusrex', 'koala', 'kangaroo', 'giraffe', 'elephant', 'tiger', 'zebra', 'lice', 'stickforn', 'stickbug', 'stinkbug', 'beetle', 'tiger', 'dolphin', 'lion', 'penguin', 'flamingo', 'seagull', 'pigeon', 'woodpecker', 'iguana', 'snake', 'snail', 'snail', 'goldfish', 'clownfish', 'dog', 'cat', 'gerbil', 'snake', 'hamster', 'rabbit', 'reptile', 'polar', 'grizzly', 'bear', 'hedgehog', 'porcupine', 'dinosaur', 'cow', 'pig', 'dog', 'cat', 'fish', 'bird', 'horse', 'elephant', 'tiger', 'cheetah', 'penguin', 'fish', 'shark', 'dolphin', 'whale', 'ant', 'centipede', 'millipede', 'lizard', 'iguana', 'snake', 'mouse', 'rat', 'parrot', 'worm', 'elephant', 'monkey', 'gorilla', 'bear', 'tiger', 'rabbit', 'hamster', 'gerbil', 'bird', 'tiger', 'dolphin', 'seal', 'horse', 'kangaroo', 'cheetah', 'zebra', 'ostrich', 'rhinoceros', 'hippopotamus', 'whale', 'jaguar', 'dog', 'cat', 'monkey', 'alligator', 'crocodile', 'toucan', 'horse', 'puppy', 'dog', 'pig', 'donkey', 'mule', 'goose', 'duck', 'fish', 'cheetah', 'lion', 'leopard', 'jaguar', 'monkey', 'gorilla', 'ape', 'snake', 'bee', 'zebra', 'tiger', 'lizard', 'snake', 'koala', 'shark', 'fish', 'rainbow', 'bunny', 'dog', 'cat', 'hamster', 'gopher', 'leopard', 'dog', 'cat', 'lion', 'tiger', 'zebra', 'chicken', 'fish', 'giraffe', 'wolf', 'mouse', 'platypus', 'beaver', 'duck', 'goose', 'bird', 'dog', 'cat', 'horse', 'frog', 'butterfly', 'cricket', 'spider', 'giraffe', 'elephant', 'rhinoceros', 'hippopotamus', 'eagle', 'tiger', 'lion', 'bear', 'polar', 'dolphin', 'penguin', 'lizard', 'snake', 'tarantula', 'shark', 'lemur', 'sloth', 'zebra', 'wildebeest', 'deer', 'rabbit', 'kangaroo', 'giraffe', 'elephant', 'monkey', 'oscar', 'ostrich', 'fish', 'shark', 'whale', 'bird', 'hamster', 'rat', 'cat', 'dog', 'horse', 'pig', 'cow', 'chicken', 'seal', 'giraffe', 'hippopotamus', 'elephant', 'donkey', 'horse', 'dog', 'cat', 'tarantula', 'fish', 'raccoon', 'deer', 'frog', 'snake', 'parrot', 'macaw', 'zebra', 'flamingo', 'duck', 'turtle', 'cheetah', 'jaguar', 'panther', 'lion', 'cat', 'dog', 'butterfly', 'bee', 'bee', 'lion', 'zebra', 'tiger', 'elephant', 'bear', 'kangaroo', 'dolphin', 'fish', 'zebra', 'fly', 'flea', 'tiger', 'squirrel', 'raccoon', 'possum', 'rat', 'mouse', 'snake', 'bird', 'lion', 'tiger', 'bear', 'giraffe', 'elephant', 'dolphin', 'whale', 'snake', 'rabbit', 'lizard', 'spider', 'bat', 'raccoon', 'fox', 'wolf', 'meerkat', 'deer', 'fish', 'tiger', 'lion', 'zebra', 'mammoth', 'elephant', 'manatee', 'hippopotamus', 'giraffe', 'panda', 'lemur', 'sloth', 'fish', 'eel', 'barracuda', 'shark', 'dolphin', 'whale', 'monkey', 'ape', 'gorilla', 'chimpanzee', 'eagle', 'eagle', 'hawk', 'wolf', 'bear', 'tyrannosaurusrex', 'dragon', 'pegasus', 'stegosaurus', 'triceratops', 'monster', 'turtle', 'piranha', 'frog', 'turtle', 'tortoise', 'meerkat', 'dog', 'cat', 'elephant', 'squirrel', 'lion', 'lioness', 'fish', 'deer', 'rabbit', 'squirrel', 'hamster', 'bird', 'cow', 'lizard', 'porcupine', 'koala', 'bluejay', 'hippopotamus', 'giraffe', 'giraffe', 'orangutan', 'monkey', 'elephant', 'bird', 'eagle', 'jaguar', 'cheetah', 'frog', 'toad', 'flamingo', 'lion', 'mouse', 'bat', 'fish', 'ape', 'chimpanzee', 'rhinoceros', 'cat', 'dog', 'fish', 'tiger', 'lion', 'rabbit', 'raccoon', 'deer', 'mammoth', 'whale', 'shark', 'bird', 'penguin', 'wolf', 'badger', 'fish', 'baboon', 'gorilla', 'ape', 'monkey', 'elephant', 'giraffe', 'bird', 'parrot', 'pilgrim', 'hippopotamus', 'eagle', 'turtle', 'tiger', 'lion', 'cheetah', 'donkey', 'horse', 'fish', 'cow', 'gorilla', 'snake', 'spider', 'alligator', 'dog', 'cat', 'ferret', 'hamster', 'mouse', 'bird', 'parrot', 'elephant', 'giraffe', 'rhinoceros', 'snake', 'gorilla', 'ape', 'monkey', 'squirrel', 'groundhog', 'raccoon', 'possum', 'deer', 'turkey', 'coyote', 'moose', 'bug', 'leopard', 'lion', 'leopard', 'cow', 'horse', 'pig', 'hog', 'turkey', 'rooster', 'chicken', 'turtle', 'fish', 'scorpion', 'frog', 'lizard', 'snake', 'lion', 'tiger', 'monkey', 'bird', 'lizard', 'lizard', 'deer', 'bear', 'squirrel', 'chipmunk', 'skunk', 'fish', 'dog', 'waterbug', 'spider', 'fly', 'ant', 'giraffe', 'elephant', 'penguin', 'hippopotamus', 'cat', 'dog', 'moose', 'cow', 'kangaroo', 'tiger', 'lion', 'tiger', 'elephant', 'hippopotamus', 'rhinoceros', 'manatee', 'giraffe', 'whale', 'bird', 'chimpanzee', 'monkey', 'lion', 'cheetah', 'rhinoceros', 'zebra', 'giraffe', 'gorilla', 'monkey', 'penguin', 'polar', 'seal', 'killer', 'dolphin', 'shark', 'wolf', 'coyote', 'squirrel', 'chipmunk', 'owl', 'eagle', 'dog', 'cat', 'pig', 'horse', 'cow', 'chicken', 'rooster', 'duck', 'sheep', 'dog', 'cat', 'giraffe', 'monkey', 'dolphin', 'fish', 'goldfish', 'shark', 'deer', 'buck', 'squirrel', 'raccoon', 'beaver', 'bird', 'eagle', 'tiger', 'cheetah', 'lion', 'elephant', 'skunk', 'moose', 'goose', 'goose', 'turkey', 'dolphin', 'killer', 'whale', 'shark', 'seahorse', 'penguin', 'giraffe', 'elephant', 'alligator', 'lizard', 'bobcat', 'tiger', 'leopard', 'jaguar', 'dog', 'cat', 'parrot', 'horse', 'panther', 'tiger', 'bobcat', 'dog', 'shepherd', 'pigeon', 'falcon', 'eagle', 'fox', 'wolf', 'bear', 'buffalo', 'koala', 'polar', 'penguin', 'kitten', 'penguin', 'elephant', 'zebra', 'flamingo', 'frog', 'dog', 'cat', 'bird', 'pigeon', 'seagull', 'pig', 'cow', 'horse', 'armadillo', 'squirrel', 'mouse', 'skunk', 'raccoon', 'fox', 'bear', 'lion', 'tiger', 'panther', 'cougar', 'moose', 'caribou', 'deer', 'cat', 'dog', 'fish', 'turtle', 'bird', 'alligator', 'tiger', 'lion', 'monkey', 'giraffe', 'elephant', 'snake', 'frog', 'worm', 'bear', 'wolf', 'kangaroo', 'octopus', 'deer', 'raccoon', 'squirrel', 'possum', 'dog', 'cat', 'rabbit', 'zebra', 'tiger', 'lion', 'leopard', 'antelope', 'cougar', 'bear', 'polar', 'wolf', 'sheep', 'goat', 'cow', 'horse', 'lion', 'tiger', 'giraffe', 'zebra', 'monkey', 'parrot', 'goat', 'chicken', 'goat', 'rhinoceros', 'cow', 'horse', 'cat', 'dog', 'elephant', 'zebra', 'lion', 'bird', 'panda', 'polar', 'ant', 'anteater', 'giraffe', 'elephant', 'lion', 'tiger', 'dog', 'cat', 'fish', 'monkey', 'hippopotamus', 'rhinoceros', 'ape', 'shark', 'dolphin', 'seal', 'polar', 'bear', 'bird', 'crane', 'swan', 'pigeon', 'dragonfly', 'tiger', 'lion', 'elephant', 'sealion', 'dolphin', 'catfish', 'penguin', 'monkey', 'shark', 'whale', 'milkfish', 'frog', 'horse', 'tiger', 'lion', 'seahorse', 'sealion', 'hippopotamus', 'dolphin', 'shark', 'fish', 'zebra', 'gazelle', 'tiger', 'alligator', 'crocodile', 'giraffe', 'elephant', 'dog', 'cat', 'chicken', 'rooster', 'pig', 'bird', 'horse', 'cow', 'zebra', 'cheetah', 'leopard', 'bear', 'walrus', 'seal', 'dolphin', 'giraffe', 'elephant', 'monkey', 'spider', 'snake', 'elephant', 'zebra', 'bird', 'dog', 'cat', 'fish', 'lion', 'tiger', 'deer', 'hippopotamus', 'horse', 'wolf', 'dog', 'cow', 'hyena', 'lion', 'tiger', 'bear', 'cheetah', 'walrus', 'seal', 'polar', 'porcupine', 'horse', 'bull', 'bull', 'oxen', 'dog', 'cat', 'bird', 'pig', 'elephant', 'giraffe', 'alligator', 'snake', 'frog', 'fish', 'groundhog', 'boar', 'lion', 'tiger', 'wolf', 'coyote', 'chicken', 'rooster', 'bunny', 'cat', 'dog', 'dolphin', 'shark', 'alligator', 'crocodile', 'bird', 'bear', 'coyote', 'wolf', 'fish', 'seahorse', 'snail', 'koala', 'panda', 'grizzly', 'hyena', 'snake', 'frog', 'toad', 'lion', 'leopard', 'lion', 'bear', 'lion', 'cat', 'dog', 'lizard', 'bird', 'falcon', 'pelican', 'warthog', 'pig', 'horse', 'chicken', 'hog', 'sabertoothedtiger', 'duck', 'dog', 'cat', 'horse', 'turtle', 'ape', 'monkey', 'pony', 'tiger', 'shark', 'lizard', 'gecko', 'ant', 'worm', 'bird', 'bear', 'goat', 'deer', 'lion', 'lion', 'tiger', 'flamingo', 'monkey', 'whale', 'fish', 'shark', 'panther', 'cat', 'dog', 'snake', 'turtle', 'turtle', 'crab', 'squid', 'octopus', 'pig', 'cow', 'horse', 'cat', 'fish', 'dog', 'monkey', 'alligator', 'monkey', 'hippopotamus', 'dolphin', 'shark', 'rainbow', 'dog', 'cat', 'pig', 'cow', 'chicken', 'elephant', 'monkey', 'fish', 'giraffe', 'dolphin', 'dolphin', 'zebra', 'shark', 'turtle', 'UNKNOWN', 'cow', 'elephant', 'giraffe', 'turtle', 'UNKNOWN', 'zebra', 'monkey', 'dog', 'cat', 'lizard', 'dinosaur', 'bear', 'dragon', 'horse', 'pig', 'cow', 'bird', 'lion', 'zebra', 'cheetah', 'leopard', 'elephant', 'zebra', 'snake', 'monkey', 'gorilla', 'giraffe', 'tiger', 'cub', 'ant', 'dragon', 'zebra', 'horse', 'cow', 'sheep', 'chicken', 'rhinoceros', 'orangutan', 'chimpanzee', 'chipmunk', 'giraffe', 'gorilla', 'gorilla', 'dog', 'cat', 'hamster', 'fish', 'frog', 'snake', 'caterpillar', 'giraffe', 'rhinoceros', 'buffalo', 'horse', 'antelope', 'deer', 'sheep', 'dog', 'cat', 'rabbit', 'hamster', 'gerbil', 'guinea', 'penguin', 'giraffe', 'jaguar', 'lion', 'cheetah', 'prairie', 'gorilla', 'elephant', 'tiger', 'tiger', 'zebra', 'giraffe', 'penguin', 'panda', 'alligator', 'dog', 'cat', 'lizard', 'gecko', 'crab', 'octopus', 'jellyfish', 'turtle', 'bird', 'chick', 'hen', 'rooster', 'crow', 'cat', 'dog', 'pig', 'cow', 'chicken', 'rooster', 'frog', 'snake', 'lizard', 'iguana', 'badger', 'bulldog', 'puppy', 'kitten', 'goose', 'duck', 'wolf']\n",
      "['yes', 'yes', 'yes', 'yes', 'yes', 'yes', 'yes', 'yes', 'yes', 'yes', 'yes', 'yes', 'yes', 'yes', 'yes', 'yes', 'yes', 'yes', 'yes', 'yes', 'yes', 'no', 'no', 'yes', 'no', 'yes', 'yes', 'yes', 'no', 'yes', 'no', 'yes', 'yes', 'yes', 'yes', 'yes', 'no', 'yes', 'yes', 'yes', 'yes', 'yes', 'yes', 'yes', 'yes', 'yes', 'no', 'yes', 'yes', 'yes', 'yes', 'no', 'no', 'yes', 'no', 'yes', 'yes', 'yes', 'yes', 'yes', 'yes', 'yes', 'yes', 'yes', 'yes', 'yes', 'yes', 'yes', 'yes', 'yes', 'yes', 'yes', 'yes', 'yes', 'yes', 'yes', 'yes', 'yes', 'no', 'no', 'yes', 'yes', 'yes', 'yes', 'yes', 'yes', 'yes', 'yes', 'yes', 'yes', 'yes', 'yes', 'no', 'yes', 'yes', 'yes', 'yes', 'yes', 'yes', 'yes', 'yes', 'yes', 'yes', 'yes', 'yes', 'yes', 'yes', 'yes', 'yes', 'yes', 'no', 'yes', 'no', 'yes', 'yes', 'yes', 'yes', 'yes', 'yes', 'yes', 'yes', 'yes', 'yes', 'yes', 'yes', 'yes', 'yes', 'yes', 'yes', 'yes', 'yes', 'yes', 'no', 'yes', 'yes', 'no', 'yes', 'yes', 'no', 'yes', 'yes', 'yes', 'yes', 'yes', 'yes', 'yes', 'no', 'no', 'yes', 'no', 'yes', 'yes', 'yes', 'no', 'yes', 'yes', 'yes', 'yes', 'yes', 'yes', 'yes', 'yes', 'yes', 'yes', 'yes', 'no', 'yes', 'yes', 'yes', 'yes', 'yes', 'yes', 'yes', 'no', 'yes', 'yes', 'yes', 'yes', 'yes', 'no', 'no', 'no', 'no', 'no', 'yes', 'yes', 'yes', 'no', 'yes', 'yes', 'no', 'yes', 'yes', 'yes', 'no', 'yes', 'yes', 'no', 'no', 'no', 'yes', 'yes', 'yes', 'no', 'no', 'yes', 'yes', 'yes', 'yes', 'yes', 'yes', 'yes', 'no', 'yes', 'yes', 'yes', 'yes', 'yes', 'yes', 'yes', 'yes', 'yes', 'yes', 'yes', 'no', 'yes', 'yes', 'yes', 'no', 'yes', 'yes', 'yes', 'yes', 'yes', 'yes', 'yes', 'no', 'yes', 'no', 'yes', 'yes', 'yes', 'yes', 'yes', 'yes', 'yes', 'yes', 'yes', 'yes', 'yes', 'no', 'yes', 'yes', 'yes', 'no', 'yes', 'yes', 'yes', 'yes', 'yes', 'yes', 'yes', 'yes', 'yes', 'yes', 'no', 'yes', 'yes', 'yes', 'no', 'yes', 'yes', 'yes', 'yes', 'no', 'yes', 'yes', 'yes', 'yes', 'yes', 'yes', 'yes', 'yes', 'yes', 'yes', 'no', 'yes', 'yes', 'yes', 'yes', 'yes', 'yes', 'yes', 'yes', 'yes', 'no', 'yes', 'yes', 'yes', 'yes', 'yes', 'no', 'no', 'no', 'yes', 'yes', 'yes', 'yes', 'yes', 'yes', 'yes', 'yes', 'yes', 'yes', 'yes', 'yes', 'yes', 'yes', 'yes', 'yes', 'yes', 'yes', 'yes', 'yes', 'no', 'yes', 'no', 'yes', 'yes', 'yes', 'no', 'yes', 'yes', 'yes', 'yes', 'yes', 'no', 'yes', 'yes', 'yes', 'yes', 'yes', 'yes', 'no', 'yes', 'yes', 'yes', 'yes', 'no', 'yes', 'no', 'no', 'no', 'yes', 'yes', 'no', 'yes', 'no', 'yes', 'yes', 'yes', 'yes', 'yes', 'yes', 'yes', 'yes', 'no', 'no', 'yes', 'no', 'yes', 'yes', 'yes', 'yes', 'no', 'no', 'no', 'yes', 'yes', 'yes', 'yes', 'yes', 'no', 'no', 'yes', 'yes', 'no', 'yes', 'yes', 'yes', 'yes', 'no', 'yes', 'yes', 'no', 'yes', 'no', 'yes', 'yes', 'yes', 'yes', 'yes', 'yes', 'yes', 'no', 'yes', 'yes', 'yes', 'yes', 'yes', 'yes', 'yes', 'yes', 'yes', 'no', 'yes', 'yes', 'yes', 'yes', 'yes', 'yes', 'yes', 'no', 'yes', 'no', 'yes', 'yes', 'yes', 'yes', 'yes', 'yes', 'yes', 'yes', 'yes', 'yes', 'yes', 'no', 'no', 'yes', 'yes', 'yes', 'yes', 'yes', 'yes', 'no', 'yes', 'yes', 'yes', 'yes', 'yes', 'yes', 'yes', 'yes', 'yes', 'yes', 'yes', 'no', 'yes', 'yes', 'yes', 'yes', 'yes', 'yes', 'yes', 'yes', 'yes', 'no', 'yes', 'yes', 'yes', 'yes', 'yes', 'yes', 'yes', 'yes', 'yes', 'yes', 'yes', 'yes', 'no', 'yes', 'yes', 'yes', 'yes', 'yes', 'yes', 'no', 'yes', 'yes', 'yes', 'yes', 'yes', 'yes', 'yes', 'yes', 'yes', 'no', 'yes', 'yes', 'no', 'yes', 'yes', 'yes', 'yes', 'yes', 'yes', 'yes', 'yes', 'yes', 'yes', 'yes', 'no', 'yes', 'yes', 'yes', 'yes', 'yes', 'yes', 'yes', 'yes', 'yes', 'yes', 'yes', 'yes', 'no', 'yes', 'no', 'yes', 'yes', 'no', 'yes', 'yes', 'yes', 'no', 'yes', 'yes', 'yes', 'yes', 'yes', 'yes', 'yes', 'yes', 'no', 'yes', 'yes', 'yes', 'yes', 'yes', 'yes', 'yes', 'yes', 'no', 'yes', 'yes', 'yes', 'yes', 'yes', 'yes', 'no', 'yes', 'no', 'yes', 'yes', 'yes', 'yes', 'no', 'yes', 'no', 'yes', 'yes', 'no', 'yes', 'yes', 'yes', 'yes', 'yes', 'yes', 'yes', 'yes', 'yes', 'yes', 'yes', 'yes', 'yes', 'yes', 'yes', 'yes', 'yes', 'yes', 'yes', 'yes', 'yes', 'no', 'yes', 'yes', 'yes', 'yes', 'yes', 'yes', 'yes', 'yes', 'no', 'yes', 'yes', 'yes', 'yes', 'yes', 'yes', 'yes', 'yes', 'no', 'yes', 'yes', 'no', 'yes', 'yes', 'yes', 'yes', 'yes', 'yes', 'yes', 'no', 'yes', 'no', 'no', 'no', 'yes', 'yes', 'yes', 'no', 'yes', 'yes', 'yes', 'yes', 'yes', 'yes', 'no', 'yes', 'yes', 'yes', 'yes', 'yes', 'no', 'yes', 'yes', 'no', 'no', 'yes', 'yes', 'no', 'yes', 'yes', 'yes', 'no', 'yes', 'yes', 'yes', 'yes', 'yes', 'yes', 'yes', 'yes', 'yes', 'yes', 'no', 'yes', 'yes', 'yes', 'yes', 'no', 'no', 'yes', 'no', 'no', 'no', 'yes', 'yes', 'yes', 'yes', 'yes', 'no', 'yes', 'yes', 'no', 'yes', 'yes', 'yes', 'yes', 'yes', 'no', 'yes', 'yes', 'yes', 'yes', 'yes', 'yes', 'yes', 'no', 'yes', 'yes', 'yes', 'yes', 'yes', 'yes', 'yes', 'yes', 'yes', 'yes', 'yes', 'yes', 'yes', 'yes', 'no', 'yes', 'yes', 'yes', 'yes', 'yes', 'yes', 'yes', 'yes', 'no', 'yes', 'yes', 'yes', 'yes', 'yes', 'yes', 'yes', 'yes', 'yes', 'yes', 'yes', 'no', 'yes', 'yes', 'yes', 'yes', 'no', 'yes', 'yes', 'yes', 'yes', 'yes', 'yes', 'no', 'no', 'yes', 'yes', 'yes', 'yes', 'yes', 'yes', 'yes', 'yes', 'yes', 'yes', 'yes', 'yes', 'yes', 'yes', 'yes', 'yes', 'yes', 'yes', 'yes', 'yes', 'yes', 'yes', 'yes', 'yes', 'yes', 'yes', 'yes', 'yes', 'yes', 'yes', 'yes', 'yes', 'yes', 'yes', 'yes', 'no', 'yes', 'yes', 'yes', 'no', 'yes', 'yes', 'yes', 'yes', 'yes', 'yes', 'yes', 'yes', 'yes', 'yes', 'yes', 'yes', 'yes', 'yes', 'no', 'no', 'yes', 'yes', 'no', 'yes', 'yes', 'no', 'yes', 'yes', 'no', 'yes', 'yes', 'yes', 'yes', 'yes', 'yes', 'yes', 'yes', 'yes', 'yes', 'yes', 'yes', 'yes', 'yes', 'yes', 'yes', 'yes', 'yes', 'yes', 'yes', 'yes', 'yes', 'yes', 'yes', 'yes', 'no', 'yes', 'yes', 'yes', 'yes', 'yes', 'yes', 'yes', 'yes', 'no', 'yes', 'yes', 'yes', 'yes', 'no', 'yes', 'yes', 'yes', 'yes', 'yes', 'yes', 'yes', 'yes', 'yes', 'yes', 'yes', 'no', 'yes', 'no', 'yes', 'yes', 'yes', 'no', 'yes', 'yes', 'yes', 'yes', 'yes', 'yes', 'yes', 'yes', 'yes', 'no', 'yes', 'yes', 'yes', 'yes', 'yes', 'yes', 'yes', 'yes', 'yes', 'no', 'yes', 'yes', 'yes', 'yes', 'yes', 'yes', 'no', 'yes', 'yes', 'yes', 'yes', 'yes', 'no', 'yes', 'yes', 'yes', 'no', 'yes', 'yes', 'yes', 'no', 'yes', 'yes', 'yes', 'yes', 'yes', 'yes', 'yes', 'yes', 'yes', 'yes', 'yes', 'yes', 'yes', 'yes', 'yes', 'yes', 'yes', 'yes', 'no', 'yes', 'yes', 'yes', 'yes', 'yes', 'yes', 'yes', 'no', 'yes', 'no', 'yes', 'yes', 'yes', 'yes', 'yes', 'yes', 'yes', 'yes', 'yes', 'yes', 'yes', 'yes', 'yes', 'yes', 'yes', 'yes', 'yes', 'yes', 'yes', 'yes', 'no', 'yes', 'yes', 'yes', 'yes', 'yes', 'yes', 'yes', 'yes', 'yes', 'yes', 'yes', 'yes', 'yes', 'yes', 'yes', 'no', 'yes', 'yes', 'no', 'no', 'yes', 'yes', 'yes', 'yes', 'yes', 'yes', 'yes', 'yes', 'yes', 'yes', 'yes', 'yes', 'yes', 'yes', 'yes', 'yes', 'yes', 'yes', 'yes', 'no', 'yes', 'yes', 'yes', 'no', 'yes', 'no', 'yes', 'yes', 'yes', 'yes', 'no', 'yes', 'yes', 'yes', 'yes', 'no', 'no', 'yes', 'yes', 'yes', 'yes', 'yes', 'yes', 'yes', 'yes', 'yes', 'no', 'yes', 'yes', 'yes', 'yes', 'yes', 'yes', 'yes', 'yes', 'yes', 'yes', 'no', 'yes', 'yes', 'yes', 'yes', 'yes', 'no', 'yes', 'yes', 'yes', 'yes', 'yes', 'yes', 'yes', 'yes', 'yes', 'yes', 'yes', 'yes', 'yes', 'yes', 'yes', 'yes', 'yes', 'yes', 'yes', 'yes', 'yes', 'yes', 'no', 'yes', 'yes', 'yes', 'yes', 'yes', 'yes', 'yes', 'yes', 'yes', 'yes', 'yes', 'yes', 'yes', 'no', 'yes', 'yes', 'yes', 'yes', 'no', 'yes', 'yes', 'yes', 'yes', 'yes', 'yes', 'yes', 'yes', 'yes', 'yes', 'yes', 'yes', 'yes', 'yes', 'yes', 'yes', 'yes', 'yes', 'yes', 'no', 'yes', 'no', 'no', 'yes', 'yes', 'yes', 'yes', 'yes', 'yes', 'yes', 'yes', 'yes', 'yes', 'yes', 'yes', 'yes', 'yes', 'yes', 'yes', 'no', 'yes', 'yes', 'yes', 'yes', 'no', 'yes', 'yes', 'yes', 'yes', 'yes', 'yes', 'yes', 'yes', 'yes', 'yes', 'yes', 'no', 'yes', 'yes', 'yes', 'yes', 'yes', 'yes', 'yes', 'yes', 'yes', 'no', 'yes', 'yes', 'yes', 'yes', 'yes', 'yes', 'yes', 'yes', 'yes', 'yes', 'yes', 'no', 'no', 'yes', 'yes', 'yes', 'yes', 'yes', 'yes', 'yes', 'yes', 'yes', 'yes', 'yes', 'yes', 'yes', 'yes', 'yes', 'yes', 'yes', 'yes', 'yes', 'yes', 'yes', 'no', 'yes', 'yes', 'yes', 'yes', 'yes', 'no', 'yes', 'yes', 'no', 'yes', 'no', 'yes', 'yes', 'yes', 'yes', 'yes', 'no', 'yes', 'yes', 'yes', 'yes', 'yes', 'yes', 'yes', 'yes', 'no', 'yes', 'yes', 'yes', 'yes', 'yes', 'yes', 'no', 'yes', 'yes', 'yes', 'yes', 'yes', 'yes', 'yes', 'yes', 'yes', 'yes', 'no', 'no', 'yes', 'no', 'yes', 'yes', 'yes', 'yes', 'no', 'yes', 'yes', 'yes', 'yes', 'no', 'yes', 'yes', 'yes', 'yes', 'yes', 'yes', 'yes', 'yes', 'yes', 'no', 'no', 'yes', 'yes', 'no', 'yes', 'yes', 'no', 'yes', 'yes', 'yes', 'yes', 'yes', 'yes', 'no', 'yes', 'no', 'yes', 'yes', 'yes', 'yes', 'no', 'yes', 'no', 'yes', 'yes', 'yes', 'yes', 'yes', 'yes', 'yes', 'yes', 'yes', 'yes', 'yes', 'yes', 'yes', 'yes', 'yes', 'yes', 'no', 'yes', 'yes', 'yes', 'yes', 'yes', 'yes', 'yes']\n",
      "['N/A', 'N/A', 'N/A', 'N/A', 'N/A', 'N/A', 'N/A', 'N/A', 'N/A', 'N/A', 'N/A', 'N/A', 'N/A', 'N/A', 'N/A', 'N/A', 'N/A', 'N/A', 'N/A', 'N/A', 'N/A', ['Pets', 'Rodents'], ['Rodents', 'Weasels'], 'N/A', ['NorthAmerican'], 'N/A', 'N/A', 'N/A', ['Bird'], 'N/A', ['African'], 'N/A', 'N/A', 'N/A', 'N/A', 'N/A', ['ReptileAmphibian'], 'N/A', 'N/A', 'N/A', 'N/A', 'N/A', 'N/A', 'N/A', 'N/A', 'N/A', ['African', 'Primates'], 'N/A', 'N/A', 'N/A', 'N/A', ['ReptileAmphibian'], ['Australian'], 'N/A', ['Australian', 'Water'], 'N/A', 'N/A', 'N/A', 'N/A', 'N/A', 'N/A', 'N/A', 'N/A', 'N/A', 'N/A', 'N/A', 'N/A', 'N/A', 'N/A', 'N/A', 'N/A', 'N/A', 'N/A', 'N/A', 'N/A', 'N/A', 'N/A', 'N/A', ['Pets', 'Rodents'], ['Pets', 'Rodents'], 'N/A', 'N/A', 'N/A', 'N/A', 'N/A', 'N/A', 'N/A', 'N/A', 'N/A', 'N/A', 'N/A', 'N/A', ['African'], 'N/A', 'N/A', 'N/A', 'N/A', 'N/A', 'N/A', 'N/A', 'N/A', 'N/A', 'N/A', 'N/A', 'N/A', 'N/A', 'N/A', 'N/A', 'N/A', 'N/A', ['Bird'], 'N/A', ['Water'], 'N/A', 'N/A', 'N/A', 'N/A', 'N/A', 'N/A', 'N/A', 'N/A', 'N/A', 'N/A', 'N/A', 'N/A', 'N/A', 'N/A', 'N/A', 'N/A', 'N/A', 'N/A', 'N/A', ['ReptileAmphibian'], 'N/A', 'N/A', ['African'], 'N/A', 'N/A', ['African', 'Feline'], 'N/A', 'N/A', 'N/A', 'N/A', 'N/A', 'N/A', 'N/A', ['Pets', 'Rodents'], ['Pets', 'Rodents'], 'N/A', ['Rodents'], 'N/A', 'N/A', 'N/A', ['Australian', 'Bird'], 'N/A', 'N/A', 'N/A', 'N/A', 'N/A', 'N/A', 'N/A', 'N/A', 'N/A', 'N/A', 'N/A', ['ReptileAmphibian'], 'N/A', 'N/A', 'N/A', 'N/A', 'N/A', 'N/A', 'N/A', ['ReptileAmphibian'], 'N/A', 'N/A', 'N/A', 'N/A', 'N/A', ['Water'], ['Fish'], ['Fish'], ['Water'], ['Water'], 'N/A', 'N/A', 'N/A', ['Water'], 'N/A', 'N/A', ['Asian'], 'N/A', 'N/A', 'N/A', ['Australian'], 'N/A', 'N/A', ['African', 'Primates'], ['Feline', 'NorthAmerican'], ['African', 'Primates'], 'N/A', 'N/A', 'N/A', ['Australian'], ['Australian', 'Bird'], 'N/A', 'N/A', 'N/A', 'N/A', 'N/A', 'N/A', 'N/A', ['African'], 'N/A', 'N/A', 'N/A', 'N/A', 'N/A', 'N/A', 'N/A', 'N/A', 'N/A', 'N/A', 'N/A', ['African', 'Feline'], 'N/A', 'N/A', 'N/A', ['ReptileAmphibian'], 'N/A', 'N/A', 'N/A', 'N/A', 'N/A', 'N/A', 'N/A', ['Bird'], 'N/A', ['Bird'], 'N/A', 'N/A', 'N/A', 'N/A', 'N/A', 'N/A', 'N/A', 'N/A', 'N/A', 'N/A', 'N/A', ['African'], 'N/A', 'N/A', 'N/A', ['African', 'Primates'], 'N/A', 'N/A', 'N/A', 'N/A', 'N/A', 'N/A', 'N/A', 'N/A', 'N/A', 'N/A', ['Insectivores'], 'N/A', 'N/A', 'N/A', ['Bird'], 'N/A', 'N/A', 'N/A', 'N/A', ['African'], 'N/A', 'N/A', 'N/A', 'N/A', 'N/A', 'N/A', 'N/A', 'N/A', 'N/A', 'N/A', ['Asian'], 'N/A', 'N/A', 'N/A', 'N/A', 'N/A', 'N/A', 'N/A', 'N/A', 'N/A', ['African', 'Feline'], 'N/A', 'N/A', 'N/A', 'N/A', 'N/A', ['African'], ['Pets', 'Rodents'], ['Pets', 'Rodents'], 'N/A', 'N/A', 'N/A', 'N/A', 'N/A', 'N/A', 'N/A', 'N/A', 'N/A', 'N/A', 'N/A', 'N/A', 'N/A', 'N/A', 'N/A', 'N/A', 'N/A', 'N/A', 'N/A', 'N/A', ['Insectivores'], 'N/A', ['Bird'], 'N/A', 'N/A', 'N/A', ['African', 'Primates'], 'N/A', 'N/A', 'N/A', 'N/A', 'N/A', ['Bird'], 'N/A', 'N/A', 'N/A', 'N/A', 'N/A', 'N/A', ['African', 'Primates'], 'N/A', 'N/A', 'N/A', 'N/A', ['African', 'Feline'], 'N/A', ['Asian'], ['Australian'], ['Insectivores'], 'N/A', 'N/A', ['Insectivores'], 'N/A', ['Canine'], 'N/A', 'N/A', 'N/A', 'N/A', 'N/A', 'N/A', 'N/A', 'N/A', ['Dinosaur', 'ReptileAmphibian'], ['Australian'], 'N/A', ['African'], 'N/A', 'N/A', 'N/A', 'N/A', 'Not Animal', ['Insects'], ['Insects'], 'N/A', 'N/A', 'N/A', 'N/A', 'N/A', ['Bird'], ['Bird'], 'N/A', 'N/A', ['ReptileAmphibian'], 'N/A', 'N/A', 'N/A', 'N/A', ['Fish'], 'N/A', 'N/A', ['Pets', 'Rodents'], 'N/A', ['Pets', 'Rodents'], 'N/A', 'N/A', 'N/A', 'N/A', 'N/A', 'N/A', 'N/A', ['Dinosaur', 'ReptileAmphibian'], 'N/A', 'N/A', 'N/A', 'N/A', 'N/A', 'N/A', 'N/A', 'N/A', 'N/A', ['African', 'Feline'], 'N/A', 'N/A', 'N/A', 'N/A', 'N/A', 'N/A', 'N/A', ['Insects'], 'N/A', ['ReptileAmphibian'], 'N/A', 'N/A', 'N/A', 'N/A', 'N/A', 'N/A', 'N/A', 'N/A', 'N/A', 'N/A', 'N/A', ['Pets', 'Rodents'], ['Pets', 'Rodents'], 'N/A', 'N/A', 'N/A', 'N/A', 'N/A', 'N/A', ['African', 'Feline'], 'N/A', 'N/A', 'N/A', 'N/A', 'N/A', 'N/A', 'N/A', 'N/A', 'N/A', 'N/A', 'N/A', ['Bird'], 'N/A', 'N/A', 'N/A', 'N/A', 'N/A', 'N/A', 'N/A', 'N/A', 'N/A', ['African', 'Feline'], 'N/A', 'N/A', 'N/A', 'N/A', 'N/A', 'N/A', 'N/A', 'N/A', 'N/A', 'N/A', 'N/A', 'N/A', ['Australian'], 'N/A', 'N/A', 'N/A', 'N/A', 'N/A', 'N/A', ['Pets', 'Rodents'], 'N/A', 'N/A', 'N/A', 'N/A', 'N/A', 'N/A', 'N/A', 'N/A', 'N/A', ['African'], 'N/A', 'N/A', ['Australian', 'Water'], 'N/A', 'N/A', 'N/A', 'N/A', 'N/A', 'N/A', 'N/A', 'N/A', 'N/A', 'N/A', 'N/A', ['African'], 'N/A', 'N/A', 'N/A', 'N/A', 'N/A', 'N/A', 'N/A', 'N/A', 'N/A', 'N/A', 'N/A', 'N/A', ['Insects'], 'N/A', ['African', 'Primates'], 'N/A', 'N/A', ['African', 'Deers'], 'N/A', 'N/A', 'N/A', ['African'], 'N/A', 'N/A', 'N/A', 'N/A', 'N/A', 'N/A', 'N/A', 'N/A', ['Pets', 'Rodents'], 'N/A', 'N/A', 'N/A', 'N/A', 'N/A', 'N/A', 'N/A', 'N/A', ['African'], 'N/A', 'N/A', 'N/A', 'N/A', 'N/A', 'N/A', ['Insects'], 'N/A', ['NorthAmerican'], 'N/A', 'N/A', 'N/A', 'N/A', ['Bird'], 'N/A', ['Bird'], 'N/A', 'N/A', ['African', 'Feline'], 'N/A', 'N/A', 'N/A', 'N/A', 'N/A', 'N/A', 'N/A', 'N/A', 'N/A', 'N/A', 'N/A', 'N/A', 'N/A', 'N/A', 'N/A', 'N/A', 'N/A', 'N/A', 'N/A', 'N/A', 'N/A', ['NorthAmerican'], 'N/A', 'N/A', 'N/A', 'N/A', 'N/A', 'N/A', 'N/A', 'N/A', ['African'], 'N/A', 'N/A', 'N/A', 'N/A', 'N/A', 'N/A', 'N/A', 'N/A', ['NorthAmerican'], 'N/A', 'N/A', ['African'], 'N/A', 'N/A', 'N/A', 'N/A', 'N/A', 'N/A', 'N/A', ['African', 'Water'], 'N/A', ['African'], ['Asian'], ['African', 'Primates'], 'N/A', 'N/A', 'N/A', ['Fish'], 'N/A', 'N/A', 'N/A', 'N/A', 'N/A', 'N/A', ['African', 'Primates'], 'N/A', 'N/A', 'N/A', 'N/A', 'N/A', ['Dinosaur', 'ReptileAmphibian'], 'N/A', 'N/A', ['Dinosaur'], ['Dinosaur', 'ReptileAmphibian'], 'N/A', 'N/A', ['Fish'], 'N/A', 'N/A', 'N/A', ['African'], 'N/A', 'N/A', 'N/A', 'N/A', 'N/A', 'N/A', 'N/A', 'N/A', 'N/A', 'N/A', ['Pets', 'Rodents'], 'N/A', 'N/A', 'N/A', 'N/A', ['Australian'], ['Bird'], 'N/A', ['African'], ['African'], ['Primates'], 'N/A', 'N/A', 'N/A', 'N/A', 'N/A', ['African', 'Feline'], 'N/A', 'N/A', ['Bird'], 'N/A', 'N/A', 'N/A', 'N/A', 'N/A', ['African', 'Primates'], 'N/A', 'N/A', 'N/A', 'N/A', 'N/A', 'N/A', 'N/A', ['NorthAmerican'], 'N/A', 'N/A', 'N/A', 'N/A', 'N/A', 'N/A', 'N/A', 'N/A', 'N/A', 'N/A', 'N/A', 'N/A', 'N/A', 'N/A', ['African'], 'N/A', 'N/A', 'N/A', 'N/A', 'N/A', 'N/A', 'N/A', 'N/A', ['African', 'Feline'], 'N/A', 'N/A', 'N/A', 'N/A', 'N/A', 'N/A', 'N/A', 'N/A', 'N/A', 'N/A', 'N/A', ['Pets', 'Rodents'], 'N/A', 'N/A', 'N/A', 'N/A', ['African'], 'N/A', 'N/A', 'N/A', 'N/A', 'N/A', 'N/A', ['Rodents', 'Weasels'], ['NorthAmerican'], 'N/A', 'N/A', 'N/A', 'N/A', 'N/A', 'N/A', 'N/A', 'N/A', 'N/A', 'N/A', 'N/A', 'N/A', 'N/A', 'N/A', 'N/A', 'N/A', 'N/A', 'N/A', 'N/A', 'N/A', 'N/A', 'N/A', 'N/A', 'N/A', 'N/A', 'N/A', 'N/A', 'N/A', 'N/A', 'N/A', 'N/A', 'N/A', 'N/A', 'N/A', 'N/A', ['Insects', 'NorthAmerican'], 'N/A', 'N/A', 'N/A', ['African'], 'N/A', 'N/A', 'N/A', 'N/A', 'N/A', 'N/A', 'N/A', 'N/A', 'N/A', 'N/A', 'N/A', 'N/A', 'N/A', 'N/A', ['African', 'Water'], ['African'], 'N/A', 'N/A', ['African', 'Primates'], 'N/A', 'N/A', ['African', 'Feline'], 'N/A', 'N/A', ['African'], 'N/A', 'N/A', 'N/A', 'N/A', 'N/A', 'N/A', 'N/A', 'N/A', 'N/A', 'N/A', 'N/A', 'N/A', 'N/A', 'N/A', 'N/A', 'N/A', 'N/A', 'N/A', 'N/A', 'N/A', 'N/A', 'N/A', 'N/A', 'N/A', 'N/A', ['African'], 'N/A', 'N/A', 'N/A', 'N/A', 'N/A', 'N/A', 'N/A', 'N/A', ['NorthAmerican'], 'N/A', 'N/A', 'N/A', 'N/A', ['African', 'Feline'], 'N/A', 'N/A', 'N/A', 'N/A', 'N/A', 'N/A', 'N/A', 'N/A', 'N/A', 'N/A', 'N/A', ['Water'], 'N/A', ['African'], 'N/A', 'N/A', 'N/A', ['Feline', 'NorthAmerican'], 'N/A', 'N/A', 'N/A', 'N/A', 'N/A', 'N/A', 'N/A', 'N/A', 'N/A', ['Feline', 'NorthAmerican'], 'N/A', 'N/A', 'N/A', 'N/A', 'N/A', 'N/A', 'N/A', 'N/A', 'N/A', ['Australian'], 'N/A', 'N/A', 'N/A', 'N/A', 'N/A', 'N/A', ['Bird'], 'N/A', 'N/A', 'N/A', 'N/A', 'N/A', ['Bird'], 'N/A', 'N/A', 'N/A', ['Insectivores'], 'N/A', 'N/A', 'N/A', ['NorthAmerican'], 'N/A', 'N/A', 'N/A', 'N/A', 'N/A', 'N/A', 'N/A', 'N/A', 'N/A', 'N/A', 'N/A', 'N/A', 'N/A', 'N/A', 'N/A', 'N/A', 'N/A', 'N/A', ['African'], 'N/A', 'N/A', 'N/A', 'N/A', 'N/A', 'N/A', 'N/A', ['Water'], 'N/A', ['NorthAmerican'], 'N/A', 'N/A', 'N/A', 'N/A', 'N/A', 'N/A', 'N/A', 'N/A', 'N/A', 'N/A', 'N/A', 'N/A', 'N/A', 'N/A', 'N/A', 'N/A', 'N/A', 'N/A', 'N/A', 'N/A', ['African'], 'N/A', 'N/A', 'N/A', 'N/A', 'N/A', 'N/A', 'N/A', 'N/A', 'N/A', 'N/A', 'N/A', 'N/A', 'N/A', 'N/A', 'N/A', ['Asian'], 'N/A', 'N/A', ['Insectivores'], ['African'], 'N/A', 'N/A', 'N/A', 'N/A', 'N/A', 'N/A', 'N/A', 'N/A', 'N/A', 'N/A', 'N/A', 'N/A', 'N/A', 'N/A', 'N/A', 'N/A', 'N/A', 'N/A', 'N/A', ['Insects'], 'N/A', 'N/A', 'N/A', ['Water'], 'N/A', ['Fish'], 'N/A', 'N/A', 'N/A', 'N/A', ['African', 'Asian', 'Fish', 'Water'], 'N/A', 'N/A', 'N/A', 'N/A', ['Water'], ['Water'], 'N/A', 'N/A', 'N/A', 'N/A', 'N/A', 'N/A', 'N/A', 'N/A', 'N/A', ['African'], 'N/A', 'N/A', 'N/A', 'N/A', 'N/A', 'N/A', 'N/A', 'N/A', 'N/A', 'N/A', ['African', 'Feline'], 'N/A', 'N/A', 'N/A', 'N/A', 'N/A', ['African'], 'N/A', 'N/A', 'N/A', 'N/A', 'N/A', 'N/A', 'N/A', 'N/A', 'N/A', 'N/A', 'N/A', 'N/A', 'N/A', 'N/A', 'N/A', 'N/A', 'N/A', 'N/A', 'N/A', 'N/A', 'N/A', 'N/A', ['African', 'Feline'], 'N/A', 'N/A', 'N/A', 'N/A', 'N/A', 'N/A', 'N/A', 'N/A', 'N/A', 'N/A', 'N/A', 'N/A', 'N/A', ['African'], 'N/A', 'N/A', 'N/A', 'N/A', ['Rodents', 'Weasels'], 'N/A', 'N/A', 'N/A', 'N/A', 'N/A', 'N/A', 'N/A', 'N/A', 'N/A', 'N/A', 'N/A', 'N/A', 'N/A', 'N/A', 'N/A', 'N/A', 'N/A', 'N/A', 'N/A', ['Water'], 'N/A', ['Australian'], ['Asian'], 'N/A', 'N/A', 'N/A', 'N/A', 'N/A', 'N/A', 'N/A', 'N/A', 'N/A', 'N/A', 'N/A', 'N/A', 'N/A', 'N/A', 'N/A', 'N/A', ['African'], 'N/A', 'N/A', 'N/A', 'N/A', ['Feline'], 'N/A', 'N/A', 'N/A', 'N/A', 'N/A', 'N/A', 'N/A', 'N/A', 'N/A', 'N/A', 'N/A', ['ReptileAmphibian'], 'N/A', 'N/A', 'N/A', 'N/A', 'N/A', 'N/A', 'N/A', 'N/A', 'N/A', ['Bird'], 'N/A', 'N/A', 'N/A', 'N/A', 'N/A', 'N/A', 'N/A', 'N/A', 'N/A', 'N/A', 'N/A', ['Water'], ['Water'], 'N/A', 'N/A', 'N/A', 'N/A', 'N/A', 'N/A', 'N/A', 'N/A', 'N/A', 'N/A', 'N/A', 'N/A', 'N/A', 'N/A', 'N/A', 'N/A', 'N/A', 'N/A', 'N/A', 'N/A', 'N/A', ['African'], 'N/A', 'N/A', 'N/A', 'N/A', 'N/A', 'Not Animal', 'N/A', 'N/A', ['African'], 'N/A', 'Not Animal', 'N/A', 'N/A', 'N/A', 'N/A', 'N/A', ['Dinosaur', 'ReptileAmphibian'], 'N/A', 'N/A', 'N/A', 'N/A', 'N/A', 'N/A', 'N/A', 'N/A', ['African', 'Feline'], 'N/A', 'N/A', 'N/A', 'N/A', 'N/A', 'N/A', ['African'], 'N/A', 'N/A', 'N/A', 'N/A', 'N/A', 'N/A', 'N/A', 'N/A', 'N/A', 'N/A', ['Primates'], ['African', 'Primates'], 'N/A', ['African'], 'N/A', 'N/A', 'N/A', 'N/A', ['Pets', 'Rodents'], 'N/A', 'N/A', 'N/A', 'N/A', ['African'], 'N/A', 'N/A', 'N/A', 'N/A', 'N/A', 'N/A', 'N/A', 'N/A', 'N/A', ['Pets', 'Rodents'], ['Pets', 'Rodents'], 'N/A', 'N/A', ['African'], 'N/A', 'N/A', ['African', 'Feline'], 'N/A', 'N/A', 'N/A', 'N/A', 'N/A', 'N/A', ['African'], 'N/A', ['Asian'], 'N/A', 'N/A', 'N/A', 'N/A', ['ReptileAmphibian'], 'N/A', ['Water'], 'N/A', 'N/A', 'N/A', 'N/A', 'N/A', 'N/A', 'N/A', 'N/A', 'N/A', 'N/A', 'N/A', 'N/A', 'N/A', 'N/A', 'N/A', 'N/A', ['ReptileAmphibian'], 'N/A', 'N/A', 'N/A', 'N/A', 'N/A', 'N/A', 'N/A']\n",
      "['N/A', 'N/A', 'N/A', 'N/A', 'N/A', 'N/A', 'N/A', 'N/A', 'N/A', 'N/A', 'N/A', 'N/A', 'N/A', 'N/A', 'N/A', 'N/A', 'N/A', 'N/A', 'N/A', 'N/A', 'N/A', ['pets', 'rodents'], ['rodents', 'weasels'], 'N/A', ['american'], 'N/A', 'N/A', 'N/A', ['bird'], 'N/A', ['african'], 'N/A', 'N/A', 'N/A', 'N/A', 'N/A', ['reptile', 'amphibious'], 'N/A', 'N/A', 'N/A', 'N/A', 'N/A', 'N/A', 'N/A', 'N/A', 'N/A', ['african', 'primate'], 'N/A', 'N/A', 'N/A', 'N/A', ['reptile', 'amphibious'], ['australian'], 'N/A', ['australian', 'water'], 'N/A', 'N/A', 'N/A', 'N/A', 'N/A', 'N/A', 'N/A', 'N/A', 'N/A', 'N/A', 'N/A', 'N/A', 'N/A', 'N/A', 'N/A', 'N/A', 'N/A', 'N/A', 'N/A', 'N/A', 'N/A', 'N/A', 'N/A', ['pets', 'rodents'], ['pets', 'rodents'], 'N/A', 'N/A', 'N/A', 'N/A', 'N/A', 'N/A', 'N/A', 'N/A', 'N/A', 'N/A', 'N/A', 'N/A', ['african'], 'N/A', 'N/A', 'N/A', 'N/A', 'N/A', 'N/A', 'N/A', 'N/A', 'N/A', 'N/A', 'N/A', 'N/A', 'N/A', 'N/A', 'N/A', 'N/A', 'N/A', ['bird'], 'N/A', ['water'], 'N/A', 'N/A', 'N/A', 'N/A', 'N/A', 'N/A', 'N/A', 'N/A', 'N/A', 'N/A', 'N/A', 'N/A', 'N/A', 'N/A', 'N/A', 'N/A', 'N/A', 'N/A', 'N/A', ['reptile', 'amphibious'], 'N/A', 'N/A', ['african'], 'N/A', 'N/A', ['african', 'feline'], 'N/A', 'N/A', 'N/A', 'N/A', 'N/A', 'N/A', 'N/A', ['pets', 'rodents'], ['pets', 'rodents'], 'N/A', ['rodents'], 'N/A', 'N/A', 'N/A', ['australian', 'bird'], 'N/A', 'N/A', 'N/A', 'N/A', 'N/A', 'N/A', 'N/A', 'N/A', 'N/A', 'N/A', 'N/A', ['reptile', 'amphibious'], 'N/A', 'N/A', 'N/A', 'N/A', 'N/A', 'N/A', 'N/A', ['reptile', 'amphibious'], 'N/A', 'N/A', 'N/A', 'N/A', 'N/A', ['water'], ['fish'], ['fish'], ['water'], ['water'], 'N/A', 'N/A', 'N/A', ['water'], 'N/A', 'N/A', ['asian'], 'N/A', 'N/A', 'N/A', ['australian'], 'N/A', 'N/A', ['african', 'primate'], ['feline', 'american'], ['african', 'primate'], 'N/A', 'N/A', 'N/A', ['australian'], ['australian', 'bird'], 'N/A', 'N/A', 'N/A', 'N/A', 'N/A', 'N/A', 'N/A', ['african'], 'N/A', 'N/A', 'N/A', 'N/A', 'N/A', 'N/A', 'N/A', 'N/A', 'N/A', 'N/A', 'N/A', ['african', 'feline'], 'N/A', 'N/A', 'N/A', ['reptile', 'amphibious'], 'N/A', 'N/A', 'N/A', 'N/A', 'N/A', 'N/A', 'N/A', ['bird'], 'N/A', ['bird'], 'N/A', 'N/A', 'N/A', 'N/A', 'N/A', 'N/A', 'N/A', 'N/A', 'N/A', 'N/A', 'N/A', ['african'], 'N/A', 'N/A', 'N/A', ['african', 'primate'], 'N/A', 'N/A', 'N/A', 'N/A', 'N/A', 'N/A', 'N/A', 'N/A', 'N/A', 'N/A', ['insect'], 'N/A', 'N/A', 'N/A', ['bird'], 'N/A', 'N/A', 'N/A', 'N/A', ['african'], 'N/A', 'N/A', 'N/A', 'N/A', 'N/A', 'N/A', 'N/A', 'N/A', 'N/A', 'N/A', ['asian'], 'N/A', 'N/A', 'N/A', 'N/A', 'N/A', 'N/A', 'N/A', 'N/A', 'N/A', ['african', 'feline'], 'N/A', 'N/A', 'N/A', 'N/A', 'N/A', ['african'], ['pets', 'rodents'], ['pets', 'rodents'], 'N/A', 'N/A', 'N/A', 'N/A', 'N/A', 'N/A', 'N/A', 'N/A', 'N/A', 'N/A', 'N/A', 'N/A', 'N/A', 'N/A', 'N/A', 'N/A', 'N/A', 'N/A', 'N/A', 'N/A', ['insect'], 'N/A', ['bird'], 'N/A', 'N/A', 'N/A', ['african', 'primate'], 'N/A', 'N/A', 'N/A', 'N/A', 'N/A', ['bird'], 'N/A', 'N/A', 'N/A', 'N/A', 'N/A', 'N/A', ['african', 'primate'], 'N/A', 'N/A', 'N/A', 'N/A', ['african', 'feline'], 'N/A', ['asian'], ['australian'], ['insect'], 'N/A', 'N/A', ['insect'], 'N/A', ['canine'], 'N/A', 'N/A', 'N/A', 'N/A', 'N/A', 'N/A', 'N/A', 'N/A', ['reptile', 'amphibious'], ['australian'], 'N/A', ['african'], 'N/A', 'N/A', 'N/A', 'N/A', 'N/A', ['insects'], ['insects'], 'N/A', 'N/A', 'N/A', 'N/A', 'N/A', ['bird'], ['bird'], 'N/A', 'N/A', ['reptile', 'amphibious'], 'N/A', 'N/A', 'N/A', 'N/A', ['fish'], 'N/A', 'N/A', ['pets', 'rodents'], 'N/A', ['pets', 'rodents'], 'N/A', 'N/A', 'N/A', 'N/A', 'N/A', 'N/A', 'N/A', ['reptile', 'amphibious'], 'N/A', 'N/A', 'N/A', 'N/A', 'N/A', 'N/A', 'N/A', 'N/A', 'N/A', ['african', 'feline'], 'N/A', 'N/A', 'N/A', 'N/A', 'N/A', 'N/A', 'N/A', ['insects'], 'N/A', ['reptile', 'amphibious'], 'N/A', 'N/A', 'N/A', 'N/A', 'N/A', 'N/A', 'N/A', 'N/A', 'N/A', 'N/A', 'N/A', ['pets', 'rodents'], ['pets', 'rodents'], 'N/A', 'N/A', 'N/A', 'N/A', 'N/A', 'N/A', ['african', 'feline'], 'N/A', 'N/A', 'N/A', 'N/A', 'N/A', 'N/A', 'N/A', 'N/A', 'N/A', 'N/A', 'N/A', ['bird'], 'N/A', 'N/A', 'N/A', 'N/A', 'N/A', 'N/A', 'N/A', 'N/A', 'N/A', ['african', 'feline'], 'N/A', 'N/A', 'N/A', 'N/A', 'N/A', 'N/A', 'N/A', 'N/A', 'N/A', 'N/A', 'N/A', 'N/A', ['australian'], 'N/A', 'N/A', 'N/A', 'N/A', 'N/A', 'N/A', ['pets', 'rodents'], 'N/A', 'N/A', 'N/A', 'N/A', 'N/A', 'N/A', 'N/A', 'N/A', 'N/A', ['african'], 'N/A', 'N/A', ['australian', 'water'], 'N/A', 'N/A', 'N/A', 'N/A', 'N/A', 'N/A', 'N/A', 'N/A', 'N/A', 'N/A', 'N/A', ['african'], 'N/A', 'N/A', 'N/A', 'N/A', 'N/A', 'N/A', 'N/A', 'N/A', 'N/A', 'N/A', 'N/A', 'N/A', ['insects'], 'N/A', ['african', 'primate'], 'N/A', 'N/A', ['african'], 'N/A', 'N/A', 'N/A', ['african'], 'N/A', 'N/A', 'N/A', 'N/A', 'N/A', 'N/A', 'N/A', 'N/A', ['pets', 'rodents'], 'N/A', 'N/A', 'N/A', 'N/A', 'N/A', 'N/A', 'N/A', 'N/A', ['african'], 'N/A', 'N/A', 'N/A', 'N/A', 'N/A', 'N/A', ['insects'], 'N/A', ['american'], 'N/A', 'N/A', 'N/A', 'N/A', ['bird'], 'N/A', ['bird'], 'N/A', 'N/A', ['african', 'feline'], 'N/A', 'N/A', 'N/A', 'N/A', 'N/A', 'N/A', 'N/A', 'N/A', 'N/A', 'N/A', 'N/A', 'N/A', 'N/A', 'N/A', 'N/A', 'N/A', 'N/A', 'N/A', 'N/A', 'N/A', 'N/A', ['american'], 'N/A', 'N/A', 'N/A', 'N/A', 'N/A', 'N/A', 'N/A', 'N/A', ['african'], 'N/A', 'N/A', 'N/A', 'N/A', 'N/A', 'N/A', 'N/A', 'N/A', ['american'], 'N/A', 'N/A', ['african'], 'N/A', 'N/A', 'N/A', 'N/A', 'N/A', 'N/A', 'N/A', ['african', 'water'], 'N/A', ['african'], ['asian'], ['african', 'primate'], 'N/A', 'N/A', 'N/A', ['fish'], 'N/A', 'N/A', 'N/A', 'N/A', 'N/A', 'N/A', ['african', 'primate'], 'N/A', 'N/A', 'N/A', 'N/A', 'N/A', ['reptile', 'amphibious'], 'N/A', 'N/A', 'Category not in s2v/w2v', ['reptile', 'amphibious'], 'N/A', 'N/A', ['fish'], 'N/A', 'N/A', 'N/A', ['african'], 'N/A', 'N/A', 'N/A', 'N/A', 'N/A', 'N/A', 'N/A', 'N/A', 'N/A', 'N/A', ['pets', 'rodents'], 'N/A', 'N/A', 'N/A', 'N/A', ['australian'], ['bird'], 'N/A', ['african'], ['african'], ['primate'], 'N/A', 'N/A', 'N/A', 'N/A', 'N/A', ['african', 'feline'], 'N/A', 'N/A', ['bird'], 'N/A', 'N/A', 'N/A', 'N/A', 'N/A', ['african', 'primate'], 'N/A', 'N/A', 'N/A', 'N/A', 'N/A', 'N/A', 'N/A', ['american'], 'N/A', 'N/A', 'N/A', 'N/A', 'N/A', 'N/A', 'N/A', 'N/A', 'N/A', 'N/A', 'N/A', 'N/A', 'N/A', 'N/A', ['african'], 'N/A', 'N/A', 'N/A', 'N/A', 'N/A', 'N/A', 'N/A', 'N/A', ['african', 'feline'], 'N/A', 'N/A', 'N/A', 'N/A', 'N/A', 'N/A', 'N/A', 'N/A', 'N/A', 'N/A', 'N/A', ['pets', 'rodents'], 'N/A', 'N/A', 'N/A', 'N/A', ['african'], 'N/A', 'N/A', 'N/A', 'N/A', 'N/A', 'N/A', ['rodents', 'weasels'], ['american'], 'N/A', 'N/A', 'N/A', 'N/A', 'N/A', 'N/A', 'N/A', 'N/A', 'N/A', 'N/A', 'N/A', 'N/A', 'N/A', 'N/A', 'N/A', 'N/A', 'N/A', 'N/A', 'N/A', 'N/A', 'N/A', 'N/A', 'N/A', 'N/A', 'N/A', 'N/A', 'N/A', 'N/A', 'N/A', 'N/A', 'N/A', 'N/A', 'N/A', 'N/A', 'N/A', ['insects', 'american'], 'N/A', 'N/A', 'N/A', ['african'], 'N/A', 'N/A', 'N/A', 'N/A', 'N/A', 'N/A', 'N/A', 'N/A', 'N/A', 'N/A', 'N/A', 'N/A', 'N/A', 'N/A', ['african', 'water'], ['african'], 'N/A', 'N/A', ['african', 'primate'], 'N/A', 'N/A', ['african', 'feline'], 'N/A', 'N/A', ['african'], 'N/A', 'N/A', 'N/A', 'N/A', 'N/A', 'N/A', 'N/A', 'N/A', 'N/A', 'N/A', 'N/A', 'N/A', 'N/A', 'N/A', 'N/A', 'N/A', 'N/A', 'N/A', 'N/A', 'N/A', 'N/A', 'N/A', 'N/A', 'N/A', 'N/A', ['african'], 'N/A', 'N/A', 'N/A', 'N/A', 'N/A', 'N/A', 'N/A', 'N/A', ['american'], 'N/A', 'N/A', 'N/A', 'N/A', ['african', 'feline'], 'N/A', 'N/A', 'N/A', 'N/A', 'N/A', 'N/A', 'N/A', 'N/A', 'N/A', 'N/A', 'N/A', ['water'], 'N/A', ['african'], 'N/A', 'N/A', 'N/A', ['feline', 'american'], 'N/A', 'N/A', 'N/A', 'N/A', 'N/A', 'N/A', 'N/A', 'N/A', 'N/A', ['feline', 'american'], 'N/A', 'N/A', 'N/A', 'N/A', 'N/A', 'N/A', 'N/A', 'N/A', 'N/A', ['australian'], 'N/A', 'N/A', 'N/A', 'N/A', 'N/A', 'N/A', ['bird'], 'N/A', 'N/A', 'N/A', 'N/A', 'N/A', ['bird'], 'N/A', 'N/A', 'N/A', ['insect'], 'N/A', 'N/A', 'N/A', ['american'], 'N/A', 'N/A', 'N/A', 'N/A', 'N/A', 'N/A', 'N/A', 'N/A', 'N/A', 'N/A', 'N/A', 'N/A', 'N/A', 'N/A', 'N/A', 'N/A', 'N/A', 'N/A', ['african'], 'N/A', 'N/A', 'N/A', 'N/A', 'N/A', 'N/A', 'N/A', ['water'], 'N/A', ['american'], 'N/A', 'N/A', 'N/A', 'N/A', 'N/A', 'N/A', 'N/A', 'N/A', 'N/A', 'N/A', 'N/A', 'N/A', 'N/A', 'N/A', 'N/A', 'N/A', 'N/A', 'N/A', 'N/A', 'N/A', ['african'], 'N/A', 'N/A', 'N/A', 'N/A', 'N/A', 'N/A', 'N/A', 'N/A', 'N/A', 'N/A', 'N/A', 'N/A', 'N/A', 'N/A', 'N/A', ['asian'], 'N/A', 'N/A', ['insect'], ['african'], 'N/A', 'N/A', 'N/A', 'N/A', 'N/A', 'N/A', 'N/A', 'N/A', 'N/A', 'N/A', 'N/A', 'N/A', 'N/A', 'N/A', 'N/A', 'N/A', 'N/A', 'N/A', 'N/A', ['insects'], 'N/A', 'N/A', 'N/A', ['water'], 'N/A', ['fish'], 'N/A', 'N/A', 'N/A', 'N/A', ['african', 'asian', 'fish', 'water'], 'N/A', 'N/A', 'N/A', 'N/A', ['water'], ['water'], 'N/A', 'N/A', 'N/A', 'N/A', 'N/A', 'N/A', 'N/A', 'N/A', 'N/A', ['african'], 'N/A', 'N/A', 'N/A', 'N/A', 'N/A', 'N/A', 'N/A', 'N/A', 'N/A', 'N/A', ['african', 'feline'], 'N/A', 'N/A', 'N/A', 'N/A', 'N/A', ['african'], 'N/A', 'N/A', 'N/A', 'N/A', 'N/A', 'N/A', 'N/A', 'N/A', 'N/A', 'N/A', 'N/A', 'N/A', 'N/A', 'N/A', 'N/A', 'N/A', 'N/A', 'N/A', 'N/A', 'N/A', 'N/A', 'N/A', ['african', 'feline'], 'N/A', 'N/A', 'N/A', 'N/A', 'N/A', 'N/A', 'N/A', 'N/A', 'N/A', 'N/A', 'N/A', 'N/A', 'N/A', ['african'], 'N/A', 'N/A', 'N/A', 'N/A', ['rodents', 'weasels'], 'N/A', 'N/A', 'N/A', 'N/A', 'N/A', 'N/A', 'N/A', 'N/A', 'N/A', 'N/A', 'N/A', 'N/A', 'N/A', 'N/A', 'N/A', 'N/A', 'N/A', 'N/A', 'N/A', ['water'], 'N/A', ['australian'], ['asian'], 'N/A', 'N/A', 'N/A', 'N/A', 'N/A', 'N/A', 'N/A', 'N/A', 'N/A', 'N/A', 'N/A', 'N/A', 'N/A', 'N/A', 'N/A', 'N/A', ['african'], 'N/A', 'N/A', 'N/A', 'N/A', ['feline'], 'N/A', 'N/A', 'N/A', 'N/A', 'N/A', 'N/A', 'N/A', 'N/A', 'N/A', 'N/A', 'N/A', ['reptile', 'amphibious'], 'N/A', 'N/A', 'N/A', 'N/A', 'N/A', 'N/A', 'N/A', 'N/A', 'N/A', ['bird'], 'N/A', 'N/A', 'N/A', 'N/A', 'N/A', 'N/A', 'N/A', 'N/A', 'N/A', 'N/A', 'N/A', ['water'], ['water'], 'N/A', 'N/A', 'N/A', 'N/A', 'N/A', 'N/A', 'N/A', 'N/A', 'N/A', 'N/A', 'N/A', 'N/A', 'N/A', 'N/A', 'N/A', 'N/A', 'N/A', 'N/A', 'N/A', 'N/A', 'N/A', ['african'], 'N/A', 'N/A', 'N/A', 'N/A', 'N/A', 'N/A', 'N/A', 'N/A', ['african'], 'N/A', 'N/A', 'N/A', 'N/A', 'N/A', 'N/A', 'N/A', ['reptile', 'amphibious'], 'N/A', 'N/A', 'N/A', 'N/A', 'N/A', 'N/A', 'N/A', 'N/A', ['african', 'feline'], 'N/A', 'N/A', 'N/A', 'N/A', 'N/A', 'N/A', ['african'], 'N/A', 'N/A', 'N/A', 'N/A', 'N/A', 'N/A', 'N/A', 'N/A', 'N/A', 'N/A', ['primate'], ['african', 'primate'], 'N/A', ['african'], 'N/A', 'N/A', 'N/A', 'N/A', ['pets', 'rodents'], 'N/A', 'N/A', 'N/A', 'N/A', ['african'], 'N/A', 'N/A', 'N/A', 'N/A', 'N/A', 'N/A', 'N/A', 'N/A', 'N/A', ['pets', 'rodents'], ['pets', 'rodents'], 'N/A', 'N/A', ['african'], 'N/A', 'N/A', ['african', 'feline'], 'N/A', 'N/A', 'N/A', 'N/A', 'N/A', 'N/A', ['african'], 'N/A', ['asian'], 'N/A', 'N/A', 'N/A', 'N/A', ['reptile', 'amphibious'], 'N/A', ['water'], 'N/A', 'N/A', 'N/A', 'N/A', 'N/A', 'N/A', 'N/A', 'N/A', 'N/A', 'N/A', 'N/A', 'N/A', 'N/A', 'N/A', 'N/A', 'N/A', ['reptile', 'amphibious'], 'N/A', 'N/A', 'N/A', 'N/A', 'N/A', 'N/A', 'N/A']\n",
      "1303\n",
      "[0, 0, 0, 0, 0, 0, 0, 0, 0, 0, 0, 0, 0, 0, 0, 0, 0, 0, 0, 0, 0, 2, 2, 0, 1, 0, 0, 0, 1, 0, 1, 0, 0, 0, 0, 0, 2, 0, 0, 0, 0, 0, 0, 0, 0, 0, 2, 0, 0, 0, 0, 2, 1, 0, 2, 0, 0, 0, 0, 0, 0, 0, 0, 0, 0, 0, 0, 0, 0, 0, 0, 0, 0, 0, 0, 0, 0, 0, 2, 2, 0, 0, 0, 0, 0, 0, 0, 0, 0, 0, 0, 0, 1, 0, 0, 0, 0, 0, 0, 0, 0, 0, 0, 0, 0, 0, 0, 0, 0, 0, 1, 0, 1, 0, 0, 0, 0, 0, 0, 0, 0, 0, 0, 0, 0, 0, 0, 0, 0, 0, 0, 0, 2, 0, 0, 1, 0, 0, 2, 0, 0, 0, 0, 0, 0, 0, 2, 2, 0, 1, 0, 0, 0, 2, 0, 0, 0, 0, 0, 0, 0, 0, 0, 0, 0, 2, 0, 0, 0, 0, 0, 0, 0, 2, 0, 0, 0, 0, 0, 1, 1, 1, 1, 1, 0, 0, 0, 1, 0, 0, 1, 0, 0, 0, 1, 0, 0, 2, 2, 2, 0, 0, 0, 1, 2, 0, 0, 0, 0, 0, 0, 0, 1, 0, 0, 0, 0, 0, 0, 0, 0, 0, 0, 0, 2, 0, 0, 0, 2, 0, 0, 0, 0, 0, 0, 0, 1, 0, 1, 0, 0, 0, 0, 0, 0, 0, 0, 0, 0, 0, 1, 0, 0, 0, 2, 0, 0, 0, 0, 0, 0, 0, 0, 0, 0, 1, 0, 0, 0, 1, 0, 0, 0, 0, 1, 0, 0, 0, 0, 0, 0, 0, 0, 0, 0, 1, 0, 0, 0, 0, 0, 0, 0, 0, 0, 2, 0, 0, 0, 0, 0, 1, 2, 2, 0, 0, 0, 0, 0, 0, 0, 0, 0, 0, 0, 0, 0, 0, 0, 0, 0, 0, 0, 0, 1, 0, 1, 0, 0, 0, 2, 0, 0, 0, 0, 0, 1, 0, 0, 0, 0, 0, 0, 2, 0, 0, 0, 0, 2, 0, 1, 1, 1, 0, 0, 1, 0, 1, 0, 0, 0, 0, 0, 0, 0, 0, 2, 1, 0, 1, 0, 0, 0, 0, 0, 1, 1, 0, 0, 0, 0, 0, 1, 1, 0, 0, 2, 0, 0, 0, 0, 1, 0, 0, 2, 0, 2, 0, 0, 0, 0, 0, 0, 0, 2, 0, 0, 0, 0, 0, 0, 0, 0, 0, 2, 0, 0, 0, 0, 0, 0, 0, 1, 0, 2, 0, 0, 0, 0, 0, 0, 0, 0, 0, 0, 0, 2, 2, 0, 0, 0, 0, 0, 0, 2, 0, 0, 0, 0, 0, 0, 0, 0, 0, 0, 0, 1, 0, 0, 0, 0, 0, 0, 0, 0, 0, 2, 0, 0, 0, 0, 0, 0, 0, 0, 0, 0, 0, 0, 1, 0, 0, 0, 0, 0, 0, 2, 0, 0, 0, 0, 0, 0, 0, 0, 0, 1, 0, 0, 2, 0, 0, 0, 0, 0, 0, 0, 0, 0, 0, 0, 1, 0, 0, 0, 0, 0, 0, 0, 0, 0, 0, 0, 0, 1, 0, 2, 0, 0, 1, 0, 0, 0, 1, 0, 0, 0, 0, 0, 0, 0, 0, 2, 0, 0, 0, 0, 0, 0, 0, 0, 1, 0, 0, 0, 0, 0, 0, 1, 0, 1, 0, 0, 0, 0, 1, 0, 1, 0, 0, 2, 0, 0, 0, 0, 0, 0, 0, 0, 0, 0, 0, 0, 0, 0, 0, 0, 0, 0, 0, 0, 0, 1, 0, 0, 0, 0, 0, 0, 0, 0, 1, 0, 0, 0, 0, 0, 0, 0, 0, 1, 0, 0, 1, 0, 0, 0, 0, 0, 0, 0, 2, 0, 1, 1, 2, 0, 0, 0, 1, 0, 0, 0, 0, 0, 0, 2, 0, 0, 0, 0, 0, 2, 0, 0, 0, 2, 0, 0, 1, 0, 0, 0, 1, 0, 0, 0, 0, 0, 0, 0, 0, 0, 0, 2, 0, 0, 0, 0, 1, 1, 0, 1, 1, 1, 0, 0, 0, 0, 0, 2, 0, 0, 1, 0, 0, 0, 0, 0, 2, 0, 0, 0, 0, 0, 0, 0, 1, 0, 0, 0, 0, 0, 0, 0, 0, 0, 0, 0, 0, 0, 0, 1, 0, 0, 0, 0, 0, 0, 0, 0, 2, 0, 0, 0, 0, 0, 0, 0, 0, 0, 0, 0, 2, 0, 0, 0, 0, 1, 0, 0, 0, 0, 0, 0, 2, 1, 0, 0, 0, 0, 0, 0, 0, 0, 0, 0, 0, 0, 0, 0, 0, 0, 0, 0, 0, 0, 0, 0, 0, 0, 0, 0, 0, 0, 0, 0, 0, 0, 0, 0, 0, 2, 0, 0, 0, 1, 0, 0, 0, 0, 0, 0, 0, 0, 0, 0, 0, 0, 0, 0, 2, 1, 0, 0, 2, 0, 0, 2, 0, 0, 1, 0, 0, 0, 0, 0, 0, 0, 0, 0, 0, 0, 0, 0, 0, 0, 0, 0, 0, 0, 0, 0, 0, 0, 0, 0, 1, 0, 0, 0, 0, 0, 0, 0, 0, 1, 0, 0, 0, 0, 2, 0, 0, 0, 0, 0, 0, 0, 0, 0, 0, 0, 1, 0, 1, 0, 0, 0, 2, 0, 0, 0, 0, 0, 0, 0, 0, 0, 2, 0, 0, 0, 0, 0, 0, 0, 0, 0, 1, 0, 0, 0, 0, 0, 0, 1, 0, 0, 0, 0, 0, 1, 0, 0, 0, 1, 0, 0, 0, 1, 0, 0, 0, 0, 0, 0, 0, 0, 0, 0, 0, 0, 0, 0, 0, 0, 0, 0, 1, 0, 0, 0, 0, 0, 0, 0, 1, 0, 1, 0, 0, 0, 0, 0, 0, 0, 0, 0, 0, 0, 0, 0, 0, 0, 0, 0, 0, 0, 0, 1, 0, 0, 0, 0, 0, 0, 0, 0, 0, 0, 0, 0, 0, 0, 0, 1, 0, 0, 1, 1, 0, 0, 0, 0, 0, 0, 0, 0, 0, 0, 0, 0, 0, 0, 0, 0, 0, 0, 0, 1, 0, 0, 0, 1, 0, 1, 0, 0, 0, 0, 4, 0, 0, 0, 0, 1, 1, 0, 0, 0, 0, 0, 0, 0, 0, 0, 1, 0, 0, 0, 0, 0, 0, 0, 0, 0, 0, 2, 0, 0, 0, 0, 0, 1, 0, 0, 0, 0, 0, 0, 0, 0, 0, 0, 0, 0, 0, 0, 0, 0, 0, 0, 0, 0, 0, 0, 2, 0, 0, 0, 0, 0, 0, 0, 0, 0, 0, 0, 0, 0, 1, 0, 0, 0, 0, 2, 0, 0, 0, 0, 0, 0, 0, 0, 0, 0, 0, 0, 0, 0, 0, 0, 0, 0, 0, 1, 0, 1, 1, 0, 0, 0, 0, 0, 0, 0, 0, 0, 0, 0, 0, 0, 0, 0, 0, 1, 0, 0, 0, 0, 1, 0, 0, 0, 0, 0, 0, 0, 0, 0, 0, 0, 2, 0, 0, 0, 0, 0, 0, 0, 0, 0, 1, 0, 0, 0, 0, 0, 0, 0, 0, 0, 0, 0, 1, 1, 0, 0, 0, 0, 0, 0, 0, 0, 0, 0, 0, 0, 0, 0, 0, 0, 0, 0, 0, 0, 0, 1, 0, 0, 0, 0, 0, 0, 0, 0, 1, 0, 0, 0, 0, 0, 0, 0, 2, 0, 0, 0, 0, 0, 0, 0, 0, 2, 0, 0, 0, 0, 0, 0, 1, 0, 0, 0, 0, 0, 0, 0, 0, 0, 0, 1, 2, 0, 1, 0, 0, 0, 0, 2, 0, 0, 0, 0, 1, 0, 0, 0, 0, 0, 0, 0, 0, 0, 2, 2, 0, 0, 1, 0, 0, 2, 0, 0, 0, 0, 0, 0, 1, 0, 1, 0, 0, 0, 0, 2, 0, 1, 0, 0, 0, 0, 0, 0, 0, 0, 0, 0, 0, 0, 0, 0, 0, 0, 2, 0, 0, 0, 0, 0, 0, 0]\n",
      "1303\n"
     ]
    }
   ],
   "source": [
    "#['seadragon', 'chimp', 'ring_tailed', 'rhino', 't_rex', 'tigerfish', 'saber_tooth_cat', 'not_snails', 'hippo']\n",
    "# ['seahorse', 'chimpanzee', 'ringtailcat', 'rhinoceros', 'tyrannosaurusrex', 'milkfish', 'sabertoothedtiger', 'snail', 'hippopotamus']\n",
    "import csv \n",
    "with open(\"Lexical Data/speech2vec.csv\", newline='') as s: \n",
    "    reader = csv.reader(s) \n",
    "    s2v = next(reader)\n",
    "    \n",
    "\n",
    "data_df = pd.read_csv(\"Raw Data/data-cochlear.txt\", delimiter = \"\\t\")\n",
    "\n",
    "#change words such as chimp -> chimpanzee \n",
    "oov = ['seadragon', 'chimp', 'ring_tailed', 'rhino', 't_rex', 'tigerfish', 'saber_tooth_cat', 'not_snails', 'hippo']\n",
    "mod_oov = ['seahorse', 'chimpanzee', 'ringtailcat', 'rhinoceros', 'tyrannosaurusrex', 'milkfish', 'sabertoothedtiger', 'snail', 'hippopotamus']\n",
    "\n",
    "original_words = data_df['Word'].tolist()\n",
    "modified_words = [] \n",
    "in_s2v_w2v = []\n",
    "replacements = [] \n",
    "\n",
    "for words in original_words: \n",
    "    if words in oov: \n",
    "        modified_words += [mod_oov[oov.index(words)]]\n",
    "    else: \n",
    "        modified_words += [words]\n",
    "\n",
    "for words in modified_words: \n",
    "    if words in s2v: \n",
    "        in_s2v_w2v += [\"yes\"]\n",
    "        replacements += [\"N/A\"]\n",
    "    elif words == \"stickforn\": \n",
    "        in_s2v_w2v += [\"no\"]\n",
    "        replacements += [\"Not Animal\"]\n",
    "    elif words == \"UNKNOWN\":\n",
    "        in_s2v_w2v += [\"no\"]\n",
    "        replacements += [\"Not Animal\"]\n",
    "    else:\n",
    "        in_s2v_w2v += [\"no\"]\n",
    "        replacements += [oov_dict[words]]\n",
    "        \n",
    "s2v_w2v_categories = []\n",
    "for replacement in replacements: \n",
    "    if replacement == \"N/A\" or replacement == \"Not Animal\": \n",
    "        s2v_w2v_categories += [\"N/A\"]\n",
    "    else: \n",
    "        cat_s2v = []\n",
    "        for words in replacement: \n",
    "            if words.lower() in s2v: \n",
    "                cat_s2v += [words.lower()]\n",
    "            if words == 'ReptileAmphibian': \n",
    "                cat_s2v += ['reptile', 'amphibious']\n",
    "            if words == 'Primates':\n",
    "                 cat_s2v += ['primate']\n",
    "            if words == \"NorthAmerican\": \n",
    "                cat_s2v += [\"american\"]\n",
    "            if words == \"Insectivores\": \n",
    "                cat_s2v += [\"insect\"]\n",
    "        if len(cat_s2v) == 0: \n",
    "            s2v_w2v_categories += [\"Category not in s2v/w2v\"]\n",
    "        else: \n",
    "            s2v_w2v_categories += [cat_s2v]\n",
    "\n",
    "num_replacements = []\n",
    "\n",
    "for cate in s2v_w2v_categories: \n",
    "    if cate == \"N/A\" or cate == \"Category not in s2v/w2v\": \n",
    "        num_replacements += [0]\n",
    "    else: \n",
    "        num_replacements += [len(cate)]\n",
    "        \n",
    "                \n",
    "print(original_words)\n",
    "print(modified_words)\n",
    "print(in_s2v_w2v)\n",
    "print(replacements)\n",
    "print(s2v_w2v_categories)\n",
    "print(len(s2v_w2v_categories))\n",
    "print(num_replacements)\n",
    "print(len(num_replacements))\n",
    "\n",
    "\n",
    "data_df['Modified'] = modified_words\n",
    "data_df[\"In W2V/S2v\"] = in_s2v_w2v\n",
    "data_df[\"Replacement Words from Snafu\"] = replacements\n",
    "data_df['Replacement Words not in s2v/w2v'] = s2v_w2v_categories\n",
    "data_df[\"Num Replacements\"] = num_replacements\n",
    "\n",
    "data_df.to_csv(\"Findings/data-cochlear-replacements.csv\")\n",
    "\n",
    "#if the words are in s2v/w2v\n",
    "# in_s2v_w2v = [] \n",
    "# for i in range(len(df)):\n",
    "#     print(df.loc[i, \"Name\"], df.loc[i, \"Age\"])\n",
    "    \n",
    "    \n",
    "    "
   ]
  },
  {
   "cell_type": "markdown",
   "metadata": {},
   "source": [
    "# Creating semantic embeddings file to use for Forager \n"
   ]
  },
  {
   "cell_type": "code",
   "execution_count": 14,
   "metadata": {},
   "outputs": [
    {
     "name": "stderr",
     "output_type": "stream",
     "text": [
      "/opt/anaconda3/lib/python3.9/site-packages/IPython/core/interactiveshell.py:3444: DtypeWarning: Columns (0) have mixed types.Specify dtype option on import or set low_memory=False.\n",
      "  exec(code_obj, self.user_global_ns, self.user_ns)\n"
     ]
    },
    {
     "name": "stdout",
     "output_type": "stream",
     "text": [
      "['adder', 'albatross', 'alligator', 'alpaca', 'anchovy', 'anemone', 'ant', 'antelope', 'ape', 'asp', 'ass', 'baboon', 'baby', 'badger', 'bantam', 'basilisk', 'bass', 'bat', 'beagle', 'bear', 'beaver', 'bee', 'beetle', 'bird', 'bison', 'bittern', 'blackbird', 'bluebird', 'boa', 'boar', 'booby', 'boxer', 'bruin', 'buck', 'buffalo', 'bug', 'bull', 'bulldog', 'bullfrog', 'bullock', 'bumblebee', 'bunny', 'bunting', 'butterflies', 'butterfly', 'buzzard', 'calf', 'camel', 'cameo', 'canary', 'canine', 'caplin', 'cardinal', 'caribou', 'carp', 'cat', 'caterpillar', 'cattle', 'centipede', 'chaffinch', 'chameleon', 'chamois', 'char', 'chick', 'chickadee', 'chicken', 'chimaera', 'chinook', 'chipmunk', 'clam', 'cobra', 'cochineal', 'cock', 'cockle', 'cod', 'codfish', 'collie', 'colt', 'coney', 'coral', 'cougar', 'courser', 'cow', 'cows', 'coyote', 'crab', 'crane', 'crawfish', 'crayfish', 'cricket', 'crocodile', 'crow', 'cub', 'cuckoo', 'curlew', 'cuttlefish', 'dear', 'deer', 'deerhound', 'devil', 'dodo', 'doe', 'dog', 'dogs', 'dolphin', 'domingo', 'donkey', 'dormouse', 'dory', 'dove', 'dragon', 'drake', 'dromedary', 'duck', 'duckling', 'ducks', 'eagle', 'eel', 'eels', 'eider', 'elephant', 'elk', 'ermine', 'ewe', 'falcon', 'fawn', 'feline', 'ferret', 'filly', 'finch', 'firefly', 'fish', 'fisher', 'flea', 'flies', 'flounder', 'fly', 'flycatcher', 'foal', 'fowl', 'fox', 'foxes', 'foxhound', 'frog', 'fungi', 'gal', 'gamecock', 'gander', 'gar', 'gazelle', 'geese', 'giant', 'gibbon', 'glaucus', 'gnat', 'goat', 'goats', 'goby', 'goldfinch', 'goldfish', 'goose', 'gopher', 'gorilla', 'grasshopper', 'grenadier', 'greyhound', 'grizzly', 'grosbeak', 'grouse', 'grub', 'grunt', 'guanaco', 'guerrilla', 'gull', 'hackney', 'haddock', 'halcyon', 'hare', 'hart', 'hawk', 'hedgehog', 'heifer', 'hen', 'hermit', 'heron', 'herring', 'hippopotamus', 'hog', 'hogs', 'hoopoe', 'horse', 'hound', 'human', 'huntsman', 'husky', 'hydra', 'hyena', 'hyenas', 'ibex', 'insect', 'jack', 'jackal', 'jackass', 'jackdaw', 'jaguar', 'jay', 'jellyfish', 'kangaroo', 'kelpie', 'kid', 'kingfisher', 'kite', 'kitten', 'kitty', 'lab', 'labrador', 'ladybird', 'ladybug', 'lamb', 'lark', 'larva', 'larvae', 'leech', 'lemming', 'leopard', 'linnet', 'lion', 'lioness', 'lions', 'lizard', 'llama', 'loach', 'lobster', 'locust', 'loon', 'louse', 'lynx', 'mackerel', 'maggot', 'magpie', 'maltese', 'mammoth', 'man', 'mare', 'marmot', 'marten', 'mastiff', 'mastodon', 'medusa', 'merlin', 'mice', 'microbe', 'midge', 'mink', 'minnow', 'minx', 'mite', 'moccasin', 'mole', 'mollusk', 'mongoose', 'monitor', 'monkey', 'monkeys', 'monster', 'moose', 'moray', 'mosquito', 'moth', 'moths', 'mouse', 'mule', 'mules', 'mullet', 'muskrat', 'mussel', 'mustang', 'nautilus', 'newt', 'nightingale', 'nuthatch', 'orang', 'oriole', 'ostrich', 'ostriches', 'otter', 'owl', 'ox', 'oxen', 'oyster', 'oysters', 'panther', 'papillon', 'parakeet', 'parrot', 'partridge', 'peacock', 'pelican', 'penguin', 'perch', 'peregrine', 'person', 'pewee', 'pheasant', 'phoenix', 'pig', 'pigeon', 'piggy', 'pike', 'plover', 'polar', 'pollock', 'pony', 'poodle', 'porcupine', 'pork', 'porpoise', 'possum', 'poultry', 'primate', 'ptarmigan', 'puffin', 'pug', 'pullet', 'puma', 'pup', 'puppy', 'puss', 'quail', 'rabbit', 'ram', 'rat', 'rattler', 'rattlesnake', 'raven', 'ray', 'redbird', 'redbreast', 'redtail', 'reindeer', 'reptile', 'rhinoceros', 'roach', 'robin', 'roe', 'rook', 'rooster', 'sable', 'salamander', 'salmon', 'sardine', 'scorpion', 'seal', 'serpent', 'shad', 'shark', 'sheep', 'shellfish', 'shepherd', 'shrew', 'shrimp', 'silkworm', 'skate', 'skunk', 'skylark', 'sloth', 'slug', 'smelt', 'snail', 'snake', 'snapper', 'snipe', 'sow', 'spaniel', 'sparrow', 'spider', 'sponge', 'sprat', 'squab', 'squirrel', 'stag', 'stallion', 'starfish', 'starling', 'steed', 'steer', 'stork', 'sturgeon', 'sunfish', 'swallow', 'swan', 'swift', 'swine', 'tabby', 'tadpole', 'takin', 'tanager', 'tern', 'terrier', 'thoroughbred', 'thrush', 'tick', 'tiger', 'titmouse', 'toad', 'tortoise', 'tortuga', 'triggerfish', 'trotter', 'trout', 'trumpeter', 'tunny', 'turbot', 'turkey', 'turtle', 'unicorn', 'urchin', 'veal', 'vermin', 'viper', 'vulture', 'walrus', 'warbler', 'wasp', 'waterfowl', 'weasel', 'whale', 'whelp', 'whiff', 'whitefish', 'whiting', 'wildcat', 'winkle', 'wolf', 'wolfhound', 'wolverine', 'wolves', 'woman', 'woodchuck', 'woodcock', 'woodpecker', 'worm', 'wren', 'yak', 'yellowlegs', 'zebra']\n",
      "446\n"
     ]
    }
   ],
   "source": [
    "import pandas as pd\n",
    "\n",
    "# Dataframe with participant data and replacements \n",
    "data = pd.read_csv(\"Findings/data-cochlear-replacements.csv\")\n",
    "\n",
    "\n",
    "#w2v/s2v words \n",
    "import csv \n",
    "with open(\"Lexical Data/speech2vec.csv\", newline='') as s: \n",
    "    reader = csv.reader(s) \n",
    "    s2v_words = next(reader)\n",
    "\n",
    "s2v = pd.read_csv(\"Lexical Data/speech2vec.csv\")\n",
    "\n",
    "#Getting vocab from forager \n",
    "vocab = pd.read_csv(\"/Users/mkang2/Library/CloudStorage/OneDrive-BowdoinCollege/Desktop/cochlear-project/forager/data/lexical_data/vocab.csv\")\n",
    "in_s2v = []\n",
    "not_in_s2v = []\n",
    "\n",
    "#Checking if forager words are in s2v/w2v\n",
    "for word in vocab[\"vocab\"].tolist(): \n",
    "    if word in s2v_words: \n",
    "        in_s2v += [word]\n",
    "        # new_semantic_embeddings[word] = s2v[word].tolist()\n",
    "    else: \n",
    "        not_in_s2v += [word]\n",
    "        \n",
    "print(in_s2v)\n",
    "print(len(in_s2v))\n"
   ]
  },
  {
   "cell_type": "code",
   "execution_count": 15,
   "metadata": {},
   "outputs": [
    {
     "name": "stdout",
     "output_type": "stream",
     "text": [
      "209\n",
      "['african', 'african', 'african', 'african', 'african', 'african', 'african', 'african', 'african', 'african', 'african', 'african', 'african', 'african', 'african', 'african', 'african', 'african', 'african', 'african', 'african', 'african', 'african', 'african', 'african', 'african', 'african', 'african', 'african', 'african', 'african', 'african', 'african', 'african', 'african', 'african', 'african', 'african', 'african', 'african', 'american', 'american', 'american', 'american', 'american', 'american', 'american', 'american', 'american', 'asian', 'asian', 'asian', 'asian', 'asian', 'asian', 'asian', 'australian', 'australian', 'australian', 'australian', 'australian', 'australian', 'australian', 'australian', 'australian', 'bird', 'bird', 'bird', 'bird', 'bird', 'bird', 'bird', 'bird', 'bird', 'bird', 'bird', 'bird', 'bird', 'bird', 'bird', 'bird', 'bird', 'bird', 'bird', 'canine', 'feline', 'feline', 'feline', 'feline', 'feline', 'feline', 'feline', 'feline', 'feline', 'feline', 'feline', 'feline', 'feline', 'feline', 'feline', 'feline', 'feline', 'feline', 'feline', 'feline', 'fish', 'fish', 'fish', 'fish', 'fish', 'fish', 'fish', 'insect', 'insect', 'insect', 'insect', 'insect', 'insect', 'insect', 'insect', 'insect', 'insect', 'insect', 'insect', 'insects', nan, nan, nan, nan, nan, nan, nan, nan, nan, nan, nan, nan, nan, nan, nan, nan, nan, nan, nan, nan, nan, nan, nan, nan, nan, nan, nan, nan, nan, nan, nan, nan, nan, nan, nan, nan, nan, nan, nan, nan, nan, nan, nan, nan, nan, nan, nan, nan, nan, nan, nan, nan, nan, nan, nan, nan, nan, nan, nan, nan, nan, nan, nan, nan, nan, nan, nan, nan, nan, nan, nan, nan, nan, nan, nan, nan, nan, nan, nan, nan, nan, nan, nan, nan, nan, nan, nan, nan, nan, nan, nan, nan, nan, nan, nan, nan, nan, nan, nan, nan, nan, nan, nan, nan, nan, nan, nan, nan, nan, nan, nan, nan, nan, nan, nan, nan, nan, nan, nan, nan, nan, nan, nan, nan, nan, nan, nan, nan, nan, nan, nan, nan, nan, nan, nan, nan, nan, nan, nan, nan, nan, nan, nan, nan, nan, nan, nan, nan, nan, nan, nan, nan, nan, nan, nan, nan, nan, nan, nan, nan, nan, nan, nan, nan, nan, nan, nan, nan, nan, nan, nan, nan, nan, nan, nan, nan, nan, nan, nan, nan, nan, nan, nan, nan, nan, nan, nan, nan, nan, nan, nan, nan, nan, nan, nan, nan, nan, nan, nan, nan, nan, nan, nan, nan, nan, nan, nan, nan, nan, nan, nan, nan, nan, nan, nan, nan, nan, nan, nan, nan, nan, nan, nan, nan, nan, nan, nan, nan, nan, nan, nan, nan, nan, nan, nan, nan, nan, nan, nan, nan, nan, nan, nan, nan, nan, nan, nan, nan, nan, nan, nan, nan, nan, nan, nan, nan, nan, nan, nan, nan, nan, nan, nan, nan, nan, nan, nan, nan, nan, nan, nan, nan, nan, nan, nan, nan, nan, nan, nan, nan, nan, nan, nan, nan, nan, nan, nan, nan, nan, nan, nan, nan, nan, nan, nan, nan, nan, nan, nan, nan, nan, nan, nan, nan, nan, nan, nan, nan, nan, nan, nan, nan, nan, nan, nan, nan, nan, nan, nan, nan, nan, nan, nan, nan, nan, nan, nan, nan, nan, nan, nan, nan, nan, nan, nan, nan, nan, nan, nan, nan, nan, nan, nan, nan, nan, nan, nan, nan, nan, nan, nan, nan, nan, nan, nan, nan, nan, nan, nan, nan, nan, nan, nan, nan, nan, nan, nan, nan, nan, nan, nan, nan, nan, nan, nan, nan, nan, nan, nan, nan, nan, nan, nan, nan, nan, nan, nan, nan, nan, nan, nan, nan, nan, nan, nan, nan, nan, nan, nan, nan, nan, nan, nan, nan, nan, nan, nan, nan, nan, nan, nan, nan, nan, nan, nan, nan, nan, nan, nan, nan, nan, nan, nan, nan, nan, nan, nan, nan, nan, nan, nan, nan, nan, nan, nan, nan, nan, nan, nan, nan, nan, nan, nan, nan, nan, nan, nan, nan, nan, nan, nan, nan, nan, nan, nan, nan, nan, nan, nan, nan, nan, nan, nan, nan, nan, nan, nan, nan, nan, nan, nan, nan, nan, nan, nan, nan, nan, nan, nan, nan, nan, nan, nan, nan, nan, nan, nan, nan, nan, nan, nan, nan, nan, nan, nan, nan, nan, nan, nan, nan, nan, nan, nan, nan, nan, nan, nan, nan, nan, nan, nan, nan, nan, nan, nan, nan, nan, nan, nan, nan, nan, nan, nan, nan, nan, nan, nan, nan, nan, nan, nan, nan, nan, nan, nan, nan, nan, nan, nan, nan, nan, nan, nan, nan, nan, nan, nan, nan, nan, nan, nan, nan, nan, nan, nan, nan, nan, nan, nan, nan, nan, nan, nan, nan, nan, nan, nan, nan, nan, nan, nan, nan, nan, nan, nan, nan, nan, nan, nan, nan, nan, nan, nan, nan, nan, nan, nan, nan, nan, nan, nan, nan, nan, nan, nan, nan, nan, nan, nan, nan, nan, nan, nan, nan, nan, nan, nan, nan, nan, nan, nan, nan, nan, nan, nan, nan, nan, nan, nan, nan, nan, nan, nan, nan, nan, nan, nan, nan, nan, nan, nan, nan, nan, nan, nan, nan, nan, nan, nan, nan, nan, nan, nan, nan, nan, nan, nan, nan, nan, nan, nan, nan, nan, nan, nan, nan, nan, nan, nan, nan, nan, nan, nan, nan, nan, nan, nan, nan, nan, nan, nan, nan, nan, nan, nan, nan, nan, nan, nan, nan, nan, nan, nan, nan, nan, nan, nan, nan, nan, nan, nan, nan, nan, nan, nan, nan, nan, nan, nan, nan, nan, nan, nan, nan, nan, nan, nan, nan, nan, nan, nan, nan, nan, nan, nan, nan, nan, nan, nan, nan, nan, nan, nan, nan, nan, nan, nan, nan, nan, nan, nan, nan, nan, nan, nan, nan, nan, nan, nan, nan, nan, nan, nan, nan, nan, nan, nan, nan, nan, nan, nan, nan, nan, nan, nan, nan, nan, nan, nan, nan, nan, nan, nan, nan, nan, nan, nan, nan, nan, nan, nan, nan, nan, nan, nan, nan, nan, nan, nan, nan, nan, nan, nan, nan, nan, nan, nan, nan, nan, nan, nan, nan, nan, nan, nan, nan, nan, nan, nan, nan, nan, nan, nan, nan, nan, nan, nan, nan, nan, nan, nan, nan, nan, nan, nan, nan, nan, nan, nan, nan, nan, nan, nan, nan, nan, nan, nan, nan, nan, nan, nan, nan, nan, nan, nan, nan, nan, nan, nan, nan, nan, nan, nan, nan, nan, nan, nan, nan, nan, nan, nan, nan, nan, nan, nan, nan, nan, nan, nan, nan, nan, nan, nan, nan, nan, nan, nan, nan, nan, nan, nan, nan, nan, nan, nan, nan, nan, nan, nan, nan, nan, nan, nan, nan, nan, nan, nan, nan, nan, nan, nan, nan, nan, nan, nan, nan, nan, nan, nan, nan, nan, nan, nan, nan, nan, nan, nan, nan, nan, nan, nan, nan, nan, nan, nan, nan, nan, nan, nan, nan, nan, nan, nan, nan, nan, nan, nan, nan, nan, nan, nan, nan, nan, nan, nan, nan, nan, nan, nan, nan, nan, nan, nan, nan, nan, nan, nan, nan, nan, nan, nan, nan, nan, nan, nan, nan, nan, nan, nan, nan, nan, nan, nan, nan, nan, nan, nan, nan, nan, nan, nan, nan, nan, nan, nan, nan, nan, nan, nan, nan, nan, nan, nan, nan, nan, nan, nan, nan, nan, nan, nan, nan, nan, nan, nan, nan, nan, nan, nan, nan, nan, nan, nan, nan, nan, nan, nan, nan, nan, nan, nan, nan, nan, nan, nan, nan, nan, nan, nan, nan, nan, nan, nan, nan, nan, nan, nan, nan, nan, nan, nan, nan, nan, nan, nan, nan, nan, nan, nan, nan, nan, nan, nan, nan, nan, nan, nan, nan, nan, nan, nan, nan, nan, nan, nan, nan, nan, nan, nan, nan, nan, nan, nan, nan, nan, nan, nan, nan, nan, nan, nan, nan, nan, nan, nan, nan, nan, nan, nan, nan, nan, nan, nan, nan, nan, nan, nan, nan, nan, nan, nan, nan, nan, nan, nan, nan, nan, nan, nan, nan, nan, nan, nan, nan, nan, nan, nan, 'pets', 'pets', 'pets', 'pets', 'pets', 'pets', 'pets', 'pets', 'pets', 'pets', 'pets', 'primate', 'primate', 'primate', 'primate', 'primate', 'primate', 'primate', 'primate', 'primate', 'primate', 'primate', 'primate', 'primate', 'primate', 'reptile', 'reptile', 'reptile', 'reptile', 'reptile', 'reptile', 'reptile', 'reptile', 'reptile', 'reptile', 'reptile', 'reptile', 'reptile', 'reptile', 'reptile', 'reptile', 'reptile', 'rodents', 'rodents', 'rodents', 'rodents', 'rodents', 'rodents', 'rodents', 'rodents', 'rodents', 'rodents', 'rodents', 'water', 'water', 'water', 'water', 'water', 'water', 'water', 'water', 'water', 'water', 'water', 'water', 'water', 'water', 'water', 'water', 'water', 'water']\n",
      "446\n",
      "150\n",
      "15\n"
     ]
    }
   ],
   "source": [
    "import pandas as pd\n",
    "\n",
    "\n",
    "#getting participant data into list\n",
    "data_cochlear = pd.read_csv(\"Raw Data/data-cochlear.txt\", delimiter=\"\\t\")\n",
    "word_replacements = pd.read_csv(\"Findings/data-cochlear-replacements.csv\")\n",
    "\n",
    "participant_words_in_s2v= []\n",
    "participant_words_not_in_s2v = []\n",
    "print(len(list(set(data_cochlear[\"Word\"].tolist()))))\n",
    "for word in list(set(data_cochlear[\"Word\"].tolist())): \n",
    "    if word in s2v: \n",
    "        participant_words_in_s2v += [word] \n",
    "    else: \n",
    "        participant_words_not_in_s2v += [word]\n",
    "\n",
    "\n",
    "#putting replacements into word list \n",
    "replacements = pd.read_csv(\"Findings/data-cochlear-replacements.csv\")\n",
    "replacement_in_s2v = [] \n",
    "replacement_not_s2v = [] \n",
    "print(replacements[\"chosen_replacement\"].tolist())\n",
    "for word in list(set(replacements[\"chosen_replacement\"].tolist())): \n",
    "    if word == \"nan\": \n",
    "        continue\n",
    "    else: \n",
    "        if word in s2v: \n",
    "            replacement_in_s2v += [word]\n",
    "        else: \n",
    "            replacement_not_s2v += [word]\n",
    "\n",
    "print(len(in_s2v))\n",
    "print(len(participant_words_in_s2v))\n",
    "print(len(replacement_in_s2v))\n",
    "\n"
   ]
  },
  {
   "cell_type": "code",
   "execution_count": 16,
   "metadata": {},
   "outputs": [
    {
     "name": "stdout",
     "output_type": "stream",
     "text": [
      "['adder', 'albatross', 'alligator', 'alpaca', 'anchovy', 'anemone', 'ant', 'antelope', 'ape', 'asp', 'ass', 'baboon', 'baby', 'badger', 'bantam', 'basilisk', 'bass', 'bat', 'beagle', 'bear', 'beaver', 'bee', 'beetle', 'bird', 'bison', 'bittern', 'blackbird', 'bluebird', 'boa', 'boar', 'booby', 'boxer', 'bruin', 'buck', 'buffalo', 'bug', 'bull', 'bulldog', 'bullfrog', 'bullock', 'bumblebee', 'bunny', 'bunting', 'butterflies', 'butterfly', 'buzzard', 'calf', 'camel', 'cameo', 'canary', 'canine', 'caplin', 'cardinal', 'caribou', 'carp', 'cat', 'caterpillar', 'cattle', 'centipede', 'chaffinch', 'chameleon', 'chamois', 'char', 'chick', 'chickadee', 'chicken', 'chimaera', 'chinook', 'chipmunk', 'clam', 'cobra', 'cochineal', 'cock', 'cockle', 'cod', 'codfish', 'collie', 'colt', 'coney', 'coral', 'cougar', 'courser', 'cow', 'cows', 'coyote', 'crab', 'crane', 'crawfish', 'crayfish', 'cricket', 'crocodile', 'crow', 'cub', 'cuckoo', 'curlew', 'cuttlefish', 'dear', 'deer', 'deerhound', 'devil', 'dodo', 'doe', 'dog', 'dogs', 'dolphin', 'domingo', 'donkey', 'dormouse', 'dory', 'dove', 'dragon', 'drake', 'dromedary', 'duck', 'duckling', 'ducks', 'eagle', 'eel', 'eels', 'eider', 'elephant', 'elk', 'ermine', 'ewe', 'falcon', 'fawn', 'feline', 'ferret', 'filly', 'finch', 'firefly', 'fish', 'fisher', 'flea', 'flies', 'flounder', 'fly', 'flycatcher', 'foal', 'fowl', 'fox', 'foxes', 'foxhound', 'frog', 'fungi', 'gal', 'gamecock', 'gander', 'gar', 'gazelle', 'geese', 'giant', 'gibbon', 'glaucus', 'gnat', 'goat', 'goats', 'goby', 'goldfinch', 'goldfish', 'goose', 'gopher', 'gorilla', 'grasshopper', 'grenadier', 'greyhound', 'grizzly', 'grosbeak', 'grouse', 'grub', 'grunt', 'guanaco', 'guerrilla', 'gull', 'hackney', 'haddock', 'halcyon', 'hare', 'hart', 'hawk', 'hedgehog', 'heifer', 'hen', 'hermit', 'heron', 'herring', 'hippopotamus', 'hog', 'hogs', 'hoopoe', 'horse', 'hound', 'human', 'huntsman', 'husky', 'hydra', 'hyena', 'hyenas', 'ibex', 'insect', 'jack', 'jackal', 'jackass', 'jackdaw', 'jaguar', 'jay', 'jellyfish', 'kangaroo', 'kelpie', 'kid', 'kingfisher', 'kite', 'kitten', 'kitty', 'lab', 'labrador', 'ladybird', 'ladybug', 'lamb', 'lark', 'larva', 'larvae', 'leech', 'lemming', 'leopard', 'linnet', 'lion', 'lioness', 'lions', 'lizard', 'llama', 'loach', 'lobster', 'locust', 'loon', 'louse', 'lynx', 'mackerel', 'maggot', 'magpie', 'maltese', 'mammoth', 'man', 'mare', 'marmot', 'marten', 'mastiff', 'mastodon', 'medusa', 'merlin', 'mice', 'microbe', 'midge', 'mink', 'minnow', 'minx', 'mite', 'moccasin', 'mole', 'mollusk', 'mongoose', 'monitor', 'monkey', 'monkeys', 'monster', 'moose', 'moray', 'mosquito', 'moth', 'moths', 'mouse', 'mule', 'mules', 'mullet', 'muskrat', 'mussel', 'mustang', 'nautilus', 'newt', 'nightingale', 'nuthatch', 'orang', 'oriole', 'ostrich', 'ostriches', 'otter', 'owl', 'ox', 'oxen', 'oyster', 'oysters', 'panther', 'papillon', 'parakeet', 'parrot', 'partridge', 'peacock', 'pelican', 'penguin', 'perch', 'peregrine', 'person', 'pewee', 'pheasant', 'phoenix', 'pig', 'pigeon', 'piggy', 'pike', 'plover', 'polar', 'pollock', 'pony', 'poodle', 'porcupine', 'pork', 'porpoise', 'possum', 'poultry', 'primate', 'ptarmigan', 'puffin', 'pug', 'pullet', 'puma', 'pup', 'puppy', 'puss', 'quail', 'rabbit', 'ram', 'rat', 'rattler', 'rattlesnake', 'raven', 'ray', 'redbird', 'redbreast', 'redtail', 'reindeer', 'reptile', 'rhinoceros', 'roach', 'robin', 'roe', 'rook', 'rooster', 'sable', 'salamander', 'salmon', 'sardine', 'scorpion', 'seal', 'serpent', 'shad', 'shark', 'sheep', 'shellfish', 'shepherd', 'shrew', 'shrimp', 'silkworm', 'skate', 'skunk', 'skylark', 'sloth', 'slug', 'smelt', 'snail', 'snake', 'snapper', 'snipe', 'sow', 'spaniel', 'sparrow', 'spider', 'sponge', 'sprat', 'squab', 'squirrel', 'stag', 'stallion', 'starfish', 'starling', 'steed', 'steer', 'stork', 'sturgeon', 'sunfish', 'swallow', 'swan', 'swift', 'swine', 'tabby', 'tadpole', 'takin', 'tanager', 'tern', 'terrier', 'thoroughbred', 'thrush', 'tick', 'tiger', 'titmouse', 'toad', 'tortoise', 'tortuga', 'triggerfish', 'trotter', 'trout', 'trumpeter', 'tunny', 'turbot', 'turkey', 'turtle', 'unicorn', 'urchin', 'veal', 'vermin', 'viper', 'vulture', 'walrus', 'warbler', 'wasp', 'waterfowl', 'weasel', 'whale', 'whelp', 'whiff', 'whitefish', 'whiting', 'wildcat', 'winkle', 'wolf', 'wolfhound', 'wolverine', 'wolves', 'woman', 'woodchuck', 'woodcock', 'woodpecker', 'worm', 'wren', 'yak', 'yellowlegs', 'zebra', 'bear', 'goldfish', 'oscar', 'lizard', 'shrimp', 'kitten', 'moose', 'monkey', 'hyena', 'puppy', 'pilgrim', 'bee', 'fowl', 'alligator', 'guinea', 'mule', 'flea', 'dog', 'walrus', 'gazelle', 'cricket', 'tiger', 'fish', 'badger', 'spider', 'camel', 'woodpecker', 'rat', 'ox', 'fly', 'robin', 'girdle', 'rooster', 'squirrel', 'shark', 'pig', 'tortoise', 'lice', 'goose', 'caterpillar', 'monster', 'killer', 'centipede', 'buffalo', 'wolf', 'shepherd', 'elephant', 'pony', 'falcon', 'ape', 'lobster', 'horse', 'cat', 'duck', 'bunny', 'gopher', 'moth', 'cub', 'raven', 'chipmunk', 'pelican', 'caribou', 'parakeet', 'penguin', 'leopard', 'chicken', 'lion', 'deer', 'scorpion', 'dragon', 'rabbit', 'mosquito', 'crow', 'sloth', 'insect', 'parrot', 'polar', 'jellyfish', 'beetle', 'hen', 'zebra', 'porcupine', 'tadpole', 'grizzly', 'jaguar', 'mammoth', 'bird', 'oxen', 'hog', 'goat', 'boar', 'turkey', 'whale', 'stork', 'chick', 'buck', 'crane', 'bulldog', 'pigeon', 'ladybug', 'eagle', 'mouse', 'toad', 'elk', 'hawk', 'snake', 'ant', 'pegasus', 'baboon', 'firefly', 'fox', 'prairie', 'lamb', 'ostrich', 'rainbow', 'bat', 'reptile', 'panther', 'donkey', 'dolphin', 'ferret', 'human', 'eel', 'bug', 'kangaroo', 'turtle', 'swan', 'snail', 'possum', 'bull', 'worm', 'owl', 'peacock', 'gorilla', 'beaver', 'cardinal', 'hedgehog', 'crab', 'sheep', 'terrier', 'frog', 'crocodile', 'skunk', 'cow', 'lioness', 'coyote', 'cougar', 'butterfly', 'antelope', 'seal', 'water', 'african', 'rodents', 'canine', 'reptile', 'insect', 'american', 'asian', 'insects', 'australian', 'primate', 'bird', 'feline', 'fish', 'pets']\n",
      "611\n",
      "463\n"
     ]
    }
   ],
   "source": [
    "#combining the words together \n",
    "in_s2v = in_s2v + participant_words_in_s2v + replacement_in_s2v\n",
    "print(in_s2v)\n",
    "print(len(in_s2v))\n",
    "print(len(list(set(in_s2v))))"
   ]
  },
  {
   "cell_type": "code",
   "execution_count": 22,
   "metadata": {},
   "outputs": [
    {
     "name": "stdout",
     "output_type": "stream",
     "text": [
      "611\n"
     ]
    },
    {
     "name": "stderr",
     "output_type": "stream",
     "text": [
      "/var/folders/n_/3k9s85c56g37ggzrl97h_fch0000gn/T/ipykernel_42376/993837871.py:6: PerformanceWarning: DataFrame is highly fragmented.  This is usually the result of calling `frame.insert` many times, which has poor performance.  Consider joining all columns at once using pd.concat(axis=1) instead.  To get a de-fragmented frame, use `newframe = frame.copy()`\n",
      "  new_semantic_embeddings[word] = s2v[word].tolist()\n"
     ]
    }
   ],
   "source": [
    "new_semantic_embeddings = pd.DataFrame()\n",
    "\n",
    "counter = 0 \n",
    "for word in in_s2v: \n",
    "    if word in s2v: \n",
    "        new_semantic_embeddings[word] = s2v[word].tolist()\n",
    "        counter += 1 \n",
    "    else: \n",
    "        print(\"error\")\n",
    "\n",
    "print(counter) \n",
    "new_semantic_embeddings.to_csv(\"Lexical Data/embeddings.csv\", index = False)\n"
   ]
  },
  {
   "cell_type": "markdown",
   "metadata": {},
   "source": []
  },
  {
   "cell_type": "code",
   "execution_count": null,
   "metadata": {},
   "outputs": [],
   "source": []
  }
 ],
 "metadata": {
  "kernelspec": {
   "display_name": "base",
   "language": "python",
   "name": "python3"
  },
  "language_info": {
   "codemirror_mode": {
    "name": "ipython",
    "version": 3
   },
   "file_extension": ".py",
   "mimetype": "text/x-python",
   "name": "python",
   "nbconvert_exporter": "python",
   "pygments_lexer": "ipython3",
   "version": "3.9.7"
  },
  "orig_nbformat": 4
 },
 "nbformat": 4,
 "nbformat_minor": 2
}
