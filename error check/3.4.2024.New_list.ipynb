{
 "cells": [
  {
   "cell_type": "markdown",
   "metadata": {},
   "source": [
    "## Creating a new vocab list"
   ]
  },
  {
   "cell_type": "code",
   "execution_count": 1,
   "metadata": {},
   "outputs": [
    {
     "name": "stderr",
     "output_type": "stream",
     "text": [
      "/var/folders/s7/md5b66vn4l39df_j063nqlp00000gn/T/ipykernel_40484/1362986570.py:1: DeprecationWarning: \n",
      "Pyarrow will become a required dependency of pandas in the next major release of pandas (pandas 3.0),\n",
      "(to allow more performant data types, such as the Arrow string type, and better interoperability with other libraries)\n",
      "but was not found to be installed on your system.\n",
      "If this would cause problems for you,\n",
      "please provide us feedback at https://github.com/pandas-dev/pandas/issues/54466\n",
      "        \n",
      "  import pandas as pd\n"
     ]
    }
   ],
   "source": [
    "import pandas as pd \n"
   ]
  },
  {
   "cell_type": "code",
   "execution_count": 13,
   "metadata": {},
   "outputs": [],
   "source": [
    "frequency_list = list(pd.read_csv(\"../forager/data/lexical_data/50_dim_lexical_data/alpha_0.0_s2v/frequencies.csv\", header=None)[0])\n",
    "vocab_list = pd.read_csv(\"../forager/data/lexical_data/50_dim_lexical_data/alpha_0.0_s2v/vocab.csv\")['word'].tolist()\n",
    "embedding_list = pd.read_csv(\"../forager/data/lexical_data/50_dim_lexical_data/alpha_0.0_s2v/embeddings.csv\").columns.tolist()"
   ]
  },
  {
   "cell_type": "code",
   "execution_count": 14,
   "metadata": {},
   "outputs": [
    {
     "name": "stdout",
     "output_type": "stream",
     "text": [
      "463\n",
      "['adder', 'albatross', 'alligator', 'alpaca', 'anchovy', 'anemone', 'ant', 'antelope', 'ape', 'asp', 'ass', 'baboon', 'baby', 'badger', 'bantam', 'basilisk', 'bass', 'bat', 'beagle', 'bear', 'beaver', 'bee', 'beetle', 'bird', 'bison', 'bittern', 'blackbird', 'bluebird', 'boa', 'boar', 'booby', 'boxer', 'bruin', 'buck', 'buffalo', 'bug', 'bull', 'bulldog', 'bullfrog', 'bullock', 'bumblebee', 'bunny', 'bunting', 'butterflies', 'butterfly', 'buzzard', 'calf', 'camel', 'cameo', 'canary', 'canine', 'caplin', 'cardinal', 'caribou', 'carp', 'cat', 'caterpillar', 'cattle', 'centipede', 'chaffinch', 'chameleon', 'chamois', 'char', 'chick', 'chickadee', 'chicken', 'chimaera', 'chinook', 'chipmunk', 'clam', 'cobra', 'cochineal', 'cock', 'cockle', 'cod', 'codfish', 'collie', 'colt', 'coney', 'coral', 'cougar', 'courser', 'cow', 'cows', 'coyote', 'crab', 'crane', 'crawfish', 'crayfish', 'cricket', 'crocodile', 'crow', 'cub', 'cuckoo', 'curlew', 'cuttlefish', 'dear', 'deer', 'deerhound', 'devil', 'dodo', 'doe', 'dog', 'dogs', 'dolphin', 'domingo', 'donkey', 'dormouse', 'dory', 'dove', 'dragon', 'drake', 'dromedary', 'duck', 'duckling', 'ducks', 'eagle', 'eel', 'eels', 'eider', 'elephant', 'elk', 'ermine', 'ewe', 'falcon', 'fawn', 'feline', 'ferret', 'filly', 'finch', 'firefly', 'fish', 'fisher', 'flea', 'flies', 'flounder', 'fly', 'flycatcher', 'foal', 'fowl', 'fox', 'foxes', 'foxhound', 'frog', 'fungi', 'gal', 'gamecock', 'gander', 'gar', 'gazelle', 'geese', 'giant', 'gibbon', 'glaucus', 'gnat', 'goat', 'goats', 'goby', 'goldfinch', 'goldfish', 'goose', 'gopher', 'gorilla', 'grasshopper', 'grenadier', 'greyhound', 'grizzly', 'grosbeak', 'grouse', 'grub', 'grunt', 'guanaco', 'guerrilla', 'gull', 'hackney', 'haddock', 'halcyon', 'hare', 'hart', 'hawk', 'hedgehog', 'heifer', 'hen', 'hermit', 'heron', 'herring', 'hippopotamus', 'hog', 'hogs', 'hoopoe', 'horse', 'hound', 'human', 'huntsman', 'husky', 'hydra', 'hyena', 'hyenas', 'ibex', 'insect', 'jack', 'jackal', 'jackass', 'jackdaw', 'jaguar', 'jay', 'jellyfish', 'kangaroo', 'kelpie', 'kid', 'kingfisher', 'kite', 'kitten', 'kitty', 'lab', 'labrador', 'ladybird', 'ladybug', 'lamb', 'lark', 'larva', 'larvae', 'leech', 'lemming', 'leopard', 'linnet', 'lion', 'lioness', 'lions', 'lizard', 'llama', 'loach', 'lobster', 'locust', 'loon', 'louse', 'lynx', 'mackerel', 'maggot', 'magpie', 'maltese', 'mammoth', 'man', 'mare', 'marmot', 'marten', 'mastiff', 'mastodon', 'medusa', 'merlin', 'mice', 'microbe', 'midge', 'mink', 'minnow', 'minx', 'mite', 'moccasin', 'mole', 'mollusk', 'mongoose', 'monitor', 'monkey', 'monkeys', 'monster', 'moose', 'moray', 'mosquito', 'moth', 'moths', 'mouse', 'mule', 'mules', 'mullet', 'muskrat', 'mussel', 'mustang', 'nautilus', 'newt', 'nightingale', 'nuthatch', 'orang', 'oriole', 'ostrich', 'ostriches', 'otter', 'owl', 'ox', 'oxen', 'oyster', 'oysters', 'panther', 'papillon', 'parakeet', 'parrot', 'partridge', 'peacock', 'pelican', 'penguin', 'perch', 'peregrine', 'person', 'pewee', 'pheasant', 'phoenix', 'pig', 'pigeon', 'piggy', 'pike', 'plover', 'polar', 'pollock', 'pony', 'poodle', 'porcupine', 'pork', 'porpoise', 'possum', 'poultry', 'primate', 'ptarmigan', 'puffin', 'pug', 'pullet', 'puma', 'pup', 'puppy', 'puss', 'quail', 'rabbit', 'ram', 'rat', 'rattler', 'rattlesnake', 'raven', 'ray', 'redbird', 'redbreast', 'redtail', 'reindeer', 'reptile', 'rhinoceros', 'roach', 'robin', 'roe', 'rook', 'rooster', 'sable', 'salamander', 'salmon', 'sardine', 'scorpion', 'seal', 'serpent', 'shad', 'shark', 'sheep', 'shellfish', 'shepherd', 'shrew', 'shrimp', 'silkworm', 'skate', 'skunk', 'skylark', 'sloth', 'slug', 'smelt', 'snail', 'snake', 'snapper', 'snipe', 'sow', 'spaniel', 'sparrow', 'spider', 'sponge', 'sprat', 'squab', 'squirrel', 'stag', 'stallion', 'starfish', 'starling', 'steed', 'steer', 'stork', 'sturgeon', 'sunfish', 'swallow', 'swan', 'swift', 'swine', 'tabby', 'tadpole', 'takin', 'tanager', 'tern', 'terrier', 'thoroughbred', 'thrush', 'tick', 'tiger', 'titmouse', 'toad', 'tortoise', 'tortuga', 'triggerfish', 'trotter', 'trout', 'trumpeter', 'tunny', 'turbot', 'turkey', 'turtle', 'unicorn', 'urchin', 'veal', 'vermin', 'viper', 'vulture', 'walrus', 'warbler', 'wasp', 'waterfowl', 'weasel', 'whale', 'whelp', 'whiff', 'whitefish', 'whiting', 'wildcat', 'winkle', 'wolf', 'wolfhound', 'wolverine', 'wolves', 'woman', 'woodchuck', 'woodcock', 'woodpecker', 'worm', 'wren', 'yak', 'yellowlegs', 'zebra', 'girdle', 'oscar', 'pilgrim', 'pegasus', 'guinea', 'lice', 'rainbow', 'killer', 'prairie', 'asian', 'american', 'australian', 'african', 'water', 'rodents', 'insects', 'pets']\n"
     ]
    }
   ],
   "source": [
    "print(len(frequency_list))\n",
    "print(frequency_list)"
   ]
  },
  {
   "cell_type": "code",
   "execution_count": 15,
   "metadata": {},
   "outputs": [
    {
     "name": "stdout",
     "output_type": "stream",
     "text": [
      "463\n",
      "['adder', 'african', 'albatross', 'alligator', 'alpaca', 'american', 'anchovy', 'anemone', 'ant', 'antelope', 'ape', 'asian', 'asp', 'ass', 'australian', 'baboon', 'baby', 'badger', 'bantam', 'basilisk', 'bass', 'bat', 'beagle', 'bear', 'beaver', 'bee', 'beetle', 'bird', 'bison', 'bittern', 'blackbird', 'bluebird', 'boa', 'boar', 'booby', 'boxer', 'bruin', 'buck', 'buffalo', 'bug', 'bull', 'bulldog', 'bullfrog', 'bullock', 'bumblebee', 'bunny', 'bunting', 'butterflies', 'butterfly', 'buzzard', 'calf', 'camel', 'cameo', 'canary', 'canine', 'caplin', 'cardinal', 'caribou', 'carp', 'cat', 'caterpillar', 'cattle', 'centipede', 'chaffinch', 'chameleon', 'chamois', 'char', 'chick', 'chickadee', 'chicken', 'chimaera', 'chinook', 'chipmunk', 'clam', 'cobra', 'cochineal', 'cock', 'cockle', 'cod', 'codfish', 'collie', 'colt', 'coney', 'coral', 'cougar', 'courser', 'cow', 'cows', 'coyote', 'crab', 'crane', 'crawfish', 'crayfish', 'cricket', 'crocodile', 'crow', 'cub', 'cuckoo', 'curlew', 'cuttlefish', 'dear', 'deer', 'deerhound', 'devil', 'dodo', 'doe', 'dog', 'dogs', 'dolphin', 'domingo', 'donkey', 'dormouse', 'dory', 'dove', 'dragon', 'drake', 'dromedary', 'duck', 'duckling', 'ducks', 'eagle', 'eel', 'eels', 'eider', 'elephant', 'elk', 'ermine', 'ewe', 'falcon', 'fawn', 'feline', 'ferret', 'filly', 'finch', 'firefly', 'fish', 'fisher', 'flea', 'flies', 'flounder', 'fly', 'flycatcher', 'foal', 'fowl', 'fox', 'foxes', 'foxhound', 'frog', 'fungi', 'gal', 'gamecock', 'gander', 'gar', 'gazelle', 'geese', 'giant', 'gibbon', 'girdle', 'glaucus', 'gnat', 'goat', 'goats', 'goby', 'goldfinch', 'goldfish', 'goose', 'gopher', 'gorilla', 'grasshopper', 'grenadier', 'greyhound', 'grizzly', 'grosbeak', 'grouse', 'grub', 'grunt', 'guanaco', 'guerrilla', 'guinea', 'gull', 'hackney', 'haddock', 'halcyon', 'hare', 'hart', 'hawk', 'hedgehog', 'heifer', 'hen', 'hermit', 'heron', 'herring', 'hippopotamus', 'hog', 'hogs', 'hoopoe', 'horse', 'hound', 'human', 'huntsman', 'husky', 'hydra', 'hyena', 'hyenas', 'ibex', 'insect', 'insects', 'jack', 'jackal', 'jackass', 'jackdaw', 'jaguar', 'jay', 'jellyfish', 'kangaroo', 'kelpie', 'kid', 'killer', 'kingfisher', 'kite', 'kitten', 'kitty', 'lab', 'labrador', 'ladybird', 'ladybug', 'lamb', 'lark', 'larva', 'larvae', 'leech', 'lemming', 'leopard', 'lice', 'linnet', 'lion', 'lioness', 'lions', 'lizard', 'llama', 'loach', 'lobster', 'locust', 'loon', 'louse', 'lynx', 'mackerel', 'maggot', 'magpie', 'maltese', 'mammoth', 'man', 'mare', 'marmot', 'marten', 'mastiff', 'mastodon', 'medusa', 'merlin', 'mice', 'microbe', 'midge', 'mink', 'minnow', 'minx', 'mite', 'moccasin', 'mole', 'mollusk', 'mongoose', 'monitor', 'monkey', 'monkeys', 'monster', 'moose', 'moray', 'mosquito', 'moth', 'moths', 'mouse', 'mule', 'mules', 'mullet', 'muskrat', 'mussel', 'mustang', 'nautilus', 'newt', 'nightingale', 'nuthatch', 'orang', 'oriole', 'oscar', 'ostrich', 'ostriches', 'otter', 'owl', 'ox', 'oxen', 'oyster', 'oysters', 'panther', 'papillon', 'parakeet', 'parrot', 'partridge', 'peacock', 'pegasus', 'pelican', 'penguin', 'perch', 'peregrine', 'person', 'pets', 'pewee', 'pheasant', 'phoenix', 'pig', 'pigeon', 'piggy', 'pike', 'pilgrim', 'plover', 'polar', 'pollock', 'pony', 'poodle', 'porcupine', 'pork', 'porpoise', 'possum', 'poultry', 'prairie', 'primate', 'ptarmigan', 'puffin', 'pug', 'pullet', 'puma', 'pup', 'puppy', 'puss', 'quail', 'rabbit', 'rainbow', 'ram', 'rat', 'rattler', 'rattlesnake', 'raven', 'ray', 'redbird', 'redbreast', 'redtail', 'reindeer', 'reptile', 'rhinoceros', 'roach', 'robin', 'rodents', 'roe', 'rook', 'rooster', 'sable', 'salamander', 'salmon', 'sardine', 'scorpion', 'seal', 'serpent', 'shad', 'shark', 'sheep', 'shellfish', 'shepherd', 'shrew', 'shrimp', 'silkworm', 'skate', 'skunk', 'skylark', 'sloth', 'slug', 'smelt', 'snail', 'snake', 'snapper', 'snipe', 'sow', 'spaniel', 'sparrow', 'spider', 'sponge', 'sprat', 'squab', 'squirrel', 'stag', 'stallion', 'starfish', 'starling', 'steed', 'steer', 'stork', 'sturgeon', 'sunfish', 'swallow', 'swan', 'swift', 'swine', 'tabby', 'tadpole', 'takin', 'tanager', 'tern', 'terrier', 'thoroughbred', 'thrush', 'tick', 'tiger', 'titmouse', 'toad', 'tortoise', 'tortuga', 'triggerfish', 'trotter', 'trout', 'trumpeter', 'tunny', 'turbot', 'turkey', 'turtle', 'unicorn', 'urchin', 'veal', 'vermin', 'viper', 'vulture', 'walrus', 'warbler', 'wasp', 'water', 'waterfowl', 'weasel', 'whale', 'whelp', 'whiff', 'whitefish', 'whiting', 'wildcat', 'winkle', 'wolf', 'wolfhound', 'wolverine', 'wolves', 'woman', 'woodchuck', 'woodcock', 'woodpecker', 'worm', 'wren', 'yak', 'yellowlegs', 'zebra']\n"
     ]
    }
   ],
   "source": [
    "print(len(vocab_list))\n",
    "print(vocab_list)"
   ]
  },
  {
   "cell_type": "code",
   "execution_count": 16,
   "metadata": {},
   "outputs": [
    {
     "name": "stdout",
     "output_type": "stream",
     "text": [
      "463\n",
      "['adder', 'albatross', 'alligator', 'alpaca', 'anchovy', 'anemone', 'ant', 'antelope', 'ape', 'asp', 'ass', 'baboon', 'baby', 'badger', 'bantam', 'basilisk', 'bass', 'bat', 'beagle', 'bear', 'beaver', 'bee', 'beetle', 'bird', 'bison', 'bittern', 'blackbird', 'bluebird', 'boa', 'boar', 'booby', 'boxer', 'bruin', 'buck', 'buffalo', 'bug', 'bull', 'bulldog', 'bullfrog', 'bullock', 'bumblebee', 'bunny', 'bunting', 'butterflies', 'butterfly', 'buzzard', 'calf', 'camel', 'cameo', 'canary', 'canine', 'caplin', 'cardinal', 'caribou', 'carp', 'cat', 'caterpillar', 'cattle', 'centipede', 'chaffinch', 'chameleon', 'chamois', 'char', 'chick', 'chickadee', 'chicken', 'chimaera', 'chinook', 'chipmunk', 'clam', 'cobra', 'cochineal', 'cock', 'cockle', 'cod', 'codfish', 'collie', 'colt', 'coney', 'coral', 'cougar', 'courser', 'cow', 'cows', 'coyote', 'crab', 'crane', 'crawfish', 'crayfish', 'cricket', 'crocodile', 'crow', 'cub', 'cuckoo', 'curlew', 'cuttlefish', 'dear', 'deer', 'deerhound', 'devil', 'dodo', 'doe', 'dog', 'dogs', 'dolphin', 'domingo', 'donkey', 'dormouse', 'dory', 'dove', 'dragon', 'drake', 'dromedary', 'duck', 'duckling', 'ducks', 'eagle', 'eel', 'eels', 'eider', 'elephant', 'elk', 'ermine', 'ewe', 'falcon', 'fawn', 'feline', 'ferret', 'filly', 'finch', 'firefly', 'fish', 'fisher', 'flea', 'flies', 'flounder', 'fly', 'flycatcher', 'foal', 'fowl', 'fox', 'foxes', 'foxhound', 'frog', 'fungi', 'gal', 'gamecock', 'gander', 'gar', 'gazelle', 'geese', 'giant', 'gibbon', 'glaucus', 'gnat', 'goat', 'goats', 'goby', 'goldfinch', 'goldfish', 'goose', 'gopher', 'gorilla', 'grasshopper', 'grenadier', 'greyhound', 'grizzly', 'grosbeak', 'grouse', 'grub', 'grunt', 'guanaco', 'guerrilla', 'gull', 'hackney', 'haddock', 'halcyon', 'hare', 'hart', 'hawk', 'hedgehog', 'heifer', 'hen', 'hermit', 'heron', 'herring', 'hippopotamus', 'hog', 'hogs', 'hoopoe', 'horse', 'hound', 'human', 'huntsman', 'husky', 'hydra', 'hyena', 'hyenas', 'ibex', 'insect', 'jack', 'jackal', 'jackass', 'jackdaw', 'jaguar', 'jay', 'jellyfish', 'kangaroo', 'kelpie', 'kid', 'kingfisher', 'kite', 'kitten', 'kitty', 'lab', 'labrador', 'ladybird', 'ladybug', 'lamb', 'lark', 'larva', 'larvae', 'leech', 'lemming', 'leopard', 'linnet', 'lion', 'lioness', 'lions', 'lizard', 'llama', 'loach', 'lobster', 'locust', 'loon', 'louse', 'lynx', 'mackerel', 'maggot', 'magpie', 'maltese', 'mammoth', 'man', 'mare', 'marmot', 'marten', 'mastiff', 'mastodon', 'medusa', 'merlin', 'mice', 'microbe', 'midge', 'mink', 'minnow', 'minx', 'mite', 'moccasin', 'mole', 'mollusk', 'mongoose', 'monitor', 'monkey', 'monkeys', 'monster', 'moose', 'moray', 'mosquito', 'moth', 'moths', 'mouse', 'mule', 'mules', 'mullet', 'muskrat', 'mussel', 'mustang', 'nautilus', 'newt', 'nightingale', 'nuthatch', 'orang', 'oriole', 'ostrich', 'ostriches', 'otter', 'owl', 'ox', 'oxen', 'oyster', 'oysters', 'panther', 'papillon', 'parakeet', 'parrot', 'partridge', 'peacock', 'pelican', 'penguin', 'perch', 'peregrine', 'person', 'pewee', 'pheasant', 'phoenix', 'pig', 'pigeon', 'piggy', 'pike', 'plover', 'polar', 'pollock', 'pony', 'poodle', 'porcupine', 'pork', 'porpoise', 'possum', 'poultry', 'primate', 'ptarmigan', 'puffin', 'pug', 'pullet', 'puma', 'pup', 'puppy', 'puss', 'quail', 'rabbit', 'ram', 'rat', 'rattler', 'rattlesnake', 'raven', 'ray', 'redbird', 'redbreast', 'redtail', 'reindeer', 'reptile', 'rhinoceros', 'roach', 'robin', 'roe', 'rook', 'rooster', 'sable', 'salamander', 'salmon', 'sardine', 'scorpion', 'seal', 'serpent', 'shad', 'shark', 'sheep', 'shellfish', 'shepherd', 'shrew', 'shrimp', 'silkworm', 'skate', 'skunk', 'skylark', 'sloth', 'slug', 'smelt', 'snail', 'snake', 'snapper', 'snipe', 'sow', 'spaniel', 'sparrow', 'spider', 'sponge', 'sprat', 'squab', 'squirrel', 'stag', 'stallion', 'starfish', 'starling', 'steed', 'steer', 'stork', 'sturgeon', 'sunfish', 'swallow', 'swan', 'swift', 'swine', 'tabby', 'tadpole', 'takin', 'tanager', 'tern', 'terrier', 'thoroughbred', 'thrush', 'tick', 'tiger', 'titmouse', 'toad', 'tortoise', 'tortuga', 'triggerfish', 'trotter', 'trout', 'trumpeter', 'tunny', 'turbot', 'turkey', 'turtle', 'unicorn', 'urchin', 'veal', 'vermin', 'viper', 'vulture', 'walrus', 'warbler', 'wasp', 'waterfowl', 'weasel', 'whale', 'whelp', 'whiff', 'whitefish', 'whiting', 'wildcat', 'winkle', 'wolf', 'wolfhound', 'wolverine', 'wolves', 'woman', 'woodchuck', 'woodcock', 'woodpecker', 'worm', 'wren', 'yak', 'yellowlegs', 'zebra', 'girdle', 'oscar', 'pilgrim', 'pegasus', 'guinea', 'lice', 'rainbow', 'killer', 'prairie', 'asian', 'american', 'australian', 'african', 'water', 'rodents', 'insects', 'pets']\n"
     ]
    }
   ],
   "source": [
    "print(len(embedding_list))\n",
    "print(embedding_list)"
   ]
  },
  {
   "cell_type": "code",
   "execution_count": 17,
   "metadata": {},
   "outputs": [
    {
     "name": "stdout",
     "output_type": "stream",
     "text": [
      "True\n",
      "True\n",
      "True\n"
     ]
    }
   ],
   "source": [
    "a = sorted(frequency_list)\n",
    "b = vocab_list\n",
    "c = sorted(vocab_list)\n",
    "print(a == c) \n",
    "print(a == b)\n",
    "print(b == c)"
   ]
  },
  {
   "cell_type": "code",
   "execution_count": 20,
   "metadata": {},
   "outputs": [],
   "source": [
    "df = pd.DataFrame()\n",
    "df[\"Word\"] = vocab_list\n",
    "df.to_csv(\"new_vocab.csv\", index=False)"
   ]
  },
  {
   "cell_type": "code",
   "execution_count": null,
   "metadata": {},
   "outputs": [],
   "source": []
  }
 ],
 "metadata": {
  "kernelspec": {
   "display_name": "MK",
   "language": "python",
   "name": "python3"
  },
  "language_info": {
   "codemirror_mode": {
    "name": "ipython",
    "version": 3
   },
   "file_extension": ".py",
   "mimetype": "text/x-python",
   "name": "python",
   "nbconvert_exporter": "python",
   "pygments_lexer": "ipython3",
   "version": "3.12.0"
  }
 },
 "nbformat": 4,
 "nbformat_minor": 2
}
