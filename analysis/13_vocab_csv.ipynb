{
 "cells": [
  {
   "cell_type": "markdown",
   "metadata": {},
   "source": [
    "### vocab csv file creation"
   ]
  },
  {
   "cell_type": "code",
   "execution_count": null,
   "metadata": {},
   "outputs": [],
   "source": [
    "/Users/mingikang/Desktop/cochlear-project/forager/data/lexical_data/50_dim_lexical_data/alpha_0_s2v/frequencies.csv"
   ]
  },
  {
   "cell_type": "code",
   "execution_count": 1,
   "metadata": {},
   "outputs": [],
   "source": [
    "import pandas as pd\n"
   ]
  },
  {
   "cell_type": "code",
   "execution_count": 9,
   "metadata": {},
   "outputs": [
    {
     "name": "stdout",
     "output_type": "stream",
     "text": [
      "['adder', 'african', 'albatross', 'alligator', 'alpaca', 'american', 'anchovy', 'anemone', 'ant', 'antelope', 'ape', 'asian', 'asp', 'ass', 'australian', 'baboon', 'baby', 'badger', 'bantam', 'basilisk', 'bass', 'bat', 'beagle', 'bear', 'beaver', 'bee', 'beetle', 'bird', 'bison', 'bittern', 'blackbird', 'bluebird', 'boa', 'boar', 'booby', 'boxer', 'bruin', 'buck', 'buffalo', 'bug', 'bull', 'bulldog', 'bullfrog', 'bullock', 'bumblebee', 'bunny', 'bunting', 'butterflies', 'butterfly', 'buzzard', 'calf', 'camel', 'cameo', 'canary', 'canine', 'caplin', 'cardinal', 'caribou', 'carp', 'cat', 'caterpillar', 'cattle', 'centipede', 'chaffinch', 'chameleon', 'chamois', 'char', 'chick', 'chickadee', 'chicken', 'chimaera', 'chinook', 'chipmunk', 'clam', 'cobra', 'cochineal', 'cock', 'cockle', 'cod', 'codfish', 'collie', 'colt', 'coney', 'coral', 'cougar', 'courser', 'cow', 'cows', 'coyote', 'crab', 'crane', 'crawfish', 'crayfish', 'cricket', 'crocodile', 'crow', 'cub', 'cuckoo', 'curlew', 'cuttlefish', 'dear', 'deer', 'deerhound', 'devil', 'dodo', 'doe', 'dog', 'dogs', 'dolphin', 'domingo', 'donkey', 'dormouse', 'dory', 'dove', 'dragon', 'drake', 'dromedary', 'duck', 'duckling', 'ducks', 'eagle', 'eel', 'eels', 'eider', 'elephant', 'elk', 'ermine', 'ewe', 'falcon', 'fawn', 'feline', 'ferret', 'filly', 'finch', 'firefly', 'fish', 'fisher', 'flea', 'flies', 'flounder', 'fly', 'flycatcher', 'foal', 'fowl', 'fox', 'foxes', 'foxhound', 'frog', 'fungi', 'gal', 'gamecock', 'gander', 'gar', 'gazelle', 'geese', 'giant', 'gibbon', 'girdle', 'glaucus', 'gnat', 'goat', 'goats', 'goby', 'goldfinch', 'goldfish', 'goose', 'gopher', 'gorilla', 'grasshopper', 'grenadier', 'greyhound', 'grizzly', 'grosbeak', 'grouse', 'grub', 'grunt', 'guanaco', 'guerrilla', 'guinea', 'gull', 'hackney', 'haddock', 'halcyon', 'hare', 'hart', 'hawk', 'hedgehog', 'heifer', 'hen', 'hermit', 'heron', 'herring', 'hippopotamus', 'hog', 'hogs', 'hoopoe', 'horse', 'hound', 'human', 'huntsman', 'husky', 'hydra', 'hyena', 'hyenas', 'ibex', 'insect', 'insects', 'jack', 'jackal', 'jackass', 'jackdaw', 'jaguar', 'jay', 'jellyfish', 'kangaroo', 'kelpie', 'kid', 'killer', 'kingfisher', 'kite', 'kitten', 'kitty', 'lab', 'labrador', 'ladybird', 'ladybug', 'lamb', 'lark', 'larva', 'larvae', 'leech', 'lemming', 'leopard', 'lice', 'linnet', 'lion', 'lioness', 'lions', 'lizard', 'llama', 'loach', 'lobster', 'locust', 'loon', 'louse', 'lynx', 'mackerel', 'maggot', 'magpie', 'maltese', 'mammoth', 'man', 'mare', 'marmot', 'marten', 'mastiff', 'mastodon', 'medusa', 'merlin', 'mice', 'microbe', 'midge', 'mink', 'minnow', 'minx', 'mite', 'moccasin', 'mole', 'mollusk', 'mongoose', 'monitor', 'monkey', 'monkeys', 'monster', 'moose', 'moray', 'mosquito', 'moth', 'moths', 'mouse', 'mule', 'mules', 'mullet', 'muskrat', 'mussel', 'mustang', 'nautilus', 'newt', 'nightingale', 'nuthatch', 'orang', 'oriole', 'oscar', 'ostrich', 'ostriches', 'otter', 'owl', 'ox', 'oxen', 'oyster', 'oysters', 'panther', 'papillon', 'parakeet', 'parrot', 'partridge', 'peacock', 'pegasus', 'pelican', 'penguin', 'perch', 'peregrine', 'person', 'pets', 'pewee', 'pheasant', 'phoenix', 'pig', 'pigeon', 'piggy', 'pike', 'pilgrim', 'plover', 'polar', 'pollock', 'pony', 'poodle', 'porcupine', 'pork', 'porpoise', 'possum', 'poultry', 'prairie', 'primate', 'ptarmigan', 'puffin', 'pug', 'pullet', 'puma', 'pup', 'puppy', 'puss', 'quail', 'rabbit', 'rainbow', 'ram', 'rat', 'rattler', 'rattlesnake', 'raven', 'ray', 'redbird', 'redbreast', 'redtail', 'reindeer', 'reptile', 'rhinoceros', 'roach', 'robin', 'rodents', 'roe', 'rook', 'rooster', 'sable', 'salamander', 'salmon', 'sardine', 'scorpion', 'seal', 'serpent', 'shad', 'shark', 'sheep', 'shellfish', 'shepherd', 'shrew', 'shrimp', 'silkworm', 'skate', 'skunk', 'skylark', 'sloth', 'slug', 'smelt', 'snail', 'snake', 'snapper', 'snipe', 'sow', 'spaniel', 'sparrow', 'spider', 'sponge', 'sprat', 'squab', 'squirrel', 'stag', 'stallion', 'starfish', 'starling', 'steed', 'steer', 'stork', 'sturgeon', 'sunfish', 'swallow', 'swan', 'swift', 'swine', 'tabby', 'tadpole', 'takin', 'tanager', 'tern', 'terrier', 'thoroughbred', 'thrush', 'tick', 'tiger', 'titmouse', 'toad', 'tortoise', 'tortuga', 'triggerfish', 'trotter', 'trout', 'trumpeter', 'tunny', 'turbot', 'turkey', 'turtle', 'unicorn', 'urchin', 'veal', 'vermin', 'viper', 'vulture', 'walrus', 'warbler', 'wasp', 'water', 'waterfowl', 'weasel', 'whale', 'whelp', 'whiff', 'whitefish', 'whiting', 'wildcat', 'winkle', 'wolf', 'wolfhound', 'wolverine', 'wolves', 'woman', 'woodchuck', 'woodcock', 'woodpecker', 'worm', 'wren', 'yak', 'yellowlegs', 'zebra']\n"
     ]
    }
   ],
   "source": [
    "df = pd.read_csv(\"../forager/data/lexical_data/50_dim_lexical_data/alpha_0.7_w2v/frequencies.csv\")\n",
    "words = df[\"adder\"].tolist()\n",
    "words.append(\"adder\")\n",
    "words.sort()\n",
    "print(words)\n",
    "\n",
    "vocab = pd.DataFrame(words, columns=[\"word\"])\n",
    "vocab.to_csv(\"../forager/data/lexical_data/vocab.csv\", index=False)"
   ]
  },
  {
   "cell_type": "code",
   "execution_count": null,
   "metadata": {},
   "outputs": [],
   "source": []
  }
 ],
 "metadata": {
  "kernelspec": {
   "display_name": "ML",
   "language": "python",
   "name": "python3"
  },
  "language_info": {
   "codemirror_mode": {
    "name": "ipython",
    "version": 3
   },
   "file_extension": ".py",
   "mimetype": "text/x-python",
   "name": "python",
   "nbconvert_exporter": "python",
   "pygments_lexer": "ipython3",
   "version": "3.9.18"
  }
 },
 "nbformat": 4,
 "nbformat_minor": 2
}
